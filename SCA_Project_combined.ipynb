{
  "nbformat": 4,
  "nbformat_minor": 0,
  "metadata": {
    "colab": {
      "name": "SCA Project combined.ipynb",
      "provenance": [],
      "collapsed_sections": [
        "fVdtpOQuaSct",
        "uppDuvKQHUOX"
      ],
      "authorship_tag": "ABX9TyOCVFAgiNCPhUAa6T96SkPK",
      "include_colab_link": true
    },
    "kernelspec": {
      "name": "python3",
      "display_name": "Python 3"
    },
    "language_info": {
      "name": "python"
    }
  },
  "cells": [
    {
      "cell_type": "markdown",
      "metadata": {
        "id": "view-in-github",
        "colab_type": "text"
      },
      "source": [
        "<a href=\"https://colab.research.google.com/github/ragul-adhithya/ragul-adhithya/blob/main/SCA_Project_combined.ipynb\" target=\"_parent\"><img src=\"https://colab.research.google.com/assets/colab-badge.svg\" alt=\"Open In Colab\"/></a>"
      ]
    },
    {
      "cell_type": "code",
      "execution_count": null,
      "metadata": {
        "id": "fOr8I4zClP9n",
        "colab": {
          "base_uri": "https://localhost:8080/"
        },
        "outputId": "32a7109a-488c-4354-b5cd-5766c8790755"
      },
      "outputs": [
        {
          "output_type": "stream",
          "name": "stderr",
          "text": [
            "/usr/local/lib/python3.7/dist-packages/statsmodels/tools/_testing.py:19: FutureWarning: pandas.util.testing is deprecated. Use the functions in the public API at pandas.testing instead.\n",
            "  import pandas.util.testing as tm\n"
          ]
        }
      ],
      "source": [
        "import pandas as pd\n",
        "import numpy as np\n",
        "import pandas_profiling\n",
        "import math\n",
        "from statsmodels.tsa.api import ExponentialSmoothing\n",
        "from statsmodels.tsa.seasonal import seasonal_decompose\n",
        "import pandas as pd\n",
        "from statsmodels.tsa.api import ExponentialSmoothing\n",
        "import matplotlib.pyplot as plt \n",
        "from sklearn.metrics import mean_squared_error\n",
        "from math import sqrt\n",
        "from statsmodels.tsa.seasonal import seasonal_decompose\n",
        "import itertools\n",
        "import statsmodels.api as sm"
      ]
    },
    {
      "cell_type": "markdown",
      "source": [
        "Import Sales Excel File and assigning it to a dataframe"
      ],
      "metadata": {
        "id": "A3iTUaBrlc6G"
      }
    },
    {
      "cell_type": "code",
      "source": [
        "import io\n",
        "from google.colab import files\n",
        "uploaded = files.upload()"
      ],
      "metadata": {
        "colab": {
          "resources": {
            "http://localhost:8080/nbextensions/google.colab/files.js": {
              "data": "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",
              "ok": true,
              "headers": [
                [
                  "content-type",
                  "application/javascript"
                ]
              ],
              "status": 200,
              "status_text": ""
            }
          },
          "base_uri": "https://localhost:8080/",
          "height": 73
        },
        "id": "UMlk3W1Gle8k",
        "outputId": "ef546fdf-817d-49c9-80cb-d8b530c64ceb"
      },
      "execution_count": null,
      "outputs": [
        {
          "output_type": "display_data",
          "data": {
            "text/plain": [
              "<IPython.core.display.HTML object>"
            ],
            "text/html": [
              "\n",
              "     <input type=\"file\" id=\"files-672bda4e-b4ae-4b91-b478-1616a3f8238c\" name=\"files[]\" multiple disabled\n",
              "        style=\"border:none\" />\n",
              "     <output id=\"result-672bda4e-b4ae-4b91-b478-1616a3f8238c\">\n",
              "      Upload widget is only available when the cell has been executed in the\n",
              "      current browser session. Please rerun this cell to enable.\n",
              "      </output>\n",
              "      <script src=\"/nbextensions/google.colab/files.js\"></script> "
            ]
          },
          "metadata": {}
        },
        {
          "output_type": "stream",
          "name": "stdout",
          "text": [
            "Saving Combined_Sales.xlsx to Combined_Sales.xlsx\n"
          ]
        }
      ]
    },
    {
      "cell_type": "code",
      "source": [
        "df_sales = pd.read_excel(io.BytesIO(uploaded.get('Combined_Sales.xlsx')))\n",
        "df_sales.head()"
      ],
      "metadata": {
        "colab": {
          "base_uri": "https://localhost:8080/",
          "height": 206
        },
        "id": "qFxmHYjOmhMT",
        "outputId": "1c9549ea-a4b4-4b76-ae59-12c93312ad19"
      },
      "execution_count": null,
      "outputs": [
        {
          "output_type": "execute_result",
          "data": {
            "text/plain": [
              "   Unnamed: 0  trinvdate   hname  trinvno trcash         cquant  trquan  \\\n",
              "0           0 2018-04-01  CU0000        2     CR  BAG OF 75 KGS      27   \n",
              "1           1 2018-04-01  CU0001        3     CR  BAG OF 75 KGS      30   \n",
              "2           2 2018-04-01  CU0002        1     CR  BAG OF 75 KGS      25   \n",
              "3           3 2018-04-01  CU0003        4     CR  BAG OF 25 KGS      20   \n",
              "4           4 2018-04-01  CU0003        4     CR  BAG OF 10 KGS      30   \n",
              "\n",
              "   trweight  trrate  tramount  advance  lesamt SUBREGION   REGION  \n",
              "0     2.025  2400.0   64800.0      0.0     0.0   TIRUPUR  TIRUPUR  \n",
              "1     2.250  1920.0   57600.0      0.0     0.0   TIRUPUR  TIRUPUR  \n",
              "2     1.875  2400.0   60000.0      0.0     0.0   TIRUPUR  TIRUPUR  \n",
              "3     0.500  1088.0   21760.0      0.0     0.0     ERODE    ERODE  \n",
              "4     0.300   444.0   13320.0      0.0     0.0     ERODE    ERODE  "
            ],
            "text/html": [
              "\n",
              "  <div id=\"df-9f3b8b1f-9ce3-4388-af76-c855c89579f9\">\n",
              "    <div class=\"colab-df-container\">\n",
              "      <div>\n",
              "<style scoped>\n",
              "    .dataframe tbody tr th:only-of-type {\n",
              "        vertical-align: middle;\n",
              "    }\n",
              "\n",
              "    .dataframe tbody tr th {\n",
              "        vertical-align: top;\n",
              "    }\n",
              "\n",
              "    .dataframe thead th {\n",
              "        text-align: right;\n",
              "    }\n",
              "</style>\n",
              "<table border=\"1\" class=\"dataframe\">\n",
              "  <thead>\n",
              "    <tr style=\"text-align: right;\">\n",
              "      <th></th>\n",
              "      <th>Unnamed: 0</th>\n",
              "      <th>trinvdate</th>\n",
              "      <th>hname</th>\n",
              "      <th>trinvno</th>\n",
              "      <th>trcash</th>\n",
              "      <th>cquant</th>\n",
              "      <th>trquan</th>\n",
              "      <th>trweight</th>\n",
              "      <th>trrate</th>\n",
              "      <th>tramount</th>\n",
              "      <th>advance</th>\n",
              "      <th>lesamt</th>\n",
              "      <th>SUBREGION</th>\n",
              "      <th>REGION</th>\n",
              "    </tr>\n",
              "  </thead>\n",
              "  <tbody>\n",
              "    <tr>\n",
              "      <th>0</th>\n",
              "      <td>0</td>\n",
              "      <td>2018-04-01</td>\n",
              "      <td>CU0000</td>\n",
              "      <td>2</td>\n",
              "      <td>CR</td>\n",
              "      <td>BAG OF 75 KGS</td>\n",
              "      <td>27</td>\n",
              "      <td>2.025</td>\n",
              "      <td>2400.0</td>\n",
              "      <td>64800.0</td>\n",
              "      <td>0.0</td>\n",
              "      <td>0.0</td>\n",
              "      <td>TIRUPUR</td>\n",
              "      <td>TIRUPUR</td>\n",
              "    </tr>\n",
              "    <tr>\n",
              "      <th>1</th>\n",
              "      <td>1</td>\n",
              "      <td>2018-04-01</td>\n",
              "      <td>CU0001</td>\n",
              "      <td>3</td>\n",
              "      <td>CR</td>\n",
              "      <td>BAG OF 75 KGS</td>\n",
              "      <td>30</td>\n",
              "      <td>2.250</td>\n",
              "      <td>1920.0</td>\n",
              "      <td>57600.0</td>\n",
              "      <td>0.0</td>\n",
              "      <td>0.0</td>\n",
              "      <td>TIRUPUR</td>\n",
              "      <td>TIRUPUR</td>\n",
              "    </tr>\n",
              "    <tr>\n",
              "      <th>2</th>\n",
              "      <td>2</td>\n",
              "      <td>2018-04-01</td>\n",
              "      <td>CU0002</td>\n",
              "      <td>1</td>\n",
              "      <td>CR</td>\n",
              "      <td>BAG OF 75 KGS</td>\n",
              "      <td>25</td>\n",
              "      <td>1.875</td>\n",
              "      <td>2400.0</td>\n",
              "      <td>60000.0</td>\n",
              "      <td>0.0</td>\n",
              "      <td>0.0</td>\n",
              "      <td>TIRUPUR</td>\n",
              "      <td>TIRUPUR</td>\n",
              "    </tr>\n",
              "    <tr>\n",
              "      <th>3</th>\n",
              "      <td>3</td>\n",
              "      <td>2018-04-01</td>\n",
              "      <td>CU0003</td>\n",
              "      <td>4</td>\n",
              "      <td>CR</td>\n",
              "      <td>BAG OF 25 KGS</td>\n",
              "      <td>20</td>\n",
              "      <td>0.500</td>\n",
              "      <td>1088.0</td>\n",
              "      <td>21760.0</td>\n",
              "      <td>0.0</td>\n",
              "      <td>0.0</td>\n",
              "      <td>ERODE</td>\n",
              "      <td>ERODE</td>\n",
              "    </tr>\n",
              "    <tr>\n",
              "      <th>4</th>\n",
              "      <td>4</td>\n",
              "      <td>2018-04-01</td>\n",
              "      <td>CU0003</td>\n",
              "      <td>4</td>\n",
              "      <td>CR</td>\n",
              "      <td>BAG OF 10 KGS</td>\n",
              "      <td>30</td>\n",
              "      <td>0.300</td>\n",
              "      <td>444.0</td>\n",
              "      <td>13320.0</td>\n",
              "      <td>0.0</td>\n",
              "      <td>0.0</td>\n",
              "      <td>ERODE</td>\n",
              "      <td>ERODE</td>\n",
              "    </tr>\n",
              "  </tbody>\n",
              "</table>\n",
              "</div>\n",
              "      <button class=\"colab-df-convert\" onclick=\"convertToInteractive('df-9f3b8b1f-9ce3-4388-af76-c855c89579f9')\"\n",
              "              title=\"Convert this dataframe to an interactive table.\"\n",
              "              style=\"display:none;\">\n",
              "        \n",
              "  <svg xmlns=\"http://www.w3.org/2000/svg\" height=\"24px\"viewBox=\"0 0 24 24\"\n",
              "       width=\"24px\">\n",
              "    <path d=\"M0 0h24v24H0V0z\" fill=\"none\"/>\n",
              "    <path d=\"M18.56 5.44l.94 2.06.94-2.06 2.06-.94-2.06-.94-.94-2.06-.94 2.06-2.06.94zm-11 1L8.5 8.5l.94-2.06 2.06-.94-2.06-.94L8.5 2.5l-.94 2.06-2.06.94zm10 10l.94 2.06.94-2.06 2.06-.94-2.06-.94-.94-2.06-.94 2.06-2.06.94z\"/><path d=\"M17.41 7.96l-1.37-1.37c-.4-.4-.92-.59-1.43-.59-.52 0-1.04.2-1.43.59L10.3 9.45l-7.72 7.72c-.78.78-.78 2.05 0 2.83L4 21.41c.39.39.9.59 1.41.59.51 0 1.02-.2 1.41-.59l7.78-7.78 2.81-2.81c.8-.78.8-2.07 0-2.86zM5.41 20L4 18.59l7.72-7.72 1.47 1.35L5.41 20z\"/>\n",
              "  </svg>\n",
              "      </button>\n",
              "      \n",
              "  <style>\n",
              "    .colab-df-container {\n",
              "      display:flex;\n",
              "      flex-wrap:wrap;\n",
              "      gap: 12px;\n",
              "    }\n",
              "\n",
              "    .colab-df-convert {\n",
              "      background-color: #E8F0FE;\n",
              "      border: none;\n",
              "      border-radius: 50%;\n",
              "      cursor: pointer;\n",
              "      display: none;\n",
              "      fill: #1967D2;\n",
              "      height: 32px;\n",
              "      padding: 0 0 0 0;\n",
              "      width: 32px;\n",
              "    }\n",
              "\n",
              "    .colab-df-convert:hover {\n",
              "      background-color: #E2EBFA;\n",
              "      box-shadow: 0px 1px 2px rgba(60, 64, 67, 0.3), 0px 1px 3px 1px rgba(60, 64, 67, 0.15);\n",
              "      fill: #174EA6;\n",
              "    }\n",
              "\n",
              "    [theme=dark] .colab-df-convert {\n",
              "      background-color: #3B4455;\n",
              "      fill: #D2E3FC;\n",
              "    }\n",
              "\n",
              "    [theme=dark] .colab-df-convert:hover {\n",
              "      background-color: #434B5C;\n",
              "      box-shadow: 0px 1px 3px 1px rgba(0, 0, 0, 0.15);\n",
              "      filter: drop-shadow(0px 1px 2px rgba(0, 0, 0, 0.3));\n",
              "      fill: #FFFFFF;\n",
              "    }\n",
              "  </style>\n",
              "\n",
              "      <script>\n",
              "        const buttonEl =\n",
              "          document.querySelector('#df-9f3b8b1f-9ce3-4388-af76-c855c89579f9 button.colab-df-convert');\n",
              "        buttonEl.style.display =\n",
              "          google.colab.kernel.accessAllowed ? 'block' : 'none';\n",
              "\n",
              "        async function convertToInteractive(key) {\n",
              "          const element = document.querySelector('#df-9f3b8b1f-9ce3-4388-af76-c855c89579f9');\n",
              "          const dataTable =\n",
              "            await google.colab.kernel.invokeFunction('convertToInteractive',\n",
              "                                                     [key], {});\n",
              "          if (!dataTable) return;\n",
              "\n",
              "          const docLinkHtml = 'Like what you see? Visit the ' +\n",
              "            '<a target=\"_blank\" href=https://colab.research.google.com/notebooks/data_table.ipynb>data table notebook</a>'\n",
              "            + ' to learn more about interactive tables.';\n",
              "          element.innerHTML = '';\n",
              "          dataTable['output_type'] = 'display_data';\n",
              "          await google.colab.output.renderOutput(dataTable, element);\n",
              "          const docLink = document.createElement('div');\n",
              "          docLink.innerHTML = docLinkHtml;\n",
              "          element.appendChild(docLink);\n",
              "        }\n",
              "      </script>\n",
              "    </div>\n",
              "  </div>\n",
              "  "
            ]
          },
          "metadata": {},
          "execution_count": 3
        }
      ]
    },
    {
      "cell_type": "code",
      "source": [
        "uploaded = files.upload()"
      ],
      "metadata": {
        "colab": {
          "resources": {
            "http://localhost:8080/nbextensions/google.colab/files.js": {
              "data": "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",
              "ok": true,
              "headers": [
                [
                  "content-type",
                  "application/javascript"
                ]
              ],
              "status": 200,
              "status_text": ""
            }
          },
          "base_uri": "https://localhost:8080/",
          "height": 73
        },
        "id": "LT6Gyy4rm0A_",
        "outputId": "d718362d-2bd5-4593-8e70-61a36c02d9a3"
      },
      "execution_count": null,
      "outputs": [
        {
          "output_type": "display_data",
          "data": {
            "text/plain": [
              "<IPython.core.display.HTML object>"
            ],
            "text/html": [
              "\n",
              "     <input type=\"file\" id=\"files-fe6163e1-2e1a-425e-8ca4-8f4c55286158\" name=\"files[]\" multiple disabled\n",
              "        style=\"border:none\" />\n",
              "     <output id=\"result-fe6163e1-2e1a-425e-8ca4-8f4c55286158\">\n",
              "      Upload widget is only available when the cell has been executed in the\n",
              "      current browser session. Please rerun this cell to enable.\n",
              "      </output>\n",
              "      <script src=\"/nbextensions/google.colab/files.js\"></script> "
            ]
          },
          "metadata": {}
        },
        {
          "output_type": "stream",
          "name": "stdout",
          "text": [
            "Saving Combined-Purchase.xlsx to Combined-Purchase.xlsx\n"
          ]
        }
      ]
    },
    {
      "cell_type": "code",
      "source": [
        "df_purchase = pd.read_excel(io.BytesIO(uploaded.get('Combined-Purchase.xlsx')))\n",
        "df_purchase.head()"
      ],
      "metadata": {
        "colab": {
          "base_uri": "https://localhost:8080/",
          "height": 206
        },
        "id": "OjXS8OJknBut",
        "outputId": "837cbcdd-b685-4be1-a658-f8784c2518f6"
      },
      "execution_count": null,
      "outputs": [
        {
          "output_type": "execute_result",
          "data": {
            "text/plain": [
              "   Unnamed: 0       Date Customer_ID  Vch Type Vch No.  Quantity   Rate  \\\n",
              "0           0 2018-04-01      CU0000  Purchase       1   21900.0  26.15   \n",
              "1           1 2018-04-01      CU0001  Purchase       2   21400.0  25.96   \n",
              "2           2 2018-04-01      CU0000  Purchase       3   22540.0  26.15   \n",
              "3           3 2018-04-02      CU0000  Purchase       4   21440.0  26.62   \n",
              "4           4 2018-04-02      CU0000  Purchase       5   21500.0  26.38   \n",
              "\n",
              "      Value  \n",
              "0  572685.0  \n",
              "1  555544.0  \n",
              "2  589421.0  \n",
              "3  570733.0  \n",
              "4  567170.0  "
            ],
            "text/html": [
              "\n",
              "  <div id=\"df-72a6782e-2954-44d6-9a51-9ed60ecc5321\">\n",
              "    <div class=\"colab-df-container\">\n",
              "      <div>\n",
              "<style scoped>\n",
              "    .dataframe tbody tr th:only-of-type {\n",
              "        vertical-align: middle;\n",
              "    }\n",
              "\n",
              "    .dataframe tbody tr th {\n",
              "        vertical-align: top;\n",
              "    }\n",
              "\n",
              "    .dataframe thead th {\n",
              "        text-align: right;\n",
              "    }\n",
              "</style>\n",
              "<table border=\"1\" class=\"dataframe\">\n",
              "  <thead>\n",
              "    <tr style=\"text-align: right;\">\n",
              "      <th></th>\n",
              "      <th>Unnamed: 0</th>\n",
              "      <th>Date</th>\n",
              "      <th>Customer_ID</th>\n",
              "      <th>Vch Type</th>\n",
              "      <th>Vch No.</th>\n",
              "      <th>Quantity</th>\n",
              "      <th>Rate</th>\n",
              "      <th>Value</th>\n",
              "    </tr>\n",
              "  </thead>\n",
              "  <tbody>\n",
              "    <tr>\n",
              "      <th>0</th>\n",
              "      <td>0</td>\n",
              "      <td>2018-04-01</td>\n",
              "      <td>CU0000</td>\n",
              "      <td>Purchase</td>\n",
              "      <td>1</td>\n",
              "      <td>21900.0</td>\n",
              "      <td>26.15</td>\n",
              "      <td>572685.0</td>\n",
              "    </tr>\n",
              "    <tr>\n",
              "      <th>1</th>\n",
              "      <td>1</td>\n",
              "      <td>2018-04-01</td>\n",
              "      <td>CU0001</td>\n",
              "      <td>Purchase</td>\n",
              "      <td>2</td>\n",
              "      <td>21400.0</td>\n",
              "      <td>25.96</td>\n",
              "      <td>555544.0</td>\n",
              "    </tr>\n",
              "    <tr>\n",
              "      <th>2</th>\n",
              "      <td>2</td>\n",
              "      <td>2018-04-01</td>\n",
              "      <td>CU0000</td>\n",
              "      <td>Purchase</td>\n",
              "      <td>3</td>\n",
              "      <td>22540.0</td>\n",
              "      <td>26.15</td>\n",
              "      <td>589421.0</td>\n",
              "    </tr>\n",
              "    <tr>\n",
              "      <th>3</th>\n",
              "      <td>3</td>\n",
              "      <td>2018-04-02</td>\n",
              "      <td>CU0000</td>\n",
              "      <td>Purchase</td>\n",
              "      <td>4</td>\n",
              "      <td>21440.0</td>\n",
              "      <td>26.62</td>\n",
              "      <td>570733.0</td>\n",
              "    </tr>\n",
              "    <tr>\n",
              "      <th>4</th>\n",
              "      <td>4</td>\n",
              "      <td>2018-04-02</td>\n",
              "      <td>CU0000</td>\n",
              "      <td>Purchase</td>\n",
              "      <td>5</td>\n",
              "      <td>21500.0</td>\n",
              "      <td>26.38</td>\n",
              "      <td>567170.0</td>\n",
              "    </tr>\n",
              "  </tbody>\n",
              "</table>\n",
              "</div>\n",
              "      <button class=\"colab-df-convert\" onclick=\"convertToInteractive('df-72a6782e-2954-44d6-9a51-9ed60ecc5321')\"\n",
              "              title=\"Convert this dataframe to an interactive table.\"\n",
              "              style=\"display:none;\">\n",
              "        \n",
              "  <svg xmlns=\"http://www.w3.org/2000/svg\" height=\"24px\"viewBox=\"0 0 24 24\"\n",
              "       width=\"24px\">\n",
              "    <path d=\"M0 0h24v24H0V0z\" fill=\"none\"/>\n",
              "    <path d=\"M18.56 5.44l.94 2.06.94-2.06 2.06-.94-2.06-.94-.94-2.06-.94 2.06-2.06.94zm-11 1L8.5 8.5l.94-2.06 2.06-.94-2.06-.94L8.5 2.5l-.94 2.06-2.06.94zm10 10l.94 2.06.94-2.06 2.06-.94-2.06-.94-.94-2.06-.94 2.06-2.06.94z\"/><path d=\"M17.41 7.96l-1.37-1.37c-.4-.4-.92-.59-1.43-.59-.52 0-1.04.2-1.43.59L10.3 9.45l-7.72 7.72c-.78.78-.78 2.05 0 2.83L4 21.41c.39.39.9.59 1.41.59.51 0 1.02-.2 1.41-.59l7.78-7.78 2.81-2.81c.8-.78.8-2.07 0-2.86zM5.41 20L4 18.59l7.72-7.72 1.47 1.35L5.41 20z\"/>\n",
              "  </svg>\n",
              "      </button>\n",
              "      \n",
              "  <style>\n",
              "    .colab-df-container {\n",
              "      display:flex;\n",
              "      flex-wrap:wrap;\n",
              "      gap: 12px;\n",
              "    }\n",
              "\n",
              "    .colab-df-convert {\n",
              "      background-color: #E8F0FE;\n",
              "      border: none;\n",
              "      border-radius: 50%;\n",
              "      cursor: pointer;\n",
              "      display: none;\n",
              "      fill: #1967D2;\n",
              "      height: 32px;\n",
              "      padding: 0 0 0 0;\n",
              "      width: 32px;\n",
              "    }\n",
              "\n",
              "    .colab-df-convert:hover {\n",
              "      background-color: #E2EBFA;\n",
              "      box-shadow: 0px 1px 2px rgba(60, 64, 67, 0.3), 0px 1px 3px 1px rgba(60, 64, 67, 0.15);\n",
              "      fill: #174EA6;\n",
              "    }\n",
              "\n",
              "    [theme=dark] .colab-df-convert {\n",
              "      background-color: #3B4455;\n",
              "      fill: #D2E3FC;\n",
              "    }\n",
              "\n",
              "    [theme=dark] .colab-df-convert:hover {\n",
              "      background-color: #434B5C;\n",
              "      box-shadow: 0px 1px 3px 1px rgba(0, 0, 0, 0.15);\n",
              "      filter: drop-shadow(0px 1px 2px rgba(0, 0, 0, 0.3));\n",
              "      fill: #FFFFFF;\n",
              "    }\n",
              "  </style>\n",
              "\n",
              "      <script>\n",
              "        const buttonEl =\n",
              "          document.querySelector('#df-72a6782e-2954-44d6-9a51-9ed60ecc5321 button.colab-df-convert');\n",
              "        buttonEl.style.display =\n",
              "          google.colab.kernel.accessAllowed ? 'block' : 'none';\n",
              "\n",
              "        async function convertToInteractive(key) {\n",
              "          const element = document.querySelector('#df-72a6782e-2954-44d6-9a51-9ed60ecc5321');\n",
              "          const dataTable =\n",
              "            await google.colab.kernel.invokeFunction('convertToInteractive',\n",
              "                                                     [key], {});\n",
              "          if (!dataTable) return;\n",
              "\n",
              "          const docLinkHtml = 'Like what you see? Visit the ' +\n",
              "            '<a target=\"_blank\" href=https://colab.research.google.com/notebooks/data_table.ipynb>data table notebook</a>'\n",
              "            + ' to learn more about interactive tables.';\n",
              "          element.innerHTML = '';\n",
              "          dataTable['output_type'] = 'display_data';\n",
              "          await google.colab.output.renderOutput(dataTable, element);\n",
              "          const docLink = document.createElement('div');\n",
              "          docLink.innerHTML = docLinkHtml;\n",
              "          element.appendChild(docLink);\n",
              "        }\n",
              "      </script>\n",
              "    </div>\n",
              "  </div>\n",
              "  "
            ]
          },
          "metadata": {},
          "execution_count": 5
        }
      ]
    },
    {
      "cell_type": "markdown",
      "source": [
        "# Cleaning the Purchase Data"
      ],
      "metadata": {
        "id": "fVdtpOQuaSct"
      }
    },
    {
      "cell_type": "code",
      "source": [
        "df_purchase = df_purchase.dropna(how='any')\n",
        "\n",
        "df_price = df_purchase[['Date','Rate','Quantity']].copy()\n",
        "\n",
        "df_price['Month'] = pd.DatetimeIndex(df_price['Date']).month_name()\n",
        "df_price['Year'] = pd.DatetimeIndex(df_price[\"Date\"]).year\n",
        "df_price[\"Year\"]=df_price[\"Year\"].astype(str)\n",
        "df_price['Month_N'] = pd.DatetimeIndex(df_price['Date']).month\n",
        "from datetime import date\n",
        "df_price['Week']= df_price['Date'].dt.isocalendar().week\n",
        "\n",
        "\n",
        "df_purchase_d = df_price.groupby(['Year','Date'])['Rate'].mean().reset_index()\n",
        "\n",
        "df_purchase_d.sort_values(['Year','Date'],inplace = True)\n",
        "\n",
        "df_purchase_m = df_price.groupby(['Year','Month'])['Rate'].mean().reset_index()\n",
        "\n",
        "df_purchase_m.sort_values(['Year','Month'],inplace = True)\n",
        "\n",
        "whole_month_purchase = df_purchase_m[['Rate','Year','Month']]"
      ],
      "metadata": {
        "id": "oCzd8vrhzTtG"
      },
      "execution_count": null,
      "outputs": []
    },
    {
      "cell_type": "markdown",
      "source": [
        "# Preparing the dataset of Sales"
      ],
      "metadata": {
        "id": "4-RVAT6ynr51"
      }
    },
    {
      "cell_type": "code",
      "source": [
        "df_sales.describe()"
      ],
      "metadata": {
        "colab": {
          "base_uri": "https://localhost:8080/",
          "height": 300
        },
        "id": "tLvpHmdsnlHW",
        "outputId": "159b1662-887f-484a-eaa3-5e77d9ddb751"
      },
      "execution_count": null,
      "outputs": [
        {
          "output_type": "execute_result",
          "data": {
            "text/plain": [
              "         Unnamed: 0       trinvno        trquan      trweight        trrate  \\\n",
              "count  21044.000000  21044.000000  21044.000000  21044.000000  21044.000000   \n",
              "mean    3507.144364   1373.172971    139.958468      2.506516    847.765026   \n",
              "std     2025.548501    793.948472    146.835283      3.232618    729.668678   \n",
              "min        0.000000      1.000000      1.000000      0.005000     16.000000   \n",
              "25%     1753.000000    711.000000     30.000000      0.500000    348.000000   \n",
              "50%     3507.000000   1364.000000    100.000000      1.125000    800.000000   \n",
              "75%     5260.250000   2037.000000    200.000000      3.000000   1048.000000   \n",
              "max     7105.000000   2920.000000   3000.000000     30.000000   3600.000000   \n",
              "\n",
              "           tramount       advance        lesamt  \n",
              "count  2.104400e+04  19246.000000  19240.000000  \n",
              "mean   9.983202e+04  -1772.533254    309.149324  \n",
              "std    1.298507e+05   3420.873231   1200.109867  \n",
              "min    2.000000e+02 -12750.000000      0.000000  \n",
              "25%    1.696000e+04      0.000000      0.000000  \n",
              "50%    4.600000e+04      0.000000      0.000000  \n",
              "75%    1.224000e+05      0.000000      0.000000  \n",
              "max    1.353600e+06   2425.000000  19810.000000  "
            ],
            "text/html": [
              "\n",
              "  <div id=\"df-be9a0b1d-d197-4cdd-a11a-1020b9a747c3\">\n",
              "    <div class=\"colab-df-container\">\n",
              "      <div>\n",
              "<style scoped>\n",
              "    .dataframe tbody tr th:only-of-type {\n",
              "        vertical-align: middle;\n",
              "    }\n",
              "\n",
              "    .dataframe tbody tr th {\n",
              "        vertical-align: top;\n",
              "    }\n",
              "\n",
              "    .dataframe thead th {\n",
              "        text-align: right;\n",
              "    }\n",
              "</style>\n",
              "<table border=\"1\" class=\"dataframe\">\n",
              "  <thead>\n",
              "    <tr style=\"text-align: right;\">\n",
              "      <th></th>\n",
              "      <th>Unnamed: 0</th>\n",
              "      <th>trinvno</th>\n",
              "      <th>trquan</th>\n",
              "      <th>trweight</th>\n",
              "      <th>trrate</th>\n",
              "      <th>tramount</th>\n",
              "      <th>advance</th>\n",
              "      <th>lesamt</th>\n",
              "    </tr>\n",
              "  </thead>\n",
              "  <tbody>\n",
              "    <tr>\n",
              "      <th>count</th>\n",
              "      <td>21044.000000</td>\n",
              "      <td>21044.000000</td>\n",
              "      <td>21044.000000</td>\n",
              "      <td>21044.000000</td>\n",
              "      <td>21044.000000</td>\n",
              "      <td>2.104400e+04</td>\n",
              "      <td>19246.000000</td>\n",
              "      <td>19240.000000</td>\n",
              "    </tr>\n",
              "    <tr>\n",
              "      <th>mean</th>\n",
              "      <td>3507.144364</td>\n",
              "      <td>1373.172971</td>\n",
              "      <td>139.958468</td>\n",
              "      <td>2.506516</td>\n",
              "      <td>847.765026</td>\n",
              "      <td>9.983202e+04</td>\n",
              "      <td>-1772.533254</td>\n",
              "      <td>309.149324</td>\n",
              "    </tr>\n",
              "    <tr>\n",
              "      <th>std</th>\n",
              "      <td>2025.548501</td>\n",
              "      <td>793.948472</td>\n",
              "      <td>146.835283</td>\n",
              "      <td>3.232618</td>\n",
              "      <td>729.668678</td>\n",
              "      <td>1.298507e+05</td>\n",
              "      <td>3420.873231</td>\n",
              "      <td>1200.109867</td>\n",
              "    </tr>\n",
              "    <tr>\n",
              "      <th>min</th>\n",
              "      <td>0.000000</td>\n",
              "      <td>1.000000</td>\n",
              "      <td>1.000000</td>\n",
              "      <td>0.005000</td>\n",
              "      <td>16.000000</td>\n",
              "      <td>2.000000e+02</td>\n",
              "      <td>-12750.000000</td>\n",
              "      <td>0.000000</td>\n",
              "    </tr>\n",
              "    <tr>\n",
              "      <th>25%</th>\n",
              "      <td>1753.000000</td>\n",
              "      <td>711.000000</td>\n",
              "      <td>30.000000</td>\n",
              "      <td>0.500000</td>\n",
              "      <td>348.000000</td>\n",
              "      <td>1.696000e+04</td>\n",
              "      <td>0.000000</td>\n",
              "      <td>0.000000</td>\n",
              "    </tr>\n",
              "    <tr>\n",
              "      <th>50%</th>\n",
              "      <td>3507.000000</td>\n",
              "      <td>1364.000000</td>\n",
              "      <td>100.000000</td>\n",
              "      <td>1.125000</td>\n",
              "      <td>800.000000</td>\n",
              "      <td>4.600000e+04</td>\n",
              "      <td>0.000000</td>\n",
              "      <td>0.000000</td>\n",
              "    </tr>\n",
              "    <tr>\n",
              "      <th>75%</th>\n",
              "      <td>5260.250000</td>\n",
              "      <td>2037.000000</td>\n",
              "      <td>200.000000</td>\n",
              "      <td>3.000000</td>\n",
              "      <td>1048.000000</td>\n",
              "      <td>1.224000e+05</td>\n",
              "      <td>0.000000</td>\n",
              "      <td>0.000000</td>\n",
              "    </tr>\n",
              "    <tr>\n",
              "      <th>max</th>\n",
              "      <td>7105.000000</td>\n",
              "      <td>2920.000000</td>\n",
              "      <td>3000.000000</td>\n",
              "      <td>30.000000</td>\n",
              "      <td>3600.000000</td>\n",
              "      <td>1.353600e+06</td>\n",
              "      <td>2425.000000</td>\n",
              "      <td>19810.000000</td>\n",
              "    </tr>\n",
              "  </tbody>\n",
              "</table>\n",
              "</div>\n",
              "      <button class=\"colab-df-convert\" onclick=\"convertToInteractive('df-be9a0b1d-d197-4cdd-a11a-1020b9a747c3')\"\n",
              "              title=\"Convert this dataframe to an interactive table.\"\n",
              "              style=\"display:none;\">\n",
              "        \n",
              "  <svg xmlns=\"http://www.w3.org/2000/svg\" height=\"24px\"viewBox=\"0 0 24 24\"\n",
              "       width=\"24px\">\n",
              "    <path d=\"M0 0h24v24H0V0z\" fill=\"none\"/>\n",
              "    <path d=\"M18.56 5.44l.94 2.06.94-2.06 2.06-.94-2.06-.94-.94-2.06-.94 2.06-2.06.94zm-11 1L8.5 8.5l.94-2.06 2.06-.94-2.06-.94L8.5 2.5l-.94 2.06-2.06.94zm10 10l.94 2.06.94-2.06 2.06-.94-2.06-.94-.94-2.06-.94 2.06-2.06.94z\"/><path d=\"M17.41 7.96l-1.37-1.37c-.4-.4-.92-.59-1.43-.59-.52 0-1.04.2-1.43.59L10.3 9.45l-7.72 7.72c-.78.78-.78 2.05 0 2.83L4 21.41c.39.39.9.59 1.41.59.51 0 1.02-.2 1.41-.59l7.78-7.78 2.81-2.81c.8-.78.8-2.07 0-2.86zM5.41 20L4 18.59l7.72-7.72 1.47 1.35L5.41 20z\"/>\n",
              "  </svg>\n",
              "      </button>\n",
              "      \n",
              "  <style>\n",
              "    .colab-df-container {\n",
              "      display:flex;\n",
              "      flex-wrap:wrap;\n",
              "      gap: 12px;\n",
              "    }\n",
              "\n",
              "    .colab-df-convert {\n",
              "      background-color: #E8F0FE;\n",
              "      border: none;\n",
              "      border-radius: 50%;\n",
              "      cursor: pointer;\n",
              "      display: none;\n",
              "      fill: #1967D2;\n",
              "      height: 32px;\n",
              "      padding: 0 0 0 0;\n",
              "      width: 32px;\n",
              "    }\n",
              "\n",
              "    .colab-df-convert:hover {\n",
              "      background-color: #E2EBFA;\n",
              "      box-shadow: 0px 1px 2px rgba(60, 64, 67, 0.3), 0px 1px 3px 1px rgba(60, 64, 67, 0.15);\n",
              "      fill: #174EA6;\n",
              "    }\n",
              "\n",
              "    [theme=dark] .colab-df-convert {\n",
              "      background-color: #3B4455;\n",
              "      fill: #D2E3FC;\n",
              "    }\n",
              "\n",
              "    [theme=dark] .colab-df-convert:hover {\n",
              "      background-color: #434B5C;\n",
              "      box-shadow: 0px 1px 3px 1px rgba(0, 0, 0, 0.15);\n",
              "      filter: drop-shadow(0px 1px 2px rgba(0, 0, 0, 0.3));\n",
              "      fill: #FFFFFF;\n",
              "    }\n",
              "  </style>\n",
              "\n",
              "      <script>\n",
              "        const buttonEl =\n",
              "          document.querySelector('#df-be9a0b1d-d197-4cdd-a11a-1020b9a747c3 button.colab-df-convert');\n",
              "        buttonEl.style.display =\n",
              "          google.colab.kernel.accessAllowed ? 'block' : 'none';\n",
              "\n",
              "        async function convertToInteractive(key) {\n",
              "          const element = document.querySelector('#df-be9a0b1d-d197-4cdd-a11a-1020b9a747c3');\n",
              "          const dataTable =\n",
              "            await google.colab.kernel.invokeFunction('convertToInteractive',\n",
              "                                                     [key], {});\n",
              "          if (!dataTable) return;\n",
              "\n",
              "          const docLinkHtml = 'Like what you see? Visit the ' +\n",
              "            '<a target=\"_blank\" href=https://colab.research.google.com/notebooks/data_table.ipynb>data table notebook</a>'\n",
              "            + ' to learn more about interactive tables.';\n",
              "          element.innerHTML = '';\n",
              "          dataTable['output_type'] = 'display_data';\n",
              "          await google.colab.output.renderOutput(dataTable, element);\n",
              "          const docLink = document.createElement('div');\n",
              "          docLink.innerHTML = docLinkHtml;\n",
              "          element.appendChild(docLink);\n",
              "        }\n",
              "      </script>\n",
              "    </div>\n",
              "  </div>\n",
              "  "
            ]
          },
          "metadata": {},
          "execution_count": 9
        }
      ]
    },
    {
      "cell_type": "code",
      "source": [
        "df_sales.dtypes"
      ],
      "metadata": {
        "colab": {
          "base_uri": "https://localhost:8080/"
        },
        "id": "NSgqaGRvoDXF",
        "outputId": "41501488-6b9b-4593-8337-99899758b701"
      },
      "execution_count": null,
      "outputs": [
        {
          "output_type": "execute_result",
          "data": {
            "text/plain": [
              "Unnamed: 0             int64\n",
              "trinvdate     datetime64[ns]\n",
              "hname                 object\n",
              "trinvno                int64\n",
              "trcash                object\n",
              "cquant                object\n",
              "trquan                 int64\n",
              "trweight             float64\n",
              "trrate               float64\n",
              "tramount             float64\n",
              "advance              float64\n",
              "lesamt               float64\n",
              "SUBREGION             object\n",
              "REGION                object\n",
              "dtype: object"
            ]
          },
          "metadata": {},
          "execution_count": 11
        }
      ]
    },
    {
      "cell_type": "code",
      "source": [
        "df_sales.isnull().sum() #checking for missing values"
      ],
      "metadata": {
        "colab": {
          "base_uri": "https://localhost:8080/"
        },
        "id": "WUz79B05oI0T",
        "outputId": "23d2fc97-6629-44ae-fe75-19bcbe55469b"
      },
      "execution_count": null,
      "outputs": [
        {
          "output_type": "execute_result",
          "data": {
            "text/plain": [
              "Unnamed: 0       0\n",
              "trinvdate        0\n",
              "hname            0\n",
              "trinvno          0\n",
              "trcash           0\n",
              "cquant           0\n",
              "trquan           0\n",
              "trweight         0\n",
              "trrate           0\n",
              "tramount         0\n",
              "advance       1798\n",
              "lesamt        1804\n",
              "SUBREGION        0\n",
              "REGION           0\n",
              "dtype: int64"
            ]
          },
          "metadata": {},
          "execution_count": 12
        }
      ]
    },
    {
      "cell_type": "code",
      "source": [
        "#here we fill the cells will lesamt and advance as they can have 0\n",
        "\n",
        "df_sales.fillna(0)\n",
        "\n",
        "df_sales.isnull().sum()"
      ],
      "metadata": {
        "colab": {
          "base_uri": "https://localhost:8080/"
        },
        "id": "OuhagZW0old5",
        "outputId": "7493d8b8-0537-407f-8de0-f6bd7225ac0d"
      },
      "execution_count": null,
      "outputs": [
        {
          "output_type": "execute_result",
          "data": {
            "text/plain": [
              "Unnamed: 0       0\n",
              "trinvdate        0\n",
              "hname            0\n",
              "trinvno          0\n",
              "trcash           0\n",
              "cquant           0\n",
              "trquan           0\n",
              "trweight         0\n",
              "trrate           0\n",
              "tramount         0\n",
              "advance       1798\n",
              "lesamt        1804\n",
              "SUBREGION        0\n",
              "REGION           0\n",
              "dtype: int64"
            ]
          },
          "metadata": {},
          "execution_count": 13
        }
      ]
    },
    {
      "cell_type": "code",
      "source": [
        "#renaming the columns for sales dataframe\n",
        "df_sales = df_sales.rename(columns = {'trinvdate':'Date','hname':'Party','trinvno':'No','trcash':'Cash/Credit',\\\n",
        "                 'cquant':'Bag','trquan':'Qty','trweight':'Weight', \\\n",
        "                     'trrate':'Price','tramount': 'Value', 'lesamt':'less','salesacamt':'Net_Value'})\n"
      ],
      "metadata": {
        "id": "ANk8ISD8oQFa"
      },
      "execution_count": null,
      "outputs": []
    },
    {
      "cell_type": "code",
      "source": [
        "\n",
        "#here we ignore all the cash sales due to business implications\n",
        "\n",
        "df_sales = df_sales.loc[df_sales['Cash/Credit'] == \"CR\"]\n",
        "df_sales.groupby('Cash/Credit').sum() # checking that only Credit Columns are taken into consideration"
      ],
      "metadata": {
        "colab": {
          "base_uri": "https://localhost:8080/",
          "height": 112
        },
        "id": "e9cGMjJqoNZR",
        "outputId": "6e48553f-4585-431c-c6a5-93575526aece"
      },
      "execution_count": null,
      "outputs": [
        {
          "output_type": "execute_result",
          "data": {
            "text/plain": [
              "             Unnamed: 0        No      Qty     Weight       Price  \\\n",
              "Cash/Credit                                                         \n",
              "CR             63425233  24798789  2915478  52063.444  15134232.8   \n",
              "\n",
              "                    Value     advance       less  \n",
              "Cash/Credit                                       \n",
              "CR           2.079684e+09 -34079175.0  5945783.0  "
            ],
            "text/html": [
              "\n",
              "  <div id=\"df-d7551372-5e20-43b7-a180-a140fd291fdb\">\n",
              "    <div class=\"colab-df-container\">\n",
              "      <div>\n",
              "<style scoped>\n",
              "    .dataframe tbody tr th:only-of-type {\n",
              "        vertical-align: middle;\n",
              "    }\n",
              "\n",
              "    .dataframe tbody tr th {\n",
              "        vertical-align: top;\n",
              "    }\n",
              "\n",
              "    .dataframe thead th {\n",
              "        text-align: right;\n",
              "    }\n",
              "</style>\n",
              "<table border=\"1\" class=\"dataframe\">\n",
              "  <thead>\n",
              "    <tr style=\"text-align: right;\">\n",
              "      <th></th>\n",
              "      <th>Unnamed: 0</th>\n",
              "      <th>No</th>\n",
              "      <th>Qty</th>\n",
              "      <th>Weight</th>\n",
              "      <th>Price</th>\n",
              "      <th>Value</th>\n",
              "      <th>advance</th>\n",
              "      <th>less</th>\n",
              "    </tr>\n",
              "    <tr>\n",
              "      <th>Cash/Credit</th>\n",
              "      <th></th>\n",
              "      <th></th>\n",
              "      <th></th>\n",
              "      <th></th>\n",
              "      <th></th>\n",
              "      <th></th>\n",
              "      <th></th>\n",
              "      <th></th>\n",
              "    </tr>\n",
              "  </thead>\n",
              "  <tbody>\n",
              "    <tr>\n",
              "      <th>CR</th>\n",
              "      <td>63425233</td>\n",
              "      <td>24798789</td>\n",
              "      <td>2915478</td>\n",
              "      <td>52063.444</td>\n",
              "      <td>15134232.8</td>\n",
              "      <td>2.079684e+09</td>\n",
              "      <td>-34079175.0</td>\n",
              "      <td>5945783.0</td>\n",
              "    </tr>\n",
              "  </tbody>\n",
              "</table>\n",
              "</div>\n",
              "      <button class=\"colab-df-convert\" onclick=\"convertToInteractive('df-d7551372-5e20-43b7-a180-a140fd291fdb')\"\n",
              "              title=\"Convert this dataframe to an interactive table.\"\n",
              "              style=\"display:none;\">\n",
              "        \n",
              "  <svg xmlns=\"http://www.w3.org/2000/svg\" height=\"24px\"viewBox=\"0 0 24 24\"\n",
              "       width=\"24px\">\n",
              "    <path d=\"M0 0h24v24H0V0z\" fill=\"none\"/>\n",
              "    <path d=\"M18.56 5.44l.94 2.06.94-2.06 2.06-.94-2.06-.94-.94-2.06-.94 2.06-2.06.94zm-11 1L8.5 8.5l.94-2.06 2.06-.94-2.06-.94L8.5 2.5l-.94 2.06-2.06.94zm10 10l.94 2.06.94-2.06 2.06-.94-2.06-.94-.94-2.06-.94 2.06-2.06.94z\"/><path d=\"M17.41 7.96l-1.37-1.37c-.4-.4-.92-.59-1.43-.59-.52 0-1.04.2-1.43.59L10.3 9.45l-7.72 7.72c-.78.78-.78 2.05 0 2.83L4 21.41c.39.39.9.59 1.41.59.51 0 1.02-.2 1.41-.59l7.78-7.78 2.81-2.81c.8-.78.8-2.07 0-2.86zM5.41 20L4 18.59l7.72-7.72 1.47 1.35L5.41 20z\"/>\n",
              "  </svg>\n",
              "      </button>\n",
              "      \n",
              "  <style>\n",
              "    .colab-df-container {\n",
              "      display:flex;\n",
              "      flex-wrap:wrap;\n",
              "      gap: 12px;\n",
              "    }\n",
              "\n",
              "    .colab-df-convert {\n",
              "      background-color: #E8F0FE;\n",
              "      border: none;\n",
              "      border-radius: 50%;\n",
              "      cursor: pointer;\n",
              "      display: none;\n",
              "      fill: #1967D2;\n",
              "      height: 32px;\n",
              "      padding: 0 0 0 0;\n",
              "      width: 32px;\n",
              "    }\n",
              "\n",
              "    .colab-df-convert:hover {\n",
              "      background-color: #E2EBFA;\n",
              "      box-shadow: 0px 1px 2px rgba(60, 64, 67, 0.3), 0px 1px 3px 1px rgba(60, 64, 67, 0.15);\n",
              "      fill: #174EA6;\n",
              "    }\n",
              "\n",
              "    [theme=dark] .colab-df-convert {\n",
              "      background-color: #3B4455;\n",
              "      fill: #D2E3FC;\n",
              "    }\n",
              "\n",
              "    [theme=dark] .colab-df-convert:hover {\n",
              "      background-color: #434B5C;\n",
              "      box-shadow: 0px 1px 3px 1px rgba(0, 0, 0, 0.15);\n",
              "      filter: drop-shadow(0px 1px 2px rgba(0, 0, 0, 0.3));\n",
              "      fill: #FFFFFF;\n",
              "    }\n",
              "  </style>\n",
              "\n",
              "      <script>\n",
              "        const buttonEl =\n",
              "          document.querySelector('#df-d7551372-5e20-43b7-a180-a140fd291fdb button.colab-df-convert');\n",
              "        buttonEl.style.display =\n",
              "          google.colab.kernel.accessAllowed ? 'block' : 'none';\n",
              "\n",
              "        async function convertToInteractive(key) {\n",
              "          const element = document.querySelector('#df-d7551372-5e20-43b7-a180-a140fd291fdb');\n",
              "          const dataTable =\n",
              "            await google.colab.kernel.invokeFunction('convertToInteractive',\n",
              "                                                     [key], {});\n",
              "          if (!dataTable) return;\n",
              "\n",
              "          const docLinkHtml = 'Like what you see? Visit the ' +\n",
              "            '<a target=\"_blank\" href=https://colab.research.google.com/notebooks/data_table.ipynb>data table notebook</a>'\n",
              "            + ' to learn more about interactive tables.';\n",
              "          element.innerHTML = '';\n",
              "          dataTable['output_type'] = 'display_data';\n",
              "          await google.colab.output.renderOutput(dataTable, element);\n",
              "          const docLink = document.createElement('div');\n",
              "          docLink.innerHTML = docLinkHtml;\n",
              "          element.appendChild(docLink);\n",
              "        }\n",
              "      </script>\n",
              "    </div>\n",
              "  </div>\n",
              "  "
            ]
          },
          "metadata": {},
          "execution_count": 15
        }
      ]
    },
    {
      "cell_type": "code",
      "source": [
        "df_sales.groupby(['Bag'])['Price'].mean()"
      ],
      "metadata": {
        "colab": {
          "base_uri": "https://localhost:8080/"
        },
        "id": "S-hVdvHio5_6",
        "outputId": "648574e2-7ada-4f76-ef48-2458c4d4645e"
      },
      "execution_count": null,
      "outputs": [
        {
          "output_type": "execute_result",
          "data": {
            "text/plain": [
              "Bag\n",
              "BAG OF 1 KGS        41.506361\n",
              "BAG OF 10 KGS      412.128518\n",
              "BAG OF 100 KGS     626.666667\n",
              "BAG OF 25 KGS      988.051855\n",
              "BAG OF 5 KGS       206.575784\n",
              "BAG OF 50 KGS     2159.219048\n",
              "BAG OF 75 KGS     2834.341836\n",
              "BAGS               736.000000\n",
              "Name: Price, dtype: float64"
            ]
          },
          "metadata": {},
          "execution_count": 16
        }
      ]
    },
    {
      "cell_type": "code",
      "source": [
        "# PANDAS PROFILING - TAKE # OFF FOR RUNNING\n",
        "#profile = pandas_profiling.ProfileReport(df_sales)\n",
        "\n",
        "#file_name = \"pandas_profiling_report.html\"\n",
        "#profile.to_file('sales')\n"
      ],
      "metadata": {
        "id": "hXo97k4Bo_nA"
      },
      "execution_count": null,
      "outputs": []
    },
    {
      "cell_type": "code",
      "source": [
        "Weight = df_sales['Bag'].str.split(' ', n=4, expand = True)\n",
        "df_sales['Unit_weight'] = Weight[2]\n",
        "df_sales['Unit_weight'] = df_sales['Unit_weight'].astype(float)"
      ],
      "metadata": {
        "id": "me6NJBu3pKzq"
      },
      "execution_count": null,
      "outputs": []
    },
    {
      "cell_type": "code",
      "source": [
        "\n",
        "df_sales['less'] = df_sales['less'].astype(float)\n",
        "\n",
        "df_sales['Discount'] = df_sales['less'] + abs(df_sales['advance'])\n",
        "\n",
        "df_sales['Unit_Price'] = df_sales['Price']/df_sales['Unit_weight']\n"
      ],
      "metadata": {
        "id": "1EU4naUcpgCz"
      },
      "execution_count": null,
      "outputs": []
    },
    {
      "cell_type": "code",
      "source": [
        "# Calculating the Month, Year, Day, Week, Month Year and Weekend\n",
        "df_sales['Month'] = pd.DatetimeIndex(df_sales['Date']).month_name()\n",
        "df_sales['Year'] = pd.DatetimeIndex(df_sales[\"Date\"]).year\n",
        "df_sales[\"Day\"] =pd.DatetimeIndex(df_sales[\"Date\"]).dayofweek\n",
        "df_sales[\"Year\"]=df_sales[\"Year\"].astype(str)\n",
        "df_sales['Month_N'] = pd.DatetimeIndex(df_sales['Date']).month\n",
        "\n",
        "from datetime import date\n",
        "df_sales['Week']= df_sales['Date'].dt.isocalendar().week\n",
        "\n",
        "df_sales[\"Month_Year\"]=df_sales[\"Month\"] + df_sales[\"Year\"]\n",
        "\n",
        "df_sales[\"Weekend\"]=((df_sales[\"Day\"]== 5) | (df_sales[\"Day\"]==6)).astype(int)\n"
      ],
      "metadata": {
        "id": "kb6fQLPHpijt"
      },
      "execution_count": null,
      "outputs": []
    },
    {
      "cell_type": "code",
      "source": [
        "# Calculating Adjusted Discount based on weight of commodity in the invoice and calculting new Unit Price with Discount\n",
        "df_group = df_sales.groupby(['Year','No']).agg(sum_w = ('Weight',sum)).reset_index()\n",
        "\n",
        "df_sales.sort_values(['Year','No'])\n",
        "\n",
        "df_sales = pd.merge(df_sales,df_group,on=['Year','No'],how='left')"
      ],
      "metadata": {
        "id": "GbRhYTOLpzAl"
      },
      "execution_count": null,
      "outputs": []
    },
    {
      "cell_type": "code",
      "source": [
        "df_sales['Adj_Dis'] = df_sales['Weight']/df_sales['sum_w']*df_sales['Discount']\n",
        "\n",
        "\n",
        "df_sales['Unit_Price_Dis'] = round(df_sales['Unit_Price']-(df_sales['Adj_Dis']/df_sales['Weight']),2)\n",
        "#df.loc[0:10,['Price_discount','Unit_Price']]"
      ],
      "metadata": {
        "id": "-aDx_d_fJ3M5"
      },
      "execution_count": null,
      "outputs": []
    },
    {
      "cell_type": "markdown",
      "source": [
        "# Time Series Sales Analysis"
      ],
      "metadata": {
        "id": "taeOZNGjay7F"
      }
    },
    {
      "cell_type": "code",
      "source": [
        "#Comverting the Data into Daily Sales Data of Weight of commodity sold"
      ],
      "metadata": {
        "id": "Ns37i2DyqSlp"
      },
      "execution_count": null,
      "outputs": []
    },
    {
      "cell_type": "code",
      "source": [
        "\n",
        "df_daily = df_sales.groupby('Date').agg(sum_d=('Weight',sum)).sort_values(['Date']).sort_values('Date').reset_index()\n",
        "\n",
        "df_daily = df_daily.rename(columns={'sum_d':'Count'})\n",
        "#Printing head\n",
        "\n",
        "print(df_daily.shape)"
      ],
      "metadata": {
        "colab": {
          "base_uri": "https://localhost:8080/"
        },
        "id": "UENg5-nKqFyM",
        "outputId": "ec8fe513-de9c-44a4-b834-9dee5eb0c723"
      },
      "execution_count": null,
      "outputs": [
        {
          "output_type": "stream",
          "name": "stdout",
          "text": [
            "(1037, 2)\n"
          ]
        }
      ]
    },
    {
      "cell_type": "code",
      "source": [
        "df_daily['Week']= df_daily['Date'].dt.isocalendar().week\n",
        "df_daily['Year'] = pd.DatetimeIndex(df_daily[\"Date\"]).year\n",
        "df_daily['Month'] = pd.DatetimeIndex(df_daily['Date']).month\n",
        "df_daily['Week']= df_daily['Date'].dt.isocalendar().week"
      ],
      "metadata": {
        "id": "3S6Tgpdwqb9e"
      },
      "execution_count": null,
      "outputs": []
    },
    {
      "cell_type": "code",
      "source": [
        "#%% COnverting Daily Data to Monthly Data\n",
        "\n",
        "df_month = df_daily.groupby(['Year','Month'])['Count'].sum().reset_index()\n",
        "\n",
        "df_month.sort_values(['Year','Month'], inplace = True)\n",
        "\n",
        "whole_month_sales = df_month['Count']"
      ],
      "metadata": {
        "id": "CTJUsyaIq4WS"
      },
      "execution_count": null,
      "outputs": []
    },
    {
      "cell_type": "code",
      "source": [
        "df_month.tail()"
      ],
      "metadata": {
        "colab": {
          "base_uri": "https://localhost:8080/",
          "height": 206
        },
        "id": "gc4o2j5EvpLt",
        "outputId": "a1de05f7-edaa-4d4b-fedb-59095a03d053"
      },
      "execution_count": null,
      "outputs": [
        {
          "output_type": "execute_result",
          "data": {
            "text/plain": [
              "    Year  Month     Count\n",
              "31  2020     11  1095.050\n",
              "32  2020     12  1710.865\n",
              "33  2021      1  1292.975\n",
              "34  2021      2  1642.175\n",
              "35  2021      3  1623.000"
            ],
            "text/html": [
              "\n",
              "  <div id=\"df-e9d09c7b-ece1-4213-ac1f-7466d29fc9d8\">\n",
              "    <div class=\"colab-df-container\">\n",
              "      <div>\n",
              "<style scoped>\n",
              "    .dataframe tbody tr th:only-of-type {\n",
              "        vertical-align: middle;\n",
              "    }\n",
              "\n",
              "    .dataframe tbody tr th {\n",
              "        vertical-align: top;\n",
              "    }\n",
              "\n",
              "    .dataframe thead th {\n",
              "        text-align: right;\n",
              "    }\n",
              "</style>\n",
              "<table border=\"1\" class=\"dataframe\">\n",
              "  <thead>\n",
              "    <tr style=\"text-align: right;\">\n",
              "      <th></th>\n",
              "      <th>Year</th>\n",
              "      <th>Month</th>\n",
              "      <th>Count</th>\n",
              "    </tr>\n",
              "  </thead>\n",
              "  <tbody>\n",
              "    <tr>\n",
              "      <th>31</th>\n",
              "      <td>2020</td>\n",
              "      <td>11</td>\n",
              "      <td>1095.050</td>\n",
              "    </tr>\n",
              "    <tr>\n",
              "      <th>32</th>\n",
              "      <td>2020</td>\n",
              "      <td>12</td>\n",
              "      <td>1710.865</td>\n",
              "    </tr>\n",
              "    <tr>\n",
              "      <th>33</th>\n",
              "      <td>2021</td>\n",
              "      <td>1</td>\n",
              "      <td>1292.975</td>\n",
              "    </tr>\n",
              "    <tr>\n",
              "      <th>34</th>\n",
              "      <td>2021</td>\n",
              "      <td>2</td>\n",
              "      <td>1642.175</td>\n",
              "    </tr>\n",
              "    <tr>\n",
              "      <th>35</th>\n",
              "      <td>2021</td>\n",
              "      <td>3</td>\n",
              "      <td>1623.000</td>\n",
              "    </tr>\n",
              "  </tbody>\n",
              "</table>\n",
              "</div>\n",
              "      <button class=\"colab-df-convert\" onclick=\"convertToInteractive('df-e9d09c7b-ece1-4213-ac1f-7466d29fc9d8')\"\n",
              "              title=\"Convert this dataframe to an interactive table.\"\n",
              "              style=\"display:none;\">\n",
              "        \n",
              "  <svg xmlns=\"http://www.w3.org/2000/svg\" height=\"24px\"viewBox=\"0 0 24 24\"\n",
              "       width=\"24px\">\n",
              "    <path d=\"M0 0h24v24H0V0z\" fill=\"none\"/>\n",
              "    <path d=\"M18.56 5.44l.94 2.06.94-2.06 2.06-.94-2.06-.94-.94-2.06-.94 2.06-2.06.94zm-11 1L8.5 8.5l.94-2.06 2.06-.94-2.06-.94L8.5 2.5l-.94 2.06-2.06.94zm10 10l.94 2.06.94-2.06 2.06-.94-2.06-.94-.94-2.06-.94 2.06-2.06.94z\"/><path d=\"M17.41 7.96l-1.37-1.37c-.4-.4-.92-.59-1.43-.59-.52 0-1.04.2-1.43.59L10.3 9.45l-7.72 7.72c-.78.78-.78 2.05 0 2.83L4 21.41c.39.39.9.59 1.41.59.51 0 1.02-.2 1.41-.59l7.78-7.78 2.81-2.81c.8-.78.8-2.07 0-2.86zM5.41 20L4 18.59l7.72-7.72 1.47 1.35L5.41 20z\"/>\n",
              "  </svg>\n",
              "      </button>\n",
              "      \n",
              "  <style>\n",
              "    .colab-df-container {\n",
              "      display:flex;\n",
              "      flex-wrap:wrap;\n",
              "      gap: 12px;\n",
              "    }\n",
              "\n",
              "    .colab-df-convert {\n",
              "      background-color: #E8F0FE;\n",
              "      border: none;\n",
              "      border-radius: 50%;\n",
              "      cursor: pointer;\n",
              "      display: none;\n",
              "      fill: #1967D2;\n",
              "      height: 32px;\n",
              "      padding: 0 0 0 0;\n",
              "      width: 32px;\n",
              "    }\n",
              "\n",
              "    .colab-df-convert:hover {\n",
              "      background-color: #E2EBFA;\n",
              "      box-shadow: 0px 1px 2px rgba(60, 64, 67, 0.3), 0px 1px 3px 1px rgba(60, 64, 67, 0.15);\n",
              "      fill: #174EA6;\n",
              "    }\n",
              "\n",
              "    [theme=dark] .colab-df-convert {\n",
              "      background-color: #3B4455;\n",
              "      fill: #D2E3FC;\n",
              "    }\n",
              "\n",
              "    [theme=dark] .colab-df-convert:hover {\n",
              "      background-color: #434B5C;\n",
              "      box-shadow: 0px 1px 3px 1px rgba(0, 0, 0, 0.15);\n",
              "      filter: drop-shadow(0px 1px 2px rgba(0, 0, 0, 0.3));\n",
              "      fill: #FFFFFF;\n",
              "    }\n",
              "  </style>\n",
              "\n",
              "      <script>\n",
              "        const buttonEl =\n",
              "          document.querySelector('#df-e9d09c7b-ece1-4213-ac1f-7466d29fc9d8 button.colab-df-convert');\n",
              "        buttonEl.style.display =\n",
              "          google.colab.kernel.accessAllowed ? 'block' : 'none';\n",
              "\n",
              "        async function convertToInteractive(key) {\n",
              "          const element = document.querySelector('#df-e9d09c7b-ece1-4213-ac1f-7466d29fc9d8');\n",
              "          const dataTable =\n",
              "            await google.colab.kernel.invokeFunction('convertToInteractive',\n",
              "                                                     [key], {});\n",
              "          if (!dataTable) return;\n",
              "\n",
              "          const docLinkHtml = 'Like what you see? Visit the ' +\n",
              "            '<a target=\"_blank\" href=https://colab.research.google.com/notebooks/data_table.ipynb>data table notebook</a>'\n",
              "            + ' to learn more about interactive tables.';\n",
              "          element.innerHTML = '';\n",
              "          dataTable['output_type'] = 'display_data';\n",
              "          await google.colab.output.renderOutput(dataTable, element);\n",
              "          const docLink = document.createElement('div');\n",
              "          docLink.innerHTML = docLinkHtml;\n",
              "          element.appendChild(docLink);\n",
              "        }\n",
              "      </script>\n",
              "    </div>\n",
              "  </div>\n",
              "  "
            ]
          },
          "metadata": {},
          "execution_count": 27
        }
      ]
    },
    {
      "cell_type": "code",
      "source": [
        "# Here we create two dataframe. One dataframe to store all the forecaste values and other for errors\n",
        "df_forecast = pd.DataFrame(columns=[\"S.No\",\"seasonalNaiveForecast\",\"movingAvg\",\"Exponential_Smoothing\",\"Holt_Winters\",\"ARIMA\",\"Random_Forest\"])\n",
        "df_errors = pd.DataFrame(columns=[\"Method\",\"RMSE\",\"MAPE\",\"MSE\"])"
      ],
      "metadata": {
        "id": "eX33ZQf_-7ev"
      },
      "execution_count": null,
      "outputs": []
    },
    {
      "cell_type": "markdown",
      "source": [
        "*Defining functions for Seasonal Naive Forecasting, Moving Average and Exponential Smoothing. Here we take Seasonal Naive Forecasting as our base model.*\n",
        "\n",
        "\n",
        "> Indented block\n",
        "**bold text**\n",
        "\n",
        "---\n",
        "\n"
      ],
      "metadata": {
        "id": "j9OrS8zdd3fh"
      }
    },
    {
      "cell_type": "code",
      "source": [
        "whole_month_sales= list(whole_month_sales)\n",
        "n_periods = len(whole_month_sales)\n",
        "\n",
        "# defining the naive forecast function\n",
        "def seasonalNaiveForecast(sales, t, s):\n",
        "  return sales[t-s]\n",
        "\n",
        "# defininf the Moving Average Function\n",
        "def movingAvg(sales, t, k):\n",
        "    return sum(sales[t-k:t]) / k\n",
        "\n",
        "# defining the Exponential Smoothing Function\n",
        "\n",
        "def exponentialSmoothing(sales, t, alpha):\n",
        "    exp_forecast = []\n",
        "    exp_forecast.append(sales[0]) # assume the initial forecast (index 0) = actual demand in the same period\n",
        "    for i in range(1, t+1):\n",
        "      exp_forecast.append(alpha*sales[i-1]+(1-alpha)*exp_forecast[i-1])\n",
        "    return  exp_forecast[t]\n",
        "\n"
      ],
      "metadata": {
        "id": "YQxruR0ob1KI"
      },
      "execution_count": null,
      "outputs": []
    },
    {
      "cell_type": "markdown",
      "source": [
        "**Error Terms fucntions - MSE, MAPE AND RMSE**"
      ],
      "metadata": {
        "id": "SLywGIb8dre3"
      }
    },
    {
      "cell_type": "code",
      "source": [
        "# MSE\n",
        "def MSE(forecast, real_demand):\n",
        "    sum_mse = 0\n",
        "    n_periods = len(forecast)\n",
        "    for t in range(n_periods):\n",
        "        sum_mse += (real_demand[t] - forecast[t]) ** 2\n",
        "    return sum_mse/n_periods\n",
        "\n",
        "\n",
        "# MAPE\n",
        "def MAPE(forecast, real_demand):\n",
        "    n_periods = len(forecast)\n",
        "    mape_t = [abs(real_demand[t] - forecast[t])/real_demand[t] for t in range(n_periods)] \n",
        "    return sum(mape_t)/n_periods\n",
        "#RMSE\n",
        "def RMSE(forecast,real_demand):\n",
        "  rmse = mean_squared_error(forecast, real_demand)\n",
        "  return rmse\n"
      ],
      "metadata": {
        "id": "s5njbXXPdqyg"
      },
      "execution_count": 125,
      "outputs": []
    },
    {
      "cell_type": "markdown",
      "source": [
        "### Seasonal Naive"
      ],
      "metadata": {
        "id": "pxd6D7M8gV2R"
      }
    },
    {
      "cell_type": "code",
      "source": [
        "\n",
        "best_s = 0 # initialize the initial value of best s\n",
        "best_mape = 1.0 # initialize the initial value of MAPE (at the maximum 100%)\n",
        "\n",
        "for s in range(2,12,2):\n",
        "  #print(\"s = \", s)\n",
        "  whole_month_sales_fcst_seasonnaive = [seasonalNaiveForecast(whole_month_sales, t, s) for t in range(29, 36)]\n",
        "  whole_month_sales_fcst_seasonnaive_mape = MAPE(whole_month_sales_fcst_seasonnaive, whole_month_sales[29:])\n",
        "  #print(\"MAPE :\", whole_month_sales_fcst_seasonnaive_mape)\n",
        "  if whole_month_sales_fcst_seasonnaive_mape < best_mape: # keep track of the best s\n",
        "    best_s = s # set the new best_s\n",
        "    best_mape = whole_month_sales_fcst_seasonnaive_mape # set the new best_mape\n",
        "\n",
        "# we compute again the corresponding forecasts and results based on the best parameter\n",
        "print(\"best seasonality length s = \", best_s)\n",
        "whole_month_sales_fcst_seasonnaive = [seasonalNaiveForecast(whole_month_sales, t, best_s) for t in range(29, 36)]\n",
        "whole_month_sales_fcst_seasonnaive_mse = MSE(whole_month_sales_fcst_seasonnaive, whole_month_sales[29:])\n",
        "whole_month_sales_fcst_seasonnaive_mape = MAPE(whole_month_sales_fcst_seasonnaive, whole_month_sales[29:])\n",
        "whole_month_sales_fcst_seasonnaive_rmse = RMSE(whole_month_sales_fcst_seasonnaive, whole_month_sales[29:])\n",
        "\n",
        "print(\"add results to the dictionary for the method: \", fcst_names[1])\n",
        "fcst_results[fcst_names[1]] = {'Forecast':whole_month_sales_fcst_seasonnaive, 'MSE':whole_month_sales_fcst_seasonnaive_mse, 'MAPE':whole_month_sales_fcst_seasonnaive_mape}\n",
        "print(fcst_results)\n",
        "\n",
        "df_forecast[\"seasonalNaiveForecast\"] = whole_month_sales_fcst_seasonnaive\n",
        "\n",
        "df_errors.loc[\"seasonalNaiveForecast\",\"MAPE\"] = whole_month_sales_fcst_seasonnaive_mape\n",
        "df_errors.loc[\"seasonalNaiveForecast\",\"RMSE\"] = whole_month_sales_fcst_seasonnaive_rmse\n",
        "df_errors.loc[\"seasonalNaiveForecast\",\"MSE\"] = whole_month_sales_fcst_seasonnaive_mse\n"
      ],
      "metadata": {
        "colab": {
          "base_uri": "https://localhost:8080/"
        },
        "id": "Oc4tiulNczIR",
        "outputId": "9e2ead50-711a-4950-ebc4-ab81d7474247"
      },
      "execution_count": 129,
      "outputs": [
        {
          "output_type": "stream",
          "name": "stdout",
          "text": [
            "best seasonality length s =  10\n",
            "add results to the dictionary for the method:  SeasonNaive\n",
            "{'Naive': {'Forecast': [1237.825, 1449.83, 1570.53, 1095.05, 1710.865, 1292.975, 1642.175], 'MSE': 137394.90391071432, 'MAPE': 0.1595485215814425}, 'SeasonNaive': {'Forecast': [1437.175, 1679.625, 1111.975, 1545.175, 903.025, 1729.975, 1133.175], 'MSE': 62785.69612857143, 'MAPE': 0.12105046738157765}, 'MovingAvg': {'Forecast': [1377.475, 1321.4460000000001, 1408.917, 1329.152, 1412.82, 1423.85, 1462.319], 'MSE': 57048.91522142856, 'MAPE': 0.1489827978164803}, 'Exp.Smooth': {'Forecast': [1385.4221932407202, 1391.8629739166481, 1409.7296765249835, 1378.261708872485, 1411.5220379852367, 1399.6673341867129, 1423.9181007680415], 'MSE': 51173.64152325976, 'MAPE': 0.14314025600836744}}\n"
          ]
        }
      ]
    },
    {
      "cell_type": "markdown",
      "source": [
        "### Moving Average"
      ],
      "metadata": {
        "id": "kgeypx2FgcEG"
      }
    },
    {
      "cell_type": "code",
      "source": [
        "\n",
        "best_k = 0 # initialize the initial value of best k\n",
        "best_mape = 1.0 # initialize the initial value of MAPE (at the maximum 100%)\n",
        "\n",
        "for k in range(2,6):\n",
        "  #print(\"k = \", k)\n",
        "  whole_month_sales_fcst_movingavg = [movingAvg(whole_month_sales, t, k) for t in range(29, 36)]\n",
        "  whole_month_sales_fcst_movingavg_mape = MAPE(whole_month_sales_fcst_movingavg, whole_month_sales[29:])\n",
        "  if whole_month_sales_fcst_movingavg_mape < best_mape: # keep track of the best parameter\n",
        "    best_k = k # set the new best_k\n",
        "    best_mape = whole_month_sales_fcst_movingavg_mape # set the new best_mape\n",
        "\n",
        "# we compute again the corresponding forecasts and results based on the best parameter\n",
        "print(\"best lookback length k = \", best_k)\n",
        "whole_month_sales_fcst_movingavg = [movingAvg(whole_month_sales, t, best_k) for t in range(29, 36)]\n",
        "whole_month_sales_fcst_movingavg_mse = MSE(whole_month_sales_fcst_movingavg, whole_month_sales[29:])\n",
        "whole_month_sales_fcst_movingavg_mape = MAPE(whole_month_sales_fcst_movingavg, whole_month_sales[29:])\n",
        "whole_month_sales_fcst_movingavg_rmse = RMSE(whole_month_sales_fcst_movingavg, whole_month_sales[29:])\n",
        "\n",
        "\n",
        "print(\"add results to the dictionary for the method: \", fcst_names[2])\n",
        "fcst_results[fcst_names[2]] = {'Forecast':whole_month_sales_fcst_movingavg, 'MSE':whole_month_sales_fcst_movingavg_mse, 'MAPE':whole_month_sales_fcst_movingavg_mape}\n",
        "print(fcst_results)\n",
        "\n",
        "df_forecast[\"MovingAvging\"] = whole_month_sales_fcst_movingavg\n",
        "\n",
        "df_errors.loc[\"MovingAvging\",\"MAPE\"] = whole_month_sales_fcst_movingavg_mape\n",
        "df_errors.loc[\"MovingAvging\",\"RMSE\"] = whole_month_sales_fcst_movingavg_rmse\n",
        "df_errors.loc[\"MovingAvging\",\"MSE\"] = whole_month_sales_fcst_movingavg_mse\n",
        "\n"
      ],
      "metadata": {
        "colab": {
          "base_uri": "https://localhost:8080/"
        },
        "id": "Q7Vn5JGdgav_",
        "outputId": "0dc67482-39a4-4739-e84b-7f12c65c9fbb"
      },
      "execution_count": null,
      "outputs": [
        {
          "output_type": "stream",
          "name": "stdout",
          "text": [
            "best lookback length k =  5\n",
            "add results to the dictionary for the method:  MovingAvg\n",
            "{'Naive': {'Forecast': [1237.825, 1449.83, 1570.53, 1095.05, 1710.865, 1292.975, 1642.175], 'MSE': 137394.90391071432, 'MAPE': 0.1595485215814425}, 'SeasonNaive': {'Forecast': [1437.175, 1679.625, 1111.975, 1545.175, 903.025, 1729.975, 1133.175], 'MSE': 62785.69612857143, 'MAPE': 0.12105046738157765}, 'MovingAvg': {'Forecast': [1377.475, 1321.4460000000001, 1408.917, 1329.152, 1412.82, 1423.85, 1462.319], 'MSE': 57048.91522142856, 'MAPE': 0.1489827978164803}}\n"
          ]
        }
      ]
    },
    {
      "cell_type": "markdown",
      "source": [
        "### Exponential Smoothing"
      ],
      "metadata": {
        "id": "Zbji1GWbkEyh"
      }
    },
    {
      "cell_type": "code",
      "source": [
        "\n",
        "best_alpha = 0 # initialize the initial value of best alpha\n",
        "best_mape = 1.0 # initialize the initial value of MAPE (at the maximum 100%)\n",
        "\n",
        "for alpha in [0.1*i for i in range(1,10)]: \n",
        "  whole_month_sales_fcst_expsmooth = [exponentialSmoothing(whole_month_sales, t, alpha) for t in range(29, 36)]\n",
        "  whole_month_sales_fcst_expsmooth_mape = MAPE(whole_month_sales_fcst_expsmooth, whole_month_sales[26:])\n",
        "  if whole_month_sales_fcst_expsmooth_mape < best_mape: # keep track of the best parameter\n",
        "    best_alpha = alpha # set the new best parameter\n",
        "    best_mape = whole_month_sales_fcst_expsmooth_mape # set the new best_mape\n",
        "\n",
        "# we compute again the corresponding forecasts and results based on the best parameter\n",
        "print(\"best alpha = \", best_alpha)\n",
        "whole_month_sales_fcst_expsmooth = [exponentialSmoothing(whole_month_sales, t, best_alpha) for t in range(29, 36)]\n",
        "whole_month_sales_fcst_expsmooth_mse = MSE(whole_month_sales_fcst_expsmooth, whole_month_sales[29:])\n",
        "whole_month_sales_fcst_expsmooth_mape = MAPE(whole_month_sales_fcst_expsmooth, whole_month_sales[29:])\n",
        "whole_month_sales_fcst_expsmooth_rmse = RMSE(whole_month_sales_fcst_expsmooth, whole_month_sales[29:])\n",
        "\n",
        "print(\"ExponentialSmoothing Results: \", fcst_names[3])\n",
        "print('Forecast', whole_month_sales_fcst_expsmooth)\n",
        "print('MSE:',round(whole_month_sales_fcst_expsmooth_mse), 'MAPE:',round(whole_month_sales_fcst_expsmooth_mape*100),'RMSE:', round(whole_month_sales_fcst_expsmooth_rmse))\n",
        "\n",
        "  \n",
        "df_forecast[\"Exponential_Smoothing\"] = whole_month_sales_fcst_expsmooth\n",
        "\n",
        "df_errors.loc[\"Exponential_Smoothing\",\"MAPE\"] = whole_month_sales_fcst_expsmooth_mape\n",
        "df_errors.loc[\"Exponential_Smoothing\",\"RMSE\"] = whole_month_sales_fcst_expsmooth_rmse\n",
        "df_errors.loc[\"Exponential_Smoothing\",\"MSE\"] = whole_month_sales_fcst_expsmooth_mse"
      ],
      "metadata": {
        "colab": {
          "base_uri": "https://localhost:8080/"
        },
        "id": "gD6aikj_jGH3",
        "outputId": "16bc5d9b-e146-405b-9678-d117b5f7fccf"
      },
      "execution_count": null,
      "outputs": [
        {
          "output_type": "stream",
          "name": "stdout",
          "text": [
            "best alpha =  0.1\n",
            "ExponentialSmoothing Results:  Exp.Smooth\n",
            "Forecast [1385.4221932407202, 1391.8629739166481, 1409.7296765249835, 1378.261708872485, 1411.5220379852367, 1399.6673341867129, 1423.9181007680415]\n",
            "MSE: 51174 MAPE: 14 RMSE: 51174\n"
          ]
        }
      ]
    },
    {
      "cell_type": "markdown",
      "source": [
        "### Holt Winters"
      ],
      "metadata": {
        "id": "rJm7ehG3j_mw"
      }
    },
    {
      "cell_type": "code",
      "source": [
        "\n",
        "n = len(whole_month_sales)\n",
        "print(round(n*0.8))\n",
        "\n",
        "train = whole_month_sales[0:(round(n*0.8))]\n",
        "test = whole_month_sales[(round(n*0.8)):]\n",
        "\n",
        "best_i = 0\n",
        "best_mape = 1.0\n",
        "\n",
        "for i in range (2,13):\n",
        "    fit1 = ExponentialSmoothing(train ,seasonal_periods= i,trend='add', seasonal='add').fit()\n",
        "    y_hat = list(fit1.forecast(len(test)))\n",
        "    Exp_sales_mape = MAPE(y_hat,test)\n",
        "    if Exp_sales_mape < best_mape: # keep track of the best s\n",
        "      best_i = i # set the new best_s\n",
        "      best_mape = Exp_sales_mape # set the new best_mape\n",
        "\n",
        "Exp_model_sales = ExponentialSmoothing(train ,seasonal_periods= best_i,trend='add', seasonal='add').fit()\n",
        "Exp_forecast_sales = list(Exp_model_sales.forecast(len(test)))\n",
        "Exp_sales_mape = MAPE(Exp_forecast_sales,test)\n",
        "Exp_sales_mse = MSE(Exp_forecast_sales,test)\n",
        "Exp_sales_rmse = RMSE(Exp_forecast_sales,test)\n",
        "\n",
        "df_forecast[\"Holt_Winters\"] = Exp_forecast_sales\n",
        "\n",
        "df_errors.loc[\"Holt_Winters\",\"MAPE\"] = Exp_sales_mape\n",
        "df_errors.loc[\"Holt_Winters\",\"RMSE\"] = Exp_sales_rmse\n",
        "df_errors.loc[\"Holt_Winters\",\"MSE\"] = Exp_sales_mse"
      ],
      "metadata": {
        "colab": {
          "base_uri": "https://localhost:8080/"
        },
        "id": "KAEzVRTJrJ-a",
        "outputId": "c087f0ab-749b-476b-93eb-0d50698bf086"
      },
      "execution_count": 136,
      "outputs": [
        {
          "output_type": "stream",
          "name": "stdout",
          "text": [
            "29\n"
          ]
        },
        {
          "output_type": "stream",
          "name": "stderr",
          "text": [
            "/usr/local/lib/python3.7/dist-packages/statsmodels/tsa/holtwinters.py:712: ConvergenceWarning: Optimization failed to converge. Check mle_retvals.\n",
            "  ConvergenceWarning)\n",
            "/usr/local/lib/python3.7/dist-packages/statsmodels/tsa/holtwinters.py:712: ConvergenceWarning: Optimization failed to converge. Check mle_retvals.\n",
            "  ConvergenceWarning)\n",
            "/usr/local/lib/python3.7/dist-packages/statsmodels/tsa/holtwinters.py:712: ConvergenceWarning: Optimization failed to converge. Check mle_retvals.\n",
            "  ConvergenceWarning)\n",
            "/usr/local/lib/python3.7/dist-packages/statsmodels/tsa/holtwinters.py:712: ConvergenceWarning: Optimization failed to converge. Check mle_retvals.\n",
            "  ConvergenceWarning)\n",
            "/usr/local/lib/python3.7/dist-packages/statsmodels/tsa/holtwinters.py:712: ConvergenceWarning: Optimization failed to converge. Check mle_retvals.\n",
            "  ConvergenceWarning)\n",
            "/usr/local/lib/python3.7/dist-packages/statsmodels/tsa/holtwinters.py:712: ConvergenceWarning: Optimization failed to converge. Check mle_retvals.\n",
            "  ConvergenceWarning)\n",
            "/usr/local/lib/python3.7/dist-packages/statsmodels/tsa/holtwinters.py:712: ConvergenceWarning: Optimization failed to converge. Check mle_retvals.\n",
            "  ConvergenceWarning)\n",
            "/usr/local/lib/python3.7/dist-packages/statsmodels/tsa/holtwinters.py:712: ConvergenceWarning: Optimization failed to converge. Check mle_retvals.\n",
            "  ConvergenceWarning)\n",
            "/usr/local/lib/python3.7/dist-packages/statsmodels/tsa/holtwinters.py:712: ConvergenceWarning: Optimization failed to converge. Check mle_retvals.\n",
            "  ConvergenceWarning)\n"
          ]
        }
      ]
    },
    {
      "cell_type": "code",
      "source": [
        "print(\"Holt Winters Results: \", fcst_names[3])\n",
        "print('Forecast', Exp_forecast_sales)\n",
        "print('MSE:',round(Exp_sales_mse), 'MAPE:',round(Exp_sales_mape*100),'RMSE:', round(Exp_sales_rmse))\n",
        "\n",
        "  "
      ],
      "metadata": {
        "colab": {
          "base_uri": "https://localhost:8080/"
        },
        "id": "_QvUFlm5ohrv",
        "outputId": "e1425c4e-58f4-435c-85ec-fe7dc7618484"
      },
      "execution_count": 137,
      "outputs": [
        {
          "output_type": "stream",
          "name": "stdout",
          "text": [
            "Holt Winters Results:  Exp.Smooth\n",
            "Forecast [1505.2668556844837, 1371.1714965684112, 1241.897655953853, 1419.4686786607203, 1288.061948384434, 1483.1837002249063, 1349.0883411088337]\n",
            "MSE: 35660 MAPE: 11 RMSE: 35660\n"
          ]
        }
      ]
    },
    {
      "cell_type": "code",
      "source": [
        "#%%% ADF Test\n",
        "\n",
        "from statsmodels.tsa.stattools import adfuller\n",
        "adfuller_result = adfuller(train, autolag='AIC')\n",
        "print(f'ADF Statistic: {adfuller_result[0]}')\n",
        "print(f'p-value: {adfuller_result[1]}')\n",
        "for key, value in adfuller_result[4].items():\n",
        "    print('Critial Values:')\n",
        "    print(f'   {key}, {value}')\n",
        "\n"
      ],
      "metadata": {
        "colab": {
          "base_uri": "https://localhost:8080/"
        },
        "id": "UIlMNdcfrPkM",
        "outputId": "5db49b0d-23f9-4a69-d99a-327a9a5c9fa2"
      },
      "execution_count": null,
      "outputs": [
        {
          "output_type": "stream",
          "name": "stdout",
          "text": [
            "ADF Statistic: -7.07277187910589\n",
            "p-value: 4.888570251018919e-10\n",
            "Critial Values:\n",
            "   1%, -3.6889256286443146\n",
            "Critial Values:\n",
            "   5%, -2.9719894897959187\n",
            "Critial Values:\n",
            "   10%, -2.6252957653061224\n"
          ]
        }
      ]
    },
    {
      "cell_type": "markdown",
      "source": [
        "***Since, the p - value is less than 0.05, we can conclude that the data is stationary and the d value in ARIMA is 0.***\n",
        "\n",
        "---\n",
        "\n",
        "**bold text**"
      ],
      "metadata": {
        "id": "2msXx-PppON9"
      }
    },
    {
      "cell_type": "code",
      "source": [
        "# Additive and Multiple Decomposition\n",
        "add_result = seasonal_decompose(whole_month_sales, model='additive',freq=12)\n",
        "add_result.plot().suptitle('nAdditive Decompose', fontsize=12)\n",
        "# Multiplicative Decomposition \n",
        "mul_result = seasonal_decompose(train, model='multiplicative',freq=12)\n",
        "mul_result.plot().suptitle('nAdditive Decompose', fontsize=12)\n",
        "plt.show()\n",
        "decomposition = list([add_result.seasonal, add_result.trend, add_result.resid, add_result.observed])\n",
        "new_df_add = ['seasoanilty', 'trend', 'residual', 'actual_values']\n"
      ],
      "metadata": {
        "id": "-9N6wjaerSbh",
        "colab": {
          "base_uri": "https://localhost:8080/",
          "height": 587
        },
        "outputId": "169d3ee6-4df1-4090-fe9c-fb825a74392d"
      },
      "execution_count": null,
      "outputs": [
        {
          "output_type": "display_data",
          "data": {
            "text/plain": [
              "<Figure size 432x288 with 4 Axes>"
            ],
            "image/png": "[encoded data removed]"
          },
          "metadata": {
            "needs_background": "light"
          }
        },
        {
          "output_type": "display_data",
          "data": {
            "text/plain": [
              "<Figure size 432x288 with 4 Axes>"
            ],
            "image/png": "[encoded data removed]"
          },
          "metadata": {
            "needs_background": "light"
          }
        }
      ]
    },
    {
      "cell_type": "markdown",
      "source": [
        "### ARIMA"
      ],
      "metadata": {
        "id": "nc6kdoPa2iz2"
      }
    },
    {
      "cell_type": "code",
      "source": [
        "#%%% ACF and PCF Polts\n",
        "from pandas.plotting import autocorrelation_plot\n",
        "pd.plotting.autocorrelation_plot(whole_month_sales)\n",
        "plt.show()\n",
        "\n",
        "from statsmodels.graphics.tsaplots import plot_acf,plot_pacf\n",
        "import statsmodels.api as sm\n",
        "fig = plt.figure()\n",
        "ax1 = fig.add_subplot()\n",
        "fig = sm.graphics.tsa.plot_acf(whole_month_sales,lags=9)\n",
        "ax2 = fig.add_subplot()\n",
        "fig = sm.graphics.tsa.plot_pacf(whole_month_sales,lags=9)\n",
        "plt.clf()\n"
      ],
      "metadata": {
        "colab": {
          "base_uri": "https://localhost:8080/",
          "height": 872
        },
        "id": "PR-5Ms7RyZmF",
        "outputId": "ec1ebf0f-6ea8-4f0e-865e-0baf8bb0f9de"
      },
      "execution_count": null,
      "outputs": [
        {
          "output_type": "display_data",
          "data": {
            "text/plain": [
              "<Figure size 432x288 with 1 Axes>"
            ],
            "image/png": "[encoded data removed]"
          },
          "metadata": {
            "needs_background": "light"
          }
        },
        {
          "output_type": "stream",
          "name": "stderr",
          "text": [
            "/usr/local/lib/python3.7/dist-packages/ipykernel_launcher.py:11: MatplotlibDeprecationWarning: Adding an axes using the same arguments as a previous axes currently reuses the earlier instance.  In a future version, a new instance will always be created and returned.  Meanwhile, this warning can be suppressed, and the future behavior ensured, by passing a unique label to each axes instance.\n",
            "  # This is added back by InteractiveShellApp.init_path()\n"
          ]
        },
        {
          "output_type": "display_data",
          "data": {
            "text/plain": [
              "<Figure size 432x288 with 1 Axes>"
            ],
            "image/png": "[encoded data removed]"
          },
          "metadata": {
            "needs_background": "light"
          }
        },
        {
          "output_type": "display_data",
          "data": {
            "text/plain": [
              "<Figure size 432x288 with 1 Axes>"
            ],
            "image/png": "[encoded data removed]"
          },
          "metadata": {
            "needs_background": "light"
          }
        },
        {
          "output_type": "display_data",
          "data": {
            "text/plain": [
              "<Figure size 432x288 with 0 Axes>"
            ]
          },
          "metadata": {}
        }
      ]
    },
    {
      "cell_type": "markdown",
      "source": [
        "Based on the ACF and PCF Plots, we can determine that the best values for P and Q of ARIMA model is 2 and 2, as the line goes above the blue line."
      ],
      "metadata": {
        "id": "Yu5Pi5kro-n1"
      }
    },
    {
      "cell_type": "code",
      "source": [
        "\n",
        "#%%% ARIMA Model\n",
        "from statsmodels.tsa.arima_model import ARIMA\n",
        "\n",
        "\n",
        "# 2,0,2 ARIMA Model - Based on ACF and PCF Plot\n",
        "model = ARIMA(whole_month_sales, order=(2,0,2))\n",
        "model_fit = model.fit()\n",
        "\n",
        "residuals = pd.DataFrame(model_fit.resid)\n",
        "fig, ax = plt.subplots(1,2)\n",
        "residuals.plot(title=\"Residuals\", ax=ax[0])\n",
        "residuals.plot(kind='kde', title='Density', ax=ax[1])\n",
        "plt.show()\n",
        "\n",
        "model_fit.plot_predict(dynamic=False)\n",
        "plt.show()\n",
        "\n",
        "# Build Model\n",
        "# model = ARIMA(train, order=(3,2,1))  \n",
        "model = ARIMA(train, order=(2, 0, 2))  \n",
        "fitted = model.fit()  \n",
        "\n",
        "# Forecast\n",
        "fc, se, conf = fitted.forecast(len(test), alpha=0.05)  # 95% conf\n",
        "\n",
        "# Make as pandas series\n",
        "fc_series_demand = pd.Series(fc)\n",
        "lower_series = pd.Series(conf[:, 0])\n",
        "upper_series = pd.Series(conf[:, 1])\n",
        "print(model_fit.summary())\n",
        "\n",
        "# Plot\n",
        "plt.figure(figsize=(12,5), dpi=100)\n",
        "plt.plot(train, label='training')\n",
        "plt.plot(test, label='actual')\n",
        "plt.plot(fc_series_demand, label='forecast')\n",
        "plt.fill_between(lower_series.index, lower_series, upper_series, \n",
        "                 color='k', alpha=.15)\n",
        "plt.title('Forecast vs Actuals')\n",
        "plt.legend(loc='upper left', fontsize=8)\n",
        "plt.show()\n",
        "plt.clf()\n",
        "\n",
        "rmse_sales_arima = sqrt(mean_squared_error(test, fc_series_demand))\n",
        "print(rmse_sales_arima)\n",
        "\n",
        "mape_sales_arima = mape(test, fc_series_demand)\n",
        "print(mape_sales_arima)\n",
        "\n",
        "mse_sales_arima = MSE(fc_series_demand,test)\n",
        "print(mse_sales_arima)\n",
        "df_forecast[\"ARIMA\"] = fc\n",
        "\n",
        "df_errors.loc[\"ARIMA\",\"MAPE\"] = mape_sales_arima\n",
        "df_errors.loc[\"ARIMA\",\"RMSE\"] = rmse_sales_arima\n",
        "df_errors.loc[\"ARIMA\",\"MSE\"] = mse_sales_arima\n",
        "\n"
      ],
      "metadata": {
        "colab": {
          "base_uri": "https://localhost:8080/",
          "height": 1000
        },
        "id": "Wd6fHKdVrXK6",
        "outputId": "31abc47c-3db6-4efb-b250-56bc54975c23"
      },
      "execution_count": 93,
      "outputs": [
        {
          "output_type": "display_data",
          "data": {
            "text/plain": [
              "<Figure size 432x288 with 2 Axes>"
            ],
            "image/png": "[encoded data removed]"
          },
          "metadata": {
            "needs_background": "light"
          }
        },
        {
          "output_type": "display_data",
          "data": {
            "text/plain": [
              "<Figure size 432x288 with 1 Axes>"
            ],
            "image/png": "[encoded data removed]"
          },
          "metadata": {
            "needs_background": "light"
          }
        },
        {
          "output_type": "stream",
          "name": "stdout",
          "text": [
            "                              ARMA Model Results                              \n",
            "==============================================================================\n",
            "Dep. Variable:                      y   No. Observations:                   36\n",
            "Model:                     ARMA(2, 2)   Log Likelihood                -238.235\n",
            "Method:                       css-mle   S.D. of innovations            179.701\n",
            "Date:                Tue, 05 Apr 2022   AIC                            488.470\n",
            "Time:                        03:51:47   BIC                            497.971\n",
            "Sample:                             0   HQIC                           491.787\n",
            "                                                                              \n",
            "==============================================================================\n",
            "                 coef    std err          z      P>|z|      [0.025      0.975]\n",
            "------------------------------------------------------------------------------\n",
            "const       1447.6426     36.303     39.877      0.000    1376.491    1518.795\n",
            "ar.L1.y       -0.1644      0.513     -0.321      0.751      -1.169       0.840\n",
            "ar.L2.y        0.2049      0.370      0.553      0.584      -0.521       0.931\n",
            "ma.L1.y       -0.0907      0.522     -0.174      0.863      -1.113       0.932\n",
            "ma.L2.y        0.2686      0.262      1.024      0.314      -0.246       0.783\n",
            "                                    Roots                                    \n",
            "=============================================================================\n",
            "                  Real          Imaginary           Modulus         Frequency\n",
            "-----------------------------------------------------------------------------\n",
            "AR.1           -1.8443           +0.0000j            1.8443            0.5000\n",
            "AR.2            2.6468           +0.0000j            2.6468            0.0000\n",
            "MA.1            0.1688           -1.9220j            1.9294           -0.2361\n",
            "MA.2            0.1688           +1.9220j            1.9294            0.2361\n",
            "-----------------------------------------------------------------------------\n"
          ]
        },
        {
          "output_type": "display_data",
          "data": {
            "text/plain": [
              "<Figure size 1200x500 with 1 Axes>"
            ],
            "image/png": "[encoded data removed]"
          },
          "metadata": {
            "needs_background": "light"
          }
        },
        {
          "output_type": "stream",
          "name": "stdout",
          "text": [
            "234.4262859276187\n",
            "14.879443508159481\n",
            "54955.68353381764\n"
          ]
        },
        {
          "output_type": "display_data",
          "data": {
            "text/plain": [
              "<Figure size 432x288 with 0 Axes>"
            ]
          },
          "metadata": {}
        }
      ]
    },
    {
      "cell_type": "markdown",
      "source": [
        "### Random Forest"
      ],
      "metadata": {
        "id": "-s1yGaBL2cOg"
      }
    },
    {
      "cell_type": "code",
      "source": [
        "\n",
        "df_random = df_sales\n",
        "\n",
        "df_random.isnull().sum()\n",
        "\n",
        "df_random = df_random.dropna()\n",
        "#['Value','advance','less','Qty','Net Value','Unit Weight','Unit Price','Month_N','Month_Year','sum_w','Discount']]\n",
        "\n",
        "df_random = df_random[['Date','Year','Month','Cash/Credit','Bag','Weight','Adj_Dis','Unit_Price_Dis']]\n",
        "\n",
        "df_1 = df_random.groupby(['Year','Month','Bag']).agg(sum_weight=('Weight',sum),Discount=('Adj_Dis','mean'),Unit_Rate = ('Unit_Price_Dis','mean'),Bag_count=('Bag','count')).reset_index()\n",
        "\n",
        "df_dummies = pd.get_dummies(df_1[['Bag']])\n",
        "df_dummies.head()\n",
        "\n",
        "df_rand = df_1.join(df_dummies)\n",
        "\n",
        "df_rand = df_rand.groupby(['Month','Year']).agg({'sum_weight':'sum', 'Discount':'mean', 'Unit_Rate':'mean'}).reset_index()\n",
        "\n",
        "df_rand.sort_values(['Year','Month'],inplace =True)\n",
        "\n",
        "df_rand = pd.merge(df_rand, whole_month_purchase,on=['Year','Month'] ,how = 'left')\n",
        "\n",
        "del df_rand['Month']\n",
        "del df_rand['Year']\n",
        "#del df_rand['Product']\n",
        "#del df_rand['Bag']\n",
        "\n",
        "labels = np.array(df_rand['sum_weight'])\n",
        "feature_list = list(df_rand.columns.values)\n",
        "                          \n",
        "del df_rand['sum_weight']\n",
        "df_rand = np.array(df_rand)\n",
        "\n",
        "# Using Skicit-learn to split data into training and testing sets\n",
        "from sklearn.model_selection import train_test_split\n",
        "# Split the data into training and testing sets\n",
        "train_features, test_features, train_labels, test_labels = train_test_split(df_rand, labels, test_size = 0.2, random_state = 1000)\n",
        "\n",
        "\n",
        "\n",
        "print('Training Features Shape:', train_features.shape)\n",
        "print('Training Labels Shape:', train_labels.shape)\n",
        "print('Testing Features Shape:', test_features.shape)\n",
        "print('Testing Labels Shape:', test_labels.shape)\n",
        "\n",
        "\n",
        "\n",
        "# Import the model we are using\n",
        "from sklearn.ensemble import RandomForestRegressor\n",
        "# Instantiate model with 1000 decision trees\n",
        "rf = RandomForestRegressor(n_estimators = 1000, random_state = 42)\n",
        "# Train the model on training data\n",
        "rf.fit(train_features, train_labels)\n",
        "\n",
        "# Use the forest's predict method on the test data\n",
        "predictions_demand_rf= rf.predict(test_features)\n",
        "# Calculate the absolute errors\n",
        "errors = abs(predictions_demand_rf - test_labels)\n",
        "# Print out the mean absolute error (mae)\n",
        "mse_sales_rf = MSE(test_labels,predictions_demand_rf)\n",
        "print(\"MSE of Random Forest Demand: \",mse_sales_rf)\n",
        "mape_sales_rf = MAPE(test_labels,predictions_demand_rf)\n",
        "print(mape_sales_rf*100)\n",
        "\n",
        "rmse_sales_rf = math.sqrt(mean_squared_error(test_labels, predictions_demand_rf))\n",
        "print('RMSE of Random Forest =',round(rmse_sales_rf))\n",
        "\n",
        "\n",
        "\n"
      ],
      "metadata": {
        "colab": {
          "base_uri": "https://localhost:8080/"
        },
        "id": "izQ2wROgttq2",
        "outputId": "c72a5fde-ba1b-47e9-f9c6-6dfafc4c150d"
      },
      "execution_count": 117,
      "outputs": [
        {
          "output_type": "stream",
          "name": "stdout",
          "text": [
            "Training Features Shape: (28, 3)\n",
            "Training Labels Shape: (28,)\n",
            "Testing Features Shape: (8, 3)\n",
            "Testing Labels Shape: (8,)\n",
            "MSE of Random Forest Demand:  24733.268199169746\n",
            "8.490332608433883\n",
            "RMSE of Random Forest = 157\n"
          ]
        }
      ]
    },
    {
      "cell_type": "markdown",
      "source": [
        "Initating GRID search to find the best parameter value for the Random Forest\n",
        "**bold text**\n",
        "\n"
      ],
      "metadata": {
        "id": "b1FygNPp6ARC"
      }
    },
    {
      "cell_type": "code",
      "source": [
        "def evaluate(model, test_features, test_labels):\n",
        "    predictions = model.predict(test_features)\n",
        "    errors = abs(predictions - test_labels)\n",
        "    mape = 100 * np.mean(errors / test_labels)\n",
        "    accuracy = 100 - mape\n",
        "    print('Model Performance')\n",
        "    print('Average Error: {:0.4f}.'.format(np.mean(errors)))\n",
        "    print('Accuracy = {:0.2f}%.'.format(accuracy))\n",
        "    \n",
        "    return accuracy\n",
        "base_model = RandomForestRegressor(n_estimators = 10, random_state = 42)\n",
        "base_model.fit(train_features, train_labels)\n",
        "base_accuracy = evaluate(base_model, test_features, test_labels)\n",
        "\n",
        "from sklearn import svm, datasets\n",
        "from sklearn.model_selection import GridSearchCV# Create the parameter grid based on the results of random search \n",
        "param_grid = {\n",
        "    'bootstrap': [True],\n",
        "    'max_depth': [80, 90, 100, 110],\n",
        "    'max_features': [2, 3],\n",
        "    'min_samples_leaf': [3, 4, 5],\n",
        "    'min_samples_split': [8, 10, 12],\n",
        "    'n_estimators': [100, 200, 300, 1000]}\n",
        "# Create a based model\n",
        "rf = RandomForestRegressor()\n",
        "\n",
        "#Instantiate the grid search model\n",
        "\n",
        "grid_search = GridSearchCV(estimator = rf, param_grid = param_grid, cv = 3, n_jobs = -1, verbose = 2)\n",
        "\n",
        "\n",
        "# Fit the grid search to the data\n",
        "grid_search.fit(train_features, train_labels)\n",
        "grid_search.best_params_\n",
        "\n",
        "\n",
        "best_grid = grid_search.best_estimator_\n",
        "grid_accuracy = evaluate(best_grid, test_features, test_labels)\n",
        "\n",
        "print('Improvement of {:0.2f}%.'.format( 100 * (grid_accuracy - base_accuracy) / base_accuracy))"
      ],
      "metadata": {
        "colab": {
          "base_uri": "https://localhost:8080/",
          "height": 460
        },
        "id": "kp_gIDiMz4qR",
        "outputId": "285880c1-2cc4-4718-91ad-40720226cd3b"
      },
      "execution_count": 118,
      "outputs": [
        {
          "output_type": "stream",
          "name": "stdout",
          "text": [
            "Model Performance\n",
            "Average Error: 154.3574.\n",
            "Accuracy = 89.82%.\n",
            "Fitting 3 folds for each of 288 candidates, totalling 864 fits\n"
          ]
        },
        {
          "output_type": "error",
          "ename": "KeyboardInterrupt",
          "evalue": "ignored",
          "traceback": [
            "\u001b[0;31m---------------------------------------------------------------------------\u001b[0m",
            "\u001b[0;31mKeyboardInterrupt\u001b[0m                         Traceback (most recent call last)",
            "\u001b[0;32m<ipython-input-118-b0551286cb9f>\u001b[0m in \u001b[0;36m<module>\u001b[0;34m()\u001b[0m\n\u001b[1;32m     31\u001b[0m \u001b[0;34m\u001b[0m\u001b[0m\n\u001b[1;32m     32\u001b[0m \u001b[0;31m# Fit the grid search to the data\u001b[0m\u001b[0;34m\u001b[0m\u001b[0;34m\u001b[0m\u001b[0;34m\u001b[0m\u001b[0m\n\u001b[0;32m---> 33\u001b[0;31m \u001b[0mgrid_search\u001b[0m\u001b[0;34m.\u001b[0m\u001b[0mfit\u001b[0m\u001b[0;34m(\u001b[0m\u001b[0mtrain_features\u001b[0m\u001b[0;34m,\u001b[0m \u001b[0mtrain_labels\u001b[0m\u001b[0;34m)\u001b[0m\u001b[0;34m\u001b[0m\u001b[0;34m\u001b[0m\u001b[0m\n\u001b[0m\u001b[1;32m     34\u001b[0m \u001b[0mgrid_search\u001b[0m\u001b[0;34m.\u001b[0m\u001b[0mbest_params_\u001b[0m\u001b[0;34m\u001b[0m\u001b[0;34m\u001b[0m\u001b[0m\n\u001b[1;32m     35\u001b[0m \u001b[0;34m\u001b[0m\u001b[0m\n",
            "\u001b[0;32m/usr/local/lib/python3.7/dist-packages/sklearn/model_selection/_search.py\u001b[0m in \u001b[0;36mfit\u001b[0;34m(self, X, y, groups, **fit_params)\u001b[0m\n\u001b[1;32m    889\u001b[0m                 \u001b[0;32mreturn\u001b[0m \u001b[0mresults\u001b[0m\u001b[0;34m\u001b[0m\u001b[0;34m\u001b[0m\u001b[0m\n\u001b[1;32m    890\u001b[0m \u001b[0;34m\u001b[0m\u001b[0m\n\u001b[0;32m--> 891\u001b[0;31m             \u001b[0mself\u001b[0m\u001b[0;34m.\u001b[0m\u001b[0m_run_search\u001b[0m\u001b[0;34m(\u001b[0m\u001b[0mevaluate_candidates\u001b[0m\u001b[0;34m)\u001b[0m\u001b[0;34m\u001b[0m\u001b[0;34m\u001b[0m\u001b[0m\n\u001b[0m\u001b[1;32m    892\u001b[0m \u001b[0;34m\u001b[0m\u001b[0m\n\u001b[1;32m    893\u001b[0m             \u001b[0;31m# multimetric is determined here because in the case of a callable\u001b[0m\u001b[0;34m\u001b[0m\u001b[0;34m\u001b[0m\u001b[0;34m\u001b[0m\u001b[0m\n",
            "\u001b[0;32m/usr/local/lib/python3.7/dist-packages/sklearn/model_selection/_search.py\u001b[0m in \u001b[0;36m_run_search\u001b[0;34m(self, evaluate_candidates)\u001b[0m\n\u001b[1;32m   1390\u001b[0m     \u001b[0;32mdef\u001b[0m \u001b[0m_run_search\u001b[0m\u001b[0;34m(\u001b[0m\u001b[0mself\u001b[0m\u001b[0;34m,\u001b[0m \u001b[0mevaluate_candidates\u001b[0m\u001b[0;34m)\u001b[0m\u001b[0;34m:\u001b[0m\u001b[0;34m\u001b[0m\u001b[0;34m\u001b[0m\u001b[0m\n\u001b[1;32m   1391\u001b[0m         \u001b[0;34m\"\"\"Search all candidates in param_grid\"\"\"\u001b[0m\u001b[0;34m\u001b[0m\u001b[0;34m\u001b[0m\u001b[0m\n\u001b[0;32m-> 1392\u001b[0;31m         \u001b[0mevaluate_candidates\u001b[0m\u001b[0;34m(\u001b[0m\u001b[0mParameterGrid\u001b[0m\u001b[0;34m(\u001b[0m\u001b[0mself\u001b[0m\u001b[0;34m.\u001b[0m\u001b[0mparam_grid\u001b[0m\u001b[0;34m)\u001b[0m\u001b[0;34m)\u001b[0m\u001b[0;34m\u001b[0m\u001b[0;34m\u001b[0m\u001b[0m\n\u001b[0m\u001b[1;32m   1393\u001b[0m \u001b[0;34m\u001b[0m\u001b[0m\n\u001b[1;32m   1394\u001b[0m \u001b[0;34m\u001b[0m\u001b[0m\n",
            "\u001b[0;32m/usr/local/lib/python3.7/dist-packages/sklearn/model_selection/_search.py\u001b[0m in \u001b[0;36mevaluate_candidates\u001b[0;34m(candidate_params, cv, more_results)\u001b[0m\n\u001b[1;32m    849\u001b[0m                     )\n\u001b[1;32m    850\u001b[0m                     for (cand_idx, parameters), (split_idx, (train, test)) in product(\n\u001b[0;32m--> 851\u001b[0;31m                         \u001b[0menumerate\u001b[0m\u001b[0;34m(\u001b[0m\u001b[0mcandidate_params\u001b[0m\u001b[0;34m)\u001b[0m\u001b[0;34m,\u001b[0m \u001b[0menumerate\u001b[0m\u001b[0;34m(\u001b[0m\u001b[0mcv\u001b[0m\u001b[0;34m.\u001b[0m\u001b[0msplit\u001b[0m\u001b[0;34m(\u001b[0m\u001b[0mX\u001b[0m\u001b[0;34m,\u001b[0m \u001b[0my\u001b[0m\u001b[0;34m,\u001b[0m \u001b[0mgroups\u001b[0m\u001b[0;34m)\u001b[0m\u001b[0;34m)\u001b[0m\u001b[0;34m\u001b[0m\u001b[0;34m\u001b[0m\u001b[0m\n\u001b[0m\u001b[1;32m    852\u001b[0m                     )\n\u001b[1;32m    853\u001b[0m                 )\n",
            "\u001b[0;32m/usr/local/lib/python3.7/dist-packages/joblib/parallel.py\u001b[0m in \u001b[0;36m__call__\u001b[0;34m(self, iterable)\u001b[0m\n\u001b[1;32m   1054\u001b[0m \u001b[0;34m\u001b[0m\u001b[0m\n\u001b[1;32m   1055\u001b[0m             \u001b[0;32mwith\u001b[0m \u001b[0mself\u001b[0m\u001b[0;34m.\u001b[0m\u001b[0m_backend\u001b[0m\u001b[0;34m.\u001b[0m\u001b[0mretrieval_context\u001b[0m\u001b[0;34m(\u001b[0m\u001b[0;34m)\u001b[0m\u001b[0;34m:\u001b[0m\u001b[0;34m\u001b[0m\u001b[0;34m\u001b[0m\u001b[0m\n\u001b[0;32m-> 1056\u001b[0;31m                 \u001b[0mself\u001b[0m\u001b[0;34m.\u001b[0m\u001b[0mretrieve\u001b[0m\u001b[0;34m(\u001b[0m\u001b[0;34m)\u001b[0m\u001b[0;34m\u001b[0m\u001b[0;34m\u001b[0m\u001b[0m\n\u001b[0m\u001b[1;32m   1057\u001b[0m             \u001b[0;31m# Make sure that we get a last message telling us we are done\u001b[0m\u001b[0;34m\u001b[0m\u001b[0;34m\u001b[0m\u001b[0;34m\u001b[0m\u001b[0m\n\u001b[1;32m   1058\u001b[0m             \u001b[0melapsed_time\u001b[0m \u001b[0;34m=\u001b[0m \u001b[0mtime\u001b[0m\u001b[0;34m.\u001b[0m\u001b[0mtime\u001b[0m\u001b[0;34m(\u001b[0m\u001b[0;34m)\u001b[0m \u001b[0;34m-\u001b[0m \u001b[0mself\u001b[0m\u001b[0;34m.\u001b[0m\u001b[0m_start_time\u001b[0m\u001b[0;34m\u001b[0m\u001b[0;34m\u001b[0m\u001b[0m\n",
            "\u001b[0;32m/usr/local/lib/python3.7/dist-packages/joblib/parallel.py\u001b[0m in \u001b[0;36mretrieve\u001b[0;34m(self)\u001b[0m\n\u001b[1;32m    933\u001b[0m             \u001b[0;32mtry\u001b[0m\u001b[0;34m:\u001b[0m\u001b[0;34m\u001b[0m\u001b[0;34m\u001b[0m\u001b[0m\n\u001b[1;32m    934\u001b[0m                 \u001b[0;32mif\u001b[0m \u001b[0mgetattr\u001b[0m\u001b[0;34m(\u001b[0m\u001b[0mself\u001b[0m\u001b[0;34m.\u001b[0m\u001b[0m_backend\u001b[0m\u001b[0;34m,\u001b[0m \u001b[0;34m'supports_timeout'\u001b[0m\u001b[0;34m,\u001b[0m \u001b[0;32mFalse\u001b[0m\u001b[0;34m)\u001b[0m\u001b[0;34m:\u001b[0m\u001b[0;34m\u001b[0m\u001b[0;34m\u001b[0m\u001b[0m\n\u001b[0;32m--> 935\u001b[0;31m                     \u001b[0mself\u001b[0m\u001b[0;34m.\u001b[0m\u001b[0m_output\u001b[0m\u001b[0;34m.\u001b[0m\u001b[0mextend\u001b[0m\u001b[0;34m(\u001b[0m\u001b[0mjob\u001b[0m\u001b[0;34m.\u001b[0m\u001b[0mget\u001b[0m\u001b[0;34m(\u001b[0m\u001b[0mtimeout\u001b[0m\u001b[0;34m=\u001b[0m\u001b[0mself\u001b[0m\u001b[0;34m.\u001b[0m\u001b[0mtimeout\u001b[0m\u001b[0;34m)\u001b[0m\u001b[0;34m)\u001b[0m\u001b[0;34m\u001b[0m\u001b[0;34m\u001b[0m\u001b[0m\n\u001b[0m\u001b[1;32m    936\u001b[0m                 \u001b[0;32melse\u001b[0m\u001b[0;34m:\u001b[0m\u001b[0;34m\u001b[0m\u001b[0;34m\u001b[0m\u001b[0m\n\u001b[1;32m    937\u001b[0m                     \u001b[0mself\u001b[0m\u001b[0;34m.\u001b[0m\u001b[0m_output\u001b[0m\u001b[0;34m.\u001b[0m\u001b[0mextend\u001b[0m\u001b[0;34m(\u001b[0m\u001b[0mjob\u001b[0m\u001b[0;34m.\u001b[0m\u001b[0mget\u001b[0m\u001b[0;34m(\u001b[0m\u001b[0;34m)\u001b[0m\u001b[0;34m)\u001b[0m\u001b[0;34m\u001b[0m\u001b[0;34m\u001b[0m\u001b[0m\n",
            "\u001b[0;32m/usr/local/lib/python3.7/dist-packages/joblib/_parallel_backends.py\u001b[0m in \u001b[0;36mwrap_future_result\u001b[0;34m(future, timeout)\u001b[0m\n\u001b[1;32m    540\u001b[0m         AsyncResults.get from multiprocessing.\"\"\"\n\u001b[1;32m    541\u001b[0m         \u001b[0;32mtry\u001b[0m\u001b[0;34m:\u001b[0m\u001b[0;34m\u001b[0m\u001b[0;34m\u001b[0m\u001b[0m\n\u001b[0;32m--> 542\u001b[0;31m             \u001b[0;32mreturn\u001b[0m \u001b[0mfuture\u001b[0m\u001b[0;34m.\u001b[0m\u001b[0mresult\u001b[0m\u001b[0;34m(\u001b[0m\u001b[0mtimeout\u001b[0m\u001b[0;34m=\u001b[0m\u001b[0mtimeout\u001b[0m\u001b[0;34m)\u001b[0m\u001b[0;34m\u001b[0m\u001b[0;34m\u001b[0m\u001b[0m\n\u001b[0m\u001b[1;32m    543\u001b[0m         \u001b[0;32mexcept\u001b[0m \u001b[0mCfTimeoutError\u001b[0m \u001b[0;32mas\u001b[0m \u001b[0me\u001b[0m\u001b[0;34m:\u001b[0m\u001b[0;34m\u001b[0m\u001b[0;34m\u001b[0m\u001b[0m\n\u001b[1;32m    544\u001b[0m             \u001b[0;32mraise\u001b[0m \u001b[0mTimeoutError\u001b[0m \u001b[0;32mfrom\u001b[0m \u001b[0me\u001b[0m\u001b[0;34m\u001b[0m\u001b[0;34m\u001b[0m\u001b[0m\n",
            "\u001b[0;32m/usr/lib/python3.7/concurrent/futures/_base.py\u001b[0m in \u001b[0;36mresult\u001b[0;34m(self, timeout)\u001b[0m\n\u001b[1;32m    428\u001b[0m                 \u001b[0;32mreturn\u001b[0m \u001b[0mself\u001b[0m\u001b[0;34m.\u001b[0m\u001b[0m__get_result\u001b[0m\u001b[0;34m(\u001b[0m\u001b[0;34m)\u001b[0m\u001b[0;34m\u001b[0m\u001b[0;34m\u001b[0m\u001b[0m\n\u001b[1;32m    429\u001b[0m \u001b[0;34m\u001b[0m\u001b[0m\n\u001b[0;32m--> 430\u001b[0;31m             \u001b[0mself\u001b[0m\u001b[0;34m.\u001b[0m\u001b[0m_condition\u001b[0m\u001b[0;34m.\u001b[0m\u001b[0mwait\u001b[0m\u001b[0;34m(\u001b[0m\u001b[0mtimeout\u001b[0m\u001b[0;34m)\u001b[0m\u001b[0;34m\u001b[0m\u001b[0;34m\u001b[0m\u001b[0m\n\u001b[0m\u001b[1;32m    431\u001b[0m \u001b[0;34m\u001b[0m\u001b[0m\n\u001b[1;32m    432\u001b[0m             \u001b[0;32mif\u001b[0m \u001b[0mself\u001b[0m\u001b[0;34m.\u001b[0m\u001b[0m_state\u001b[0m \u001b[0;32min\u001b[0m \u001b[0;34m[\u001b[0m\u001b[0mCANCELLED\u001b[0m\u001b[0;34m,\u001b[0m \u001b[0mCANCELLED_AND_NOTIFIED\u001b[0m\u001b[0;34m]\u001b[0m\u001b[0;34m:\u001b[0m\u001b[0;34m\u001b[0m\u001b[0;34m\u001b[0m\u001b[0m\n",
            "\u001b[0;32m/usr/lib/python3.7/threading.py\u001b[0m in \u001b[0;36mwait\u001b[0;34m(self, timeout)\u001b[0m\n\u001b[1;32m    294\u001b[0m         \u001b[0;32mtry\u001b[0m\u001b[0;34m:\u001b[0m    \u001b[0;31m# restore state no matter what (e.g., KeyboardInterrupt)\u001b[0m\u001b[0;34m\u001b[0m\u001b[0;34m\u001b[0m\u001b[0m\n\u001b[1;32m    295\u001b[0m             \u001b[0;32mif\u001b[0m \u001b[0mtimeout\u001b[0m \u001b[0;32mis\u001b[0m \u001b[0;32mNone\u001b[0m\u001b[0;34m:\u001b[0m\u001b[0;34m\u001b[0m\u001b[0;34m\u001b[0m\u001b[0m\n\u001b[0;32m--> 296\u001b[0;31m                 \u001b[0mwaiter\u001b[0m\u001b[0;34m.\u001b[0m\u001b[0macquire\u001b[0m\u001b[0;34m(\u001b[0m\u001b[0;34m)\u001b[0m\u001b[0;34m\u001b[0m\u001b[0;34m\u001b[0m\u001b[0m\n\u001b[0m\u001b[1;32m    297\u001b[0m                 \u001b[0mgotit\u001b[0m \u001b[0;34m=\u001b[0m \u001b[0;32mTrue\u001b[0m\u001b[0;34m\u001b[0m\u001b[0;34m\u001b[0m\u001b[0m\n\u001b[1;32m    298\u001b[0m             \u001b[0;32melse\u001b[0m\u001b[0;34m:\u001b[0m\u001b[0;34m\u001b[0m\u001b[0;34m\u001b[0m\u001b[0m\n",
            "\u001b[0;31mKeyboardInterrupt\u001b[0m: "
          ]
        }
      ]
    },
    {
      "cell_type": "code",
      "source": [
        "predictions_demand_rf = best_grid.predict(test_features)\n",
        "mape_sales_rf = MAPE(predictions_demand_rf,test_labels)\n",
        "rmse_sales_rf = math.sqrt(mean_squared_error(test_labels, predictions_demand_rf))\n",
        "mse_sales_rf = MSE(predictions_demand_rf,test_labels)"
      ],
      "metadata": {
        "id": "GY1_Bmft6m9Y"
      },
      "execution_count": 115,
      "outputs": []
    },
    {
      "cell_type": "code",
      "source": [
        "df_forecast[\"Random_Forest\"] = predictions_demand_rf\n",
        "\n",
        "df_errors.loc[\"Random_Forest\",\"MAPE\"] = mape_sales_rf\n",
        "df_errors.loc[\"Random_Forest\",\"RMSE\"] = rmse_sales_rf\n",
        "df_errors.loc[\"Random_Forest\",\"MSE\"] = mse_sales_rf"
      ],
      "metadata": {
        "colab": {
          "base_uri": "https://localhost:8080/",
          "height": 389
        },
        "id": "p_CwNXds6Yjv",
        "outputId": "fb693ee2-a0de-4e5c-b62c-e1ed155921cc"
      },
      "execution_count": 116,
      "outputs": [
        {
          "output_type": "error",
          "ename": "ValueError",
          "evalue": "ignored",
          "traceback": [
            "\u001b[0;31m---------------------------------------------------------------------------\u001b[0m",
            "\u001b[0;31mValueError\u001b[0m                                Traceback (most recent call last)",
            "\u001b[0;32m<ipython-input-116-dd407910931c>\u001b[0m in \u001b[0;36m<module>\u001b[0;34m()\u001b[0m\n\u001b[0;32m----> 1\u001b[0;31m \u001b[0mdf_forecast\u001b[0m\u001b[0;34m[\u001b[0m\u001b[0;34m\"Random_Forest\"\u001b[0m\u001b[0;34m]\u001b[0m \u001b[0;34m=\u001b[0m \u001b[0mpredictions_demand_rf\u001b[0m\u001b[0;34m\u001b[0m\u001b[0;34m\u001b[0m\u001b[0m\n\u001b[0m\u001b[1;32m      2\u001b[0m \u001b[0;34m\u001b[0m\u001b[0m\n\u001b[1;32m      3\u001b[0m \u001b[0mdf_errors\u001b[0m\u001b[0;34m.\u001b[0m\u001b[0mloc\u001b[0m\u001b[0;34m[\u001b[0m\u001b[0;34m\"Random_Forest\"\u001b[0m\u001b[0;34m,\u001b[0m\u001b[0;34m\"MAPE\"\u001b[0m\u001b[0;34m]\u001b[0m \u001b[0;34m=\u001b[0m \u001b[0mmape_sales_rf\u001b[0m\u001b[0;34m\u001b[0m\u001b[0;34m\u001b[0m\u001b[0m\n\u001b[1;32m      4\u001b[0m \u001b[0mdf_errors\u001b[0m\u001b[0;34m.\u001b[0m\u001b[0mloc\u001b[0m\u001b[0;34m[\u001b[0m\u001b[0;34m\"Random_Forest\"\u001b[0m\u001b[0;34m,\u001b[0m\u001b[0;34m\"RMSE\"\u001b[0m\u001b[0;34m]\u001b[0m \u001b[0;34m=\u001b[0m \u001b[0mrmse_sales_rf\u001b[0m\u001b[0;34m\u001b[0m\u001b[0;34m\u001b[0m\u001b[0m\n\u001b[1;32m      5\u001b[0m \u001b[0mdf_errors\u001b[0m\u001b[0;34m.\u001b[0m\u001b[0mloc\u001b[0m\u001b[0;34m[\u001b[0m\u001b[0;34m\"Random_Forest\"\u001b[0m\u001b[0;34m,\u001b[0m\u001b[0;34m\"MSE\"\u001b[0m\u001b[0;34m]\u001b[0m \u001b[0;34m=\u001b[0m \u001b[0mmse_sales_rf\u001b[0m\u001b[0;34m\u001b[0m\u001b[0;34m\u001b[0m\u001b[0m\n",
            "\u001b[0;32m/usr/local/lib/python3.7/dist-packages/pandas/core/frame.py\u001b[0m in \u001b[0;36m__setitem__\u001b[0;34m(self, key, value)\u001b[0m\n\u001b[1;32m   3610\u001b[0m         \u001b[0;32melse\u001b[0m\u001b[0;34m:\u001b[0m\u001b[0;34m\u001b[0m\u001b[0;34m\u001b[0m\u001b[0m\n\u001b[1;32m   3611\u001b[0m             \u001b[0;31m# set column\u001b[0m\u001b[0;34m\u001b[0m\u001b[0;34m\u001b[0m\u001b[0;34m\u001b[0m\u001b[0m\n\u001b[0;32m-> 3612\u001b[0;31m             \u001b[0mself\u001b[0m\u001b[0;34m.\u001b[0m\u001b[0m_set_item\u001b[0m\u001b[0;34m(\u001b[0m\u001b[0mkey\u001b[0m\u001b[0;34m,\u001b[0m \u001b[0mvalue\u001b[0m\u001b[0;34m)\u001b[0m\u001b[0;34m\u001b[0m\u001b[0;34m\u001b[0m\u001b[0m\n\u001b[0m\u001b[1;32m   3613\u001b[0m \u001b[0;34m\u001b[0m\u001b[0m\n\u001b[1;32m   3614\u001b[0m     \u001b[0;32mdef\u001b[0m \u001b[0m_setitem_slice\u001b[0m\u001b[0;34m(\u001b[0m\u001b[0mself\u001b[0m\u001b[0;34m,\u001b[0m \u001b[0mkey\u001b[0m\u001b[0;34m:\u001b[0m \u001b[0mslice\u001b[0m\u001b[0;34m,\u001b[0m \u001b[0mvalue\u001b[0m\u001b[0;34m)\u001b[0m\u001b[0;34m:\u001b[0m\u001b[0;34m\u001b[0m\u001b[0;34m\u001b[0m\u001b[0m\n",
            "\u001b[0;32m/usr/local/lib/python3.7/dist-packages/pandas/core/frame.py\u001b[0m in \u001b[0;36m_set_item\u001b[0;34m(self, key, value)\u001b[0m\n\u001b[1;32m   3782\u001b[0m         \u001b[0mensure\u001b[0m \u001b[0mhomogeneity\u001b[0m\u001b[0;34m.\u001b[0m\u001b[0;34m\u001b[0m\u001b[0;34m\u001b[0m\u001b[0m\n\u001b[1;32m   3783\u001b[0m         \"\"\"\n\u001b[0;32m-> 3784\u001b[0;31m         \u001b[0mvalue\u001b[0m \u001b[0;34m=\u001b[0m \u001b[0mself\u001b[0m\u001b[0;34m.\u001b[0m\u001b[0m_sanitize_column\u001b[0m\u001b[0;34m(\u001b[0m\u001b[0mvalue\u001b[0m\u001b[0;34m)\u001b[0m\u001b[0;34m\u001b[0m\u001b[0;34m\u001b[0m\u001b[0m\n\u001b[0m\u001b[1;32m   3785\u001b[0m \u001b[0;34m\u001b[0m\u001b[0m\n\u001b[1;32m   3786\u001b[0m         if (\n",
            "\u001b[0;32m/usr/local/lib/python3.7/dist-packages/pandas/core/frame.py\u001b[0m in \u001b[0;36m_sanitize_column\u001b[0;34m(self, value)\u001b[0m\n\u001b[1;32m   4507\u001b[0m \u001b[0;34m\u001b[0m\u001b[0m\n\u001b[1;32m   4508\u001b[0m         \u001b[0;32mif\u001b[0m \u001b[0mis_list_like\u001b[0m\u001b[0;34m(\u001b[0m\u001b[0mvalue\u001b[0m\u001b[0;34m)\u001b[0m\u001b[0;34m:\u001b[0m\u001b[0;34m\u001b[0m\u001b[0;34m\u001b[0m\u001b[0m\n\u001b[0;32m-> 4509\u001b[0;31m             \u001b[0mcom\u001b[0m\u001b[0;34m.\u001b[0m\u001b[0mrequire_length_match\u001b[0m\u001b[0;34m(\u001b[0m\u001b[0mvalue\u001b[0m\u001b[0;34m,\u001b[0m \u001b[0mself\u001b[0m\u001b[0;34m.\u001b[0m\u001b[0mindex\u001b[0m\u001b[0;34m)\u001b[0m\u001b[0;34m\u001b[0m\u001b[0;34m\u001b[0m\u001b[0m\n\u001b[0m\u001b[1;32m   4510\u001b[0m         \u001b[0;32mreturn\u001b[0m \u001b[0msanitize_array\u001b[0m\u001b[0;34m(\u001b[0m\u001b[0mvalue\u001b[0m\u001b[0;34m,\u001b[0m \u001b[0mself\u001b[0m\u001b[0;34m.\u001b[0m\u001b[0mindex\u001b[0m\u001b[0;34m,\u001b[0m \u001b[0mcopy\u001b[0m\u001b[0;34m=\u001b[0m\u001b[0;32mTrue\u001b[0m\u001b[0;34m,\u001b[0m \u001b[0mallow_2d\u001b[0m\u001b[0;34m=\u001b[0m\u001b[0;32mTrue\u001b[0m\u001b[0;34m)\u001b[0m\u001b[0;34m\u001b[0m\u001b[0;34m\u001b[0m\u001b[0m\n\u001b[1;32m   4511\u001b[0m \u001b[0;34m\u001b[0m\u001b[0m\n",
            "\u001b[0;32m/usr/local/lib/python3.7/dist-packages/pandas/core/common.py\u001b[0m in \u001b[0;36mrequire_length_match\u001b[0;34m(data, index)\u001b[0m\n\u001b[1;32m    530\u001b[0m     \u001b[0;32mif\u001b[0m \u001b[0mlen\u001b[0m\u001b[0;34m(\u001b[0m\u001b[0mdata\u001b[0m\u001b[0;34m)\u001b[0m \u001b[0;34m!=\u001b[0m \u001b[0mlen\u001b[0m\u001b[0;34m(\u001b[0m\u001b[0mindex\u001b[0m\u001b[0;34m)\u001b[0m\u001b[0;34m:\u001b[0m\u001b[0;34m\u001b[0m\u001b[0;34m\u001b[0m\u001b[0m\n\u001b[1;32m    531\u001b[0m         raise ValueError(\n\u001b[0;32m--> 532\u001b[0;31m             \u001b[0;34m\"Length of values \"\u001b[0m\u001b[0;34m\u001b[0m\u001b[0;34m\u001b[0m\u001b[0m\n\u001b[0m\u001b[1;32m    533\u001b[0m             \u001b[0;34mf\"({len(data)}) \"\u001b[0m\u001b[0;34m\u001b[0m\u001b[0;34m\u001b[0m\u001b[0m\n\u001b[1;32m    534\u001b[0m             \u001b[0;34m\"does not match length of index \"\u001b[0m\u001b[0;34m\u001b[0m\u001b[0;34m\u001b[0m\u001b[0m\n",
            "\u001b[0;31mValueError\u001b[0m: Length of values (4) does not match length of index (7)"
          ]
        }
      ]
    },
    {
      "cell_type": "markdown",
      "source": [
        "# Purchase Price Predictions"
      ],
      "metadata": {
        "id": "IQBAmsLa9Wz0"
      }
    },
    {
      "cell_type": "code",
      "source": [
        "# Here we create two dataframe. One dataframe to store all the forecaste values and other for errors\n",
        "df_forecast_price = pd.DataFrame(columns=[\"S.No\",\"seasonalNaiveForecast\",\"Exponential_Smoothing\",\"Holt_Winters\",\"ARIMA\",\"SARIMAX\",\"Random_Forest\"])\n",
        "df_errors_price = pd.DataFrame(columns=[\"Method\",\"RMSE\",\"MAPE\",\"MSE\"])"
      ],
      "metadata": {
        "id": "isgfcUFB9mo4"
      },
      "execution_count": 119,
      "outputs": []
    },
    {
      "cell_type": "code",
      "source": [
        "purchase = df_purchase_d\n",
        "\n",
        "purchase = list(df_purchase_d['Rate'])\n",
        "\n",
        "n = len(purchase)\n",
        "print(n)\n",
        "print(round(n*0.8))\n",
        "\n",
        "train_price = purchase[0:(round(n*0.8))]\n",
        "test_price = purchase[(round(n*0.8)):]\n"
      ],
      "metadata": {
        "colab": {
          "base_uri": "https://localhost:8080/"
        },
        "id": "j59gat92-XE4",
        "outputId": "fd46a8dd-2252-40ee-be18-4286a47a7eef"
      },
      "execution_count": 131,
      "outputs": [
        {
          "output_type": "stream",
          "name": "stdout",
          "text": [
            "891\n",
            "713\n"
          ]
        }
      ]
    },
    {
      "cell_type": "markdown",
      "source": [
        "## Seasonal Navie Forecasting"
      ],
      "metadata": {
        "id": "7ix8VF3dEJUS"
      }
    },
    {
      "cell_type": "code",
      "source": [
        "\n",
        "best_s = 0 # initialize the initial value of best s\n",
        "best_mape = 1.0 # initialize the initial value of MAPE (at the maximum 100%)\n",
        "\n",
        "for s in range(2,12,2):\n",
        "  #print(\"s = \", s)\n",
        "  purchase_fcst_seasonnaive = [seasonalNaiveForecast(purchase, t, s) for t in range(713, 891)]\n",
        "  purchase_fcst_seasonnaive_mape = MAPE(purchase_fcst_seasonnaive, purchase[713:])\n",
        "  #print(\"MAPE :\", purchase_fcst_seasonnaive_mape)\n",
        "  if purchase_fcst_seasonnaive_mape < best_mape: # keep track of the best s\n",
        "    best_s = s # set the new best_s\n",
        "    best_mape = purchase_fcst_seasonnaive_mape # set the new best_mape\n",
        "\n",
        "# we compute again the corresponding forecasts and results based on the best parameter\n",
        "print(\"best seasonality length s = \", best_s)\n",
        "purchase_fcst_seasonnaive = [seasonalNaiveForecast(purchase, t, best_s) for t in range(713, 891)]\n",
        "purchase_fcst_seasonnaive_mse = MSE(purchase_fcst_seasonnaive, purchase[713:])\n",
        "purchase_fcst_seasonnaive_mape = MAPE(purchase_fcst_seasonnaive, purchase[713:])\n",
        "purchase_fcst_seasonnaive_rmse = RMSE(purchase_fcst_seasonnaive, purchase[713:])\n",
        "\n",
        "print(\"add results to the dictionary for the method: \", fcst_names[1])\n",
        "fcst_results[fcst_names[1]] = {'Forecast':purchase_fcst_seasonnaive, 'MSE':purchase_fcst_seasonnaive_mse, 'MAPE':purchase_fcst_seasonnaive_mape}\n",
        "print(fcst_results)\n",
        "\n",
        "df_forecast_price[\"seasonalNaiveForecast\"] = purchase_fcst_seasonnaive\n",
        "\n",
        "df_errors_price.loc[\"seasonalNaiveForecast\",\"MAPE\"] = purchase_fcst_seasonnaive_mape\n",
        "df_errors_price.loc[\"seasonalNaiveForecast\",\"RMSE\"] = purchase_fcst_seasonnaive_rmse\n",
        "df_errors_price.loc[\"seasonalNaiveForecast\",\"MSE\"] = purchase_fcst_seasonnaive_mse\n",
        "\n",
        "\n"
      ],
      "metadata": {
        "colab": {
          "base_uri": "https://localhost:8080/"
        },
        "id": "FiWZ6Pgr9_ul",
        "outputId": "bc2e1351-4246-483d-a0ec-29481f9b992d"
      },
      "execution_count": 132,
      "outputs": [
        {
          "output_type": "stream",
          "name": "stdout",
          "text": [
            "best seasonality length s =  2\n",
            "add results to the dictionary for the method:  SeasonNaive\n",
            "{'Naive': {'Forecast': [1237.825, 1449.83, 1570.53, 1095.05, 1710.865, 1292.975, 1642.175], 'MSE': 137394.90391071432, 'MAPE': 0.1595485215814425}, 'SeasonNaive': {'Forecast': [19.125, 19.39818181818182, 19.59, 19.66, 19.27625, 20.47, 20.5825, 21.85, 21.744999999999997, 21.78, 21.78, 21.67, 21.7, 21.23, 21.4025, 21.253333333333334, 21.48, 21.253333333333334, 21.31, 20.563333333333333, 20.631666666666668, 21.028, 21.466, 21.5, 21.426666666666666, 21.413333333333338, 21.5975, 21.490000000000002, 21.456666666666667, 21.44333333333333, 21.69, 21.484, 21.253333333333334, 21.24125, 20.952, 20.501666666666665, 20.495, 21.37, 20.773333333333333, 20.361428571428572, 20.855, 21.872, 20.265, 21.67, 21.67, 21.67, 21.55, 19.78, 20.54, 21.649999999999995, 21.636, 20.945, 21.608, 21.064999999999998, 21.125999999999998, 21.14, 20.83111111111111, 21.294999999999998, 21.55, 21.64, 21.0, 21.49142857142857, 20.9575, 21.11, 21.098333333333333, 21.6, 20.57, 20.67, 21.32, 20.5075, 20.560000000000002, 16.25, 20.0525, 16.13, 19.046, 18.82, 19.302, 18.033333333333335, 21.57, 20.935, 21.555, 21.316666666666666, 18.40222222222222, 21.5025, 18.406, 14.003333333333336, 17.052, 17.825000000000003, 16.6, 17.437142857142856, 15.538, 16.167, 15.853636363636365, 15.691666666666668, 14.226666666666667, 16.404, 17.733333333333334, 17.7575, 17.49625, 21.451249999999998, 19.85, 20.146923076923073, 19.793846153846154, 18.60125, 18.555384615384614, 18.39875, 19.05727272727273, 19.773636363636363, 20.302500000000002, 20.9, 22.619999999999997, 18.406666666666666, 19.486666666666668, 18.381666666666664, 18.186666666666667, 19.661666666666665, 20.318, 18.092, 19.675, 20.465, 18.646, 20.85125, 20.428571428571427, 17.57, 17.43, 17.59, 17.612857142857145, 17.557499999999997, 18.183333333333334, 21.19666666666667, 19.849999999999998, 19.901111111111113, 17.24875, 19.8475, 19.556923076923077, 19.55153846153846, 19.034545454545455, 19.156, 17.932777777777776, 17.959375, 17.592000000000002, 19.798181818181817, 18.66272727272727, 19.472, 19.703333333333333, 18.65857142857143, 17.842142857142857, 18.6525, 19.93933333333333, 18.044545454545453, 18.08, 18.0125, 21.002499999999998, 17.994999999999997, 18.046666666666667, 18.67, 21.80272727272727, 24.05, 24.043333333333333, 23.91333333333333, 20.9675, 18.3, 17.93, 18.04, 18.115000000000002, 17.93, 18.11, 18.1, 18.13, 18.273333333333333, 18.195, 18.153333333333332, 18.246, 18.1, 18.194, 18.142, 18.37, 18.32], 'MSE': 2.438200757064857, 'MAPE': 0.051832416003692705}, 'MovingAvg': {'Forecast': [1377.475, 1321.4460000000001, 1408.917, 1329.152, 1412.82, 1423.85, 1462.319], 'MSE': 57048.91522142856, 'MAPE': 0.1489827978164803}, 'Exp.Smooth': {'Forecast': [1385.4221932407202, 1391.8629739166481, 1409.7296765249835, 1378.261708872485, 1411.5220379852367, 1399.6673341867129, 1423.9181007680415], 'MSE': 51173.64152325976, 'MAPE': 0.14314025600836744}}\n"
          ]
        }
      ]
    },
    {
      "cell_type": "markdown",
      "source": [
        "## Moving Average"
      ],
      "metadata": {
        "id": "u6w0QUG0EQED"
      }
    },
    {
      "cell_type": "code",
      "source": [
        "\n",
        "best_k = 0 # initialize the initial value of best k\n",
        "best_mape = 1.0 # initialize the initial value of MAPE (at the maximum 100%)\n",
        "\n",
        "for k in range(2,6):\n",
        "  #print(\"k = \", k)\n",
        "  purchase_fcst_movingavg = [movingAvg(purchase, t, k) for t in range(713, 891)]\n",
        "  purchase_fcst_movingavg_mape = MAPE(purchase_fcst_movingavg, purchase[713:])\n",
        "  if purchase_fcst_movingavg_mape < best_mape: # keep track of the best parameter\n",
        "    best_k = k # set the new best_k\n",
        "    best_mape = purchase_fcst_movingavg_mape # set the new best_mape\n",
        "\n",
        "# we compute again the corresponding forecasts and results based on the best parameter\n",
        "print(\"best lookback length k = \", best_k)\n",
        "purchase_fcst_movingavg = [movingAvg(purchase, t, best_k) for t in range(713, 891)]\n",
        "purchase_fcst_movingavg_mse = MSE(purchase_fcst_movingavg, purchase[713:])\n",
        "purchase_fcst_movingavg_mape = MAPE(purchase_fcst_movingavg, purchase[713:])\n",
        "purchase_fcst_movingavg_rmse = RMSE(purchase_fcst_movingavg, purchase[713:])\n",
        "\n",
        "\n",
        "print(\"add results to the dictionary for the method: \", fcst_names[2])\n",
        "fcst_results[fcst_names[2]] = {'Forecast':purchase_fcst_movingavg, 'MSE':purchase_fcst_movingavg_mse, 'MAPE':purchase_fcst_movingavg_mape}\n",
        "print(fcst_results)\n",
        "\n",
        "df_forecast_price[\"MovingAvging\"] = purchase_fcst_movingavg\n",
        "\n",
        "df_errors_price.loc[\"MovingAvging\",\"MAPE\"] = purchase_fcst_movingavg_mape\n",
        "df_errors_price.loc[\"MovingAvging\",\"RMSE\"] = purchase_fcst_movingavg_rmse\n",
        "df_errors_price.loc[\"MovingAvging\",\"MSE\"] = purchase_fcst_movingavg_mse\n",
        "\n",
        "\n"
      ],
      "metadata": {
        "colab": {
          "base_uri": "https://localhost:8080/"
        },
        "id": "boEJSVmZ_2ni",
        "outputId": "e70ca6d9-bd17-4d2c-dc55-83ddc23d85af"
      },
      "execution_count": 133,
      "outputs": [
        {
          "output_type": "stream",
          "name": "stdout",
          "text": [
            "best lookback length k =  2\n",
            "add results to the dictionary for the method:  MovingAvg\n",
            "{'Naive': {'Forecast': [1237.825, 1449.83, 1570.53, 1095.05, 1710.865, 1292.975, 1642.175], 'MSE': 137394.90391071432, 'MAPE': 0.1595485215814425}, 'SeasonNaive': {'Forecast': [19.125, 19.39818181818182, 19.59, 19.66, 19.27625, 20.47, 20.5825, 21.85, 21.744999999999997, 21.78, 21.78, 21.67, 21.7, 21.23, 21.4025, 21.253333333333334, 21.48, 21.253333333333334, 21.31, 20.563333333333333, 20.631666666666668, 21.028, 21.466, 21.5, 21.426666666666666, 21.413333333333338, 21.5975, 21.490000000000002, 21.456666666666667, 21.44333333333333, 21.69, 21.484, 21.253333333333334, 21.24125, 20.952, 20.501666666666665, 20.495, 21.37, 20.773333333333333, 20.361428571428572, 20.855, 21.872, 20.265, 21.67, 21.67, 21.67, 21.55, 19.78, 20.54, 21.649999999999995, 21.636, 20.945, 21.608, 21.064999999999998, 21.125999999999998, 21.14, 20.83111111111111, 21.294999999999998, 21.55, 21.64, 21.0, 21.49142857142857, 20.9575, 21.11, 21.098333333333333, 21.6, 20.57, 20.67, 21.32, 20.5075, 20.560000000000002, 16.25, 20.0525, 16.13, 19.046, 18.82, 19.302, 18.033333333333335, 21.57, 20.935, 21.555, 21.316666666666666, 18.40222222222222, 21.5025, 18.406, 14.003333333333336, 17.052, 17.825000000000003, 16.6, 17.437142857142856, 15.538, 16.167, 15.853636363636365, 15.691666666666668, 14.226666666666667, 16.404, 17.733333333333334, 17.7575, 17.49625, 21.451249999999998, 19.85, 20.146923076923073, 19.793846153846154, 18.60125, 18.555384615384614, 18.39875, 19.05727272727273, 19.773636363636363, 20.302500000000002, 20.9, 22.619999999999997, 18.406666666666666, 19.486666666666668, 18.381666666666664, 18.186666666666667, 19.661666666666665, 20.318, 18.092, 19.675, 20.465, 18.646, 20.85125, 20.428571428571427, 17.57, 17.43, 17.59, 17.612857142857145, 17.557499999999997, 18.183333333333334, 21.19666666666667, 19.849999999999998, 19.901111111111113, 17.24875, 19.8475, 19.556923076923077, 19.55153846153846, 19.034545454545455, 19.156, 17.932777777777776, 17.959375, 17.592000000000002, 19.798181818181817, 18.66272727272727, 19.472, 19.703333333333333, 18.65857142857143, 17.842142857142857, 18.6525, 19.93933333333333, 18.044545454545453, 18.08, 18.0125, 21.002499999999998, 17.994999999999997, 18.046666666666667, 18.67, 21.80272727272727, 24.05, 24.043333333333333, 23.91333333333333, 20.9675, 18.3, 17.93, 18.04, 18.115000000000002, 17.93, 18.11, 18.1, 18.13, 18.273333333333333, 18.195, 18.153333333333332, 18.246, 18.1, 18.194, 18.142, 18.37, 18.32], 'MSE': 2.438200757064857, 'MAPE': 0.051832416003692705}, 'MovingAvg': {'Forecast': [19.26159090909091, 19.494090909090907, 19.625, 19.468125, 19.873125, 20.526249999999997, 21.216250000000002, 21.7975, 21.7625, 21.78, 21.725, 21.685000000000002, 21.465, 21.31625, 21.327916666666667, 21.366666666666667, 21.366666666666667, 21.281666666666666, 20.936666666666667, 20.5975, 20.829833333333333, 21.247, 21.483, 21.46333333333333, 21.42, 21.50541666666667, 21.543750000000003, 21.473333333333336, 21.45, 21.566666666666666, 21.587000000000003, 21.36866666666667, 21.24729166666667, 21.096625000000003, 20.72683333333333, 20.498333333333335, 20.9325, 21.071666666666665, 20.56738095238095, 20.608214285714286, 21.363500000000002, 21.0685, 20.9675, 21.67, 21.67, 21.61, 20.665, 20.16, 21.095, 21.642999999999997, 21.2905, 21.2765, 21.3365, 21.095499999999998, 21.133, 20.985555555555557, 21.063055555555554, 21.4225, 21.595, 21.32, 21.245714285714286, 21.224464285714284, 21.033749999999998, 21.104166666666664, 21.34916666666667, 21.085, 20.62, 20.995, 20.91375, 20.53375, 18.405, 18.151249999999997, 18.09125, 17.588, 18.933, 19.061, 18.66766666666667, 19.80166666666667, 21.252499999999998, 21.244999999999997, 21.435833333333335, 19.859444444444442, 19.95236111111111, 19.954250000000002, 16.204666666666668, 15.527666666666669, 17.4385, 17.212500000000002, 17.018571428571427, 16.487571428571428, 15.852500000000001, 16.010318181818185, 15.772651515151516, 14.959166666666668, 15.315333333333333, 17.068666666666665, 17.745416666666667, 17.626875, 19.47375, 20.650624999999998, 19.998461538461537, 19.970384615384614, 19.197548076923077, 18.57831730769231, 18.47706730769231, 18.728011363636362, 19.415454545454544, 20.038068181818183, 20.60125, 21.759999999999998, 20.513333333333332, 18.946666666666665, 18.934166666666666, 18.284166666666664, 18.924166666666665, 19.989833333333333, 19.205, 18.883499999999998, 20.07, 19.555500000000002, 19.748625, 20.639910714285712, 18.999285714285712, 17.5, 17.509999999999998, 17.60142857142857, 17.58517857142857, 17.870416666666664, 19.69, 20.523333333333333, 19.875555555555557, 18.574930555555557, 18.548125, 19.70221153846154, 19.55423076923077, 19.293041958041957, 19.09527272727273, 18.54438888888889, 17.94607638888889, 17.775687500000004, 18.695090909090908, 19.230454545454542, 19.067363636363638, 19.587666666666667, 19.180952380952384, 18.250357142857144, 18.24732142857143, 19.295916666666663, 18.99193939393939, 18.062272727272727, 18.04625, 19.5075, 19.498749999999998, 18.020833333333332, 18.358333333333334, 20.236363636363635, 22.926363636363636, 24.046666666666667, 23.97833333333333, 22.440416666666664, 19.63375, 18.115000000000002, 17.985, 18.0775, 18.0225, 18.02, 18.105, 18.115000000000002, 18.201666666666668, 18.234166666666667, 18.174166666666665, 18.199666666666666, 18.173000000000002, 18.147, 18.168, 18.256, 18.345, 18.28625], 'MSE': 1.6812948731320345, 'MAPE': 0.04382894646900039}, 'Exp.Smooth': {'Forecast': [1385.4221932407202, 1391.8629739166481, 1409.7296765249835, 1378.261708872485, 1411.5220379852367, 1399.6673341867129, 1423.9181007680415], 'MSE': 51173.64152325976, 'MAPE': 0.14314025600836744}}\n"
          ]
        }
      ]
    },
    {
      "cell_type": "markdown",
      "source": [
        "## Exponential Smoothing"
      ],
      "metadata": {
        "id": "1eeBGtWKESrg"
      }
    },
    {
      "cell_type": "code",
      "source": [
        "\n",
        "best_alpha = 0 # initialize the initial value of best alpha\n",
        "best_mape = 1.0 # initialize the initial value of MAPE (at the maximum 100%)\n",
        "\n",
        "for alpha in [0.1*i for i in range(1,10)]: \n",
        "  purchase_fcst_expsmooth = [exponentialSmoothing(purchase, t, alpha) for t in range(713, 891)]\n",
        "  purchase_fcst_expsmooth_mape = MAPE(purchase_fcst_expsmooth, purchase[26:])\n",
        "  if purchase_fcst_expsmooth_mape < best_mape: # keep track of the best parameter\n",
        "    best_alpha = alpha # set the new best parameter\n",
        "    best_mape = purchase_fcst_expsmooth_mape # set the new best_mape\n",
        "\n",
        "# we compute again the corresponding forecasts and results based on the best parameter\n",
        "print(\"best alpha = \", best_alpha)\n",
        "purchase_fcst_expsmooth = [exponentialSmoothing(purchase, t, best_alpha) for t in range(713, 891)]\n",
        "purchase_fcst_expsmooth_mse = MSE(purchase_fcst_expsmooth, purchase[713:])\n",
        "purchase_fcst_expsmooth_mape = MAPE(purchase_fcst_expsmooth, purchase[713:])\n",
        "purchase_fcst_expsmooth_rmse = RMSE(purchase_fcst_expsmooth, purchase[713:])\n",
        "\n",
        "print(\"ExponentialSmoothing Results: \", fcst_names[3])\n",
        "print('Forecast', purchase_fcst_expsmooth)\n",
        "print('MSE:',round(purchase_fcst_expsmooth_mse), 'MAPE:',round(purchase_fcst_expsmooth_mape*100),'RMSE:', round(purchase_fcst_expsmooth_rmse))\n",
        "\n",
        "  \n",
        "df_forecast_price[\"Exponential_Smoothing\"] = purchase_fcst_expsmooth\n",
        "\n",
        "df_errors_price.loc[\"Exponential_Smoothing\",\"MAPE\"] = purchase_fcst_expsmooth_mape\n",
        "df_errors_price.loc[\"Exponential_Smoothing\",\"RMSE\"] = purchase_fcst_expsmooth_rmse\n",
        "df_errors_price.loc[\"Exponential_Smoothing\",\"MSE\"] = purchase_fcst_expsmooth_mse"
      ],
      "metadata": {
        "colab": {
          "base_uri": "https://localhost:8080/"
        },
        "id": "COetPSlkAO8U",
        "outputId": "ae25834e-f9b8-456d-e13d-ef8a91ecbcbb"
      },
      "execution_count": 134,
      "outputs": [
        {
          "output_type": "stream",
          "name": "stdout",
          "text": [
            "best alpha =  0.1\n",
            "ExponentialSmoothing Results:  Exp.Smooth\n",
            "Forecast [20.202222617466983, 20.141000355720283, 20.092900320148257, 20.01123528813343, 20.05711175932009, 20.10965058338808, 20.283685525049272, 20.429816972544344, 20.564835275289912, 20.686351747760924, 20.784716572984834, 20.87624491568635, 20.911620424117718, 20.96070838170595, 20.98997087686869, 21.03897378918182, 21.060409743596974, 21.085368769237277, 21.033165225646886, 20.993015369748864, 20.996513832773978, 21.04346244949658, 21.089116204546922, 21.122871250758898, 21.151917459016346, 21.19647571311471, 21.22582814180324, 21.248911994289585, 21.26835412819396, 21.310518715374563, 21.327866843837107, 21.32041349278673, 21.312497143508057, 21.27644742915725, 21.198969352908193, 21.128572417617377, 21.15271517585564, 21.11477699160341, 21.039442149585927, 21.020997934627335, 21.1060981411646, 21.021988327048142, 21.08678949434333, 21.145110544909, 21.1975994904181, 21.23283954137629, 21.08755558723866, 21.032800028514796, 21.094520025663314, 21.14866802309698, 21.128301220787282, 21.176271098708554, 21.1651439888377, 21.16122958995393, 21.159106630958536, 21.126307078973795, 21.143176371076418, 21.183858733968776, 21.2294728605719, 21.20652557451471, 21.235015874206095, 21.207264286785485, 21.197537858106937, 21.187617405629577, 21.22885566506662, 21.16297009855996, 21.113673088703965, 21.13430577983357, 21.071625201850214, 21.020462681665194, 20.543416413498676, 20.494324772148808, 20.05789229493393, 19.956703065440536, 19.843032758896484, 19.788929483006836, 19.613369868039488, 19.809032881235538, 19.921629593111984, 20.084966633800786, 20.208136637087375, 20.02754519560086, 20.175040676040776, 19.9981366084367, 19.39865628092636, 19.163990652833725, 19.030091587550352, 18.78708242879532, 18.652088471630073, 18.340679624467064, 18.12331166202036, 17.89634413218196, 17.67587638563043, 17.330955413734056, 17.23825987236065, 17.28776721845792, 17.334740496612127, 17.350891446950914, 17.760927302255823, 17.96983457203024, 18.187543422519525, 18.348173695652186, 18.373481326086967, 18.391671655016733, 18.392379489515058, 18.458868813290824, 18.59034556832538, 18.76156101149284, 18.975404910343556, 19.3398644193092, 19.24654464404495, 19.270556846307123, 19.181667828343077, 19.082167712175433, 19.140117607624557, 19.2579058468621, 19.141315262175894, 19.194683735958307, 19.321715362362475, 19.254143826126228, 19.413854443513607, 19.51532614201939, 19.320793527817454, 19.131714175035707, 18.977542757532138, 18.84107419606464, 18.712716776458176, 18.659778432145693, 18.91346725559779, 19.007120530038012, 19.096519588145323, 18.911742629330792, 19.005318366397717, 19.06047883745025, 19.10958479985907, 19.102080865327707, 19.10747277879494, 18.990003278693223, 18.886940450823904, 18.757446405741515, 18.861519946985545, 18.841640679559717, 18.904676611603744, 18.9845422837767, 18.951945198256176, 18.840964964144845, 18.822118467730363, 18.93383995429066, 18.84491050431614, 18.768419453884526, 18.692827508496073, 18.923794757646466, 18.83091528188182, 18.752490420360303, 18.744241378324276, 19.050089967764574, 19.55008097098812, 19.99940620722264, 20.39079891983371, 20.44846902785034, 20.23362212506531, 20.00325991255878, 19.8069339213029, 19.63774052917261, 19.46696647625535, 19.331269828629818, 19.208142845766837, 19.100328561190153, 19.017629038404472, 18.935366134564028, 18.857162854440958, 18.796046568996864, 18.726441912097176, 18.673197720887458, 18.620077948798713, 18.59507015391884, 18.567563138526957, 18.53605682467426]\n",
            "MSE: 2 MAPE: 6 RMSE: 2\n"
          ]
        }
      ]
    },
    {
      "cell_type": "markdown",
      "source": [
        "## Holt Winters"
      ],
      "metadata": {
        "id": "0i2heJ2mEYhe"
      }
    },
    {
      "cell_type": "code",
      "source": [
        "\n",
        "best_i = 0\n",
        "best_mape = 1.0\n",
        "\n",
        "for i in range (2,13):\n",
        "    fit1 = ExponentialSmoothing(train_price ,seasonal_periods= i,trend='add', seasonal='add').fit()\n",
        "    y_hat = list(fit1.forecast(len(test_price)))\n",
        "    Exp_purchase_mape = MAPE(y_hat,test_price)\n",
        "    if Exp_purchase_mape < best_mape: # keep track of the best s\n",
        "      best_i = i # set the new best_s\n",
        "      best_mape = Exp_purchase_mape # set the new best_mape\n",
        "\n",
        "Exp_model_purchase = ExponentialSmoothing(train_price ,seasonal_periods= best_i,trend='add', seasonal='add').fit()\n",
        "Exp_forecast_purchase = list(Exp_model_purchase.forecast(len(test_price)))\n",
        "Exp_purchase_mape = MAPE(Exp_forecast_purchase,test_price)\n",
        "Exp_purchase_mse = MSE(Exp_forecast_purchase,test_price)\n",
        "Exp_purchase_rmse = RMSE(Exp_forecast_purchase,test_price)\n",
        "\n",
        "df_forecast_price[\"Holt_Winters\"] = Exp_forecast_purchase\n",
        "\n",
        "df_errors_price.loc[\"Holt_Winters\",\"MAPE\"] = Exp_purchase_mape\n",
        "df_errors_price.loc[\"Holt_Winters\",\"RMSE\"] = Exp_purchase_rmse\n",
        "df_errors_price.loc[\"Holt_Winters\",\"MSE\"] = Exp_purchase_mse"
      ],
      "metadata": {
        "id": "P_zjs2zV2Xpz"
      },
      "execution_count": 138,
      "outputs": []
    },
    {
      "cell_type": "markdown",
      "source": [
        "## ADF Test"
      ],
      "metadata": {
        "id": "gerJBU0vEbJf"
      }
    },
    {
      "cell_type": "code",
      "source": [
        "\n",
        "from statsmodels.tsa.stattools import adfuller\n",
        "adfuller_result = adfuller(purchase, autolag='AIC')\n",
        "print(f'ADF Statistic: {adfuller_result[0]}')\n",
        "print(f'p-value: {adfuller_result[1]}')\n",
        "for key, value in adfuller_result[4].items():\n",
        "    print('Critial Values:')\n",
        "    print(f'   {key}, {value}')\n"
      ],
      "metadata": {
        "colab": {
          "base_uri": "https://localhost:8080/"
        },
        "id": "tIsAnKQVAnY6",
        "outputId": "a8b72c35-493a-4776-f562-78e489bab9a4"
      },
      "execution_count": 141,
      "outputs": [
        {
          "output_type": "stream",
          "name": "stdout",
          "text": [
            "ADF Statistic: -6.770390586815108\n",
            "p-value: 2.6510010576434892e-09\n",
            "Critial Values:\n",
            "   1%, -3.4377689935918783\n",
            "Critial Values:\n",
            "   5%, -2.864815046188292\n",
            "Critial Values:\n",
            "   10%, -2.5685138660653957\n"
          ]
        }
      ]
    },
    {
      "cell_type": "markdown",
      "source": [
        "**Here also, we can see that the data is stationary, there the value of d in ARIMA is 0.**\n",
        "\n",
        "---\n",
        "\n"
      ],
      "metadata": {
        "id": "rvvJwH1SB0gm"
      }
    },
    {
      "cell_type": "markdown",
      "source": [
        "## Decomposition and ACF and PCF Plots"
      ],
      "metadata": {
        "id": "ql8MGnh3Ehr6"
      }
    },
    {
      "cell_type": "code",
      "source": [
        "\n",
        "#%%% Decomposition\n",
        "\n",
        "# Additive and Multiple Decomposition\n",
        "add_result = seasonal_decompose(purchase, model='additive',freq=12)\n",
        "add_result.plot().suptitle('nAdditive Decompose', fontsize=12)\n",
        "# Multiplicative Decomposition \n",
        "mul_result = seasonal_decompose(purchase, model='multiplicative',freq=12)\n",
        "mul_result.plot().suptitle('nMultiplicative Decompose', fontsize=12)\n",
        "plt.show()\n"
      ],
      "metadata": {
        "colab": {
          "base_uri": "https://localhost:8080/",
          "height": 587
        },
        "id": "-yqPTkTv5cOW",
        "outputId": "1c803f5e-4841-4c28-f91c-3775450e7131"
      },
      "execution_count": 150,
      "outputs": [
        {
          "output_type": "display_data",
          "data": {
            "text/plain": [
              "<Figure size 432x288 with 4 Axes>"
            ],
            "image/png": "[encoded data removed]"
          },
          "metadata": {
            "needs_background": "light"
          }
        },
        {
          "output_type": "display_data",
          "data": {
            "text/plain": [
              "<Figure size 432x288 with 4 Axes>"
            ],
            "image/png": "[encoded data removed]"
          },
          "metadata": {
            "needs_background": "light"
          }
        }
      ]
    },
    {
      "cell_type": "code",
      "source": [
        "\n",
        "\n",
        "#%%% ACF and PCF Polts\n",
        "from pandas.plotting import autocorrelation_plot\n",
        "#pd.plotting.autocorrelation_plot(whole_month)\n",
        "#plt.show()\n",
        "\n",
        "from statsmodels.graphics.tsaplots import plot_acf,plot_pacf\n",
        "import statsmodels.api as sm\n",
        "fig = plt.figure(figsize=(12,8))\n",
        "ax1 = fig.add_subplot()\n",
        "fig = sm.graphics.tsa.plot_acf(purchase,lags=9)\n",
        "ax2 = fig.add_subplot()\n",
        "fig = sm.graphics.tsa.plot_pacf(purchase,lags=9)\n",
        "\n",
        "\n",
        "#%%% ARIMA Model\n",
        "from statsmodels.tsa.arima_model import ARIMA\n"
      ],
      "metadata": {
        "colab": {
          "base_uri": "https://localhost:8080/",
          "height": 1000
        },
        "id": "wvfiWK5_CL5N",
        "outputId": "40c675d7-4303-4471-ac51-45b00551c888"
      },
      "execution_count": 152,
      "outputs": [
        {
          "output_type": "stream",
          "name": "stderr",
          "text": [
            "/usr/local/lib/python3.7/dist-packages/ipykernel_launcher.py:13: MatplotlibDeprecationWarning: Adding an axes using the same arguments as a previous axes currently reuses the earlier instance.  In a future version, a new instance will always be created and returned.  Meanwhile, this warning can be suppressed, and the future behavior ensured, by passing a unique label to each axes instance.\n",
            "  del sys.path[0]\n"
          ]
        },
        {
          "output_type": "display_data",
          "data": {
            "text/plain": [
              "<Figure size 864x576 with 1 Axes>"
            ],
            "image/png": "[encoded data removed]"
          },
          "metadata": {
            "needs_background": "light"
          }
        },
        {
          "output_type": "display_data",
          "data": {
            "text/plain": [
              "<Figure size 432x288 with 1 Axes>"
            ],
            "image/png": "[encoded data removed]"
          },
          "metadata": {
            "needs_background": "light"
          }
        },
        {
          "output_type": "display_data",
          "data": {
            "text/plain": [
              "<Figure size 432x288 with 1 Axes>"
            ],
            "image/png": "[encoded data removed]"
          },
          "metadata": {
            "needs_background": "light"
          }
        }
      ]
    },
    {
      "cell_type": "markdown",
      "source": [
        "## ARIMA"
      ],
      "metadata": {
        "id": "P3Sjrl61FXxs"
      }
    },
    {
      "cell_type": "code",
      "source": [
        "# 2,0,2 ARIMA Model - Based on ACF and PCF Plot\n",
        "model = ARIMA(purchase, order=(2,0,2))\n",
        "model_fit = model.fit()\n",
        "print(model_fit.summary())\n",
        "\n",
        "residuals = pd.DataFrame(model_fit.resid)\n",
        "fig, ax = plt.subplots(1,2)\n",
        "residuals.plot(title=\"Residuals\", ax=ax[0])\n",
        "residuals.plot(kind='kde', title='Density', ax=ax[1])\n",
        "plt.show()\n",
        "\n",
        "model_fit.plot_predict(dynamic=False)\n",
        "plt.show()\n",
        "# Build Model\n",
        "# model = ARIMA(train, order=(3,2,1))  \n",
        "model = ARIMA(train_price, order=(1, 0, 1))  \n",
        "fitted = model.fit()  \n",
        "\n",
        "# Forecast\n",
        "fc, se, conf = fitted.forecast(len(test_price), alpha=0.05)  # 95% conf\n",
        "\n",
        "# Make as pandas series\n",
        "fc_series = pd.Series(fc)\n",
        "lower_series = pd.Series(conf[:, 0])\n",
        "upper_series = pd.Series(conf[:, 1])\n",
        "\n",
        "\n",
        "# Plot\n",
        "plt.figure(figsize=(12,5), dpi=100)\n",
        "plt.plot(train_price, label='training')\n",
        "plt.plot(test_price, label='actual')\n",
        "plt.plot(fc_series, label='forecast')\n",
        "plt.fill_between(lower_series.index, lower_series, upper_series, \n",
        "                 color='k', alpha=.15)\n",
        "plt.title('Forecast vs Actuals')\n",
        "plt.legend(loc='upper left', fontsize=8)\n",
        "plt.show()\n",
        "plt.clf()\n",
        "\n",
        "rmse_price_arima = sqrt(mean_squared_error(test_price, fc_series))\n",
        "print(rmse_price_arima)"
      ],
      "metadata": {
        "colab": {
          "base_uri": "https://localhost:8080/",
          "height": 1000
        },
        "id": "ypxZDmBdCI0k",
        "outputId": "02eacec9-19ba-4b6a-bbeb-7df4f92ba358"
      },
      "execution_count": 161,
      "outputs": [
        {
          "output_type": "stream",
          "name": "stdout",
          "text": [
            "                              ARMA Model Results                              \n",
            "==============================================================================\n",
            "Dep. Variable:                      y   No. Observations:                  891\n",
            "Model:                     ARMA(2, 2)   Log Likelihood               -2033.953\n",
            "Method:                       css-mle   S.D. of innovations              2.371\n",
            "Date:                Tue, 05 Apr 2022   AIC                           4079.906\n",
            "Time:                        05:00:32   BIC                           4108.660\n",
            "Sample:                             0   HQIC                          4090.895\n",
            "                                                                              \n",
            "==============================================================================\n",
            "                 coef    std err          z      P>|z|      [0.025      0.975]\n",
            "------------------------------------------------------------------------------\n",
            "const         20.6448      0.582     35.451      0.000      19.503      21.786\n",
            "ar.L1.y        1.6910      0.072     23.469      0.000       1.550       1.832\n",
            "ar.L2.y       -0.6968      0.069    -10.063      0.000      -0.832      -0.561\n",
            "ma.L1.y       -1.2854      0.083    -15.570      0.000      -1.447      -1.124\n",
            "ma.L2.y        0.3288      0.067      4.886      0.000       0.197       0.461\n",
            "                                    Roots                                    \n",
            "=============================================================================\n",
            "                  Real          Imaginary           Modulus         Frequency\n",
            "-----------------------------------------------------------------------------\n",
            "AR.1            1.0202           +0.0000j            1.0202            0.0000\n",
            "AR.2            1.4068           +0.0000j            1.4068            0.0000\n",
            "MA.1            1.0719           +0.0000j            1.0719            0.0000\n",
            "MA.2            2.8371           +0.0000j            2.8371            0.0000\n",
            "-----------------------------------------------------------------------------\n"
          ]
        },
        {
          "output_type": "display_data",
          "data": {
            "text/plain": [
              "<Figure size 432x288 with 2 Axes>"
            ],
            "image/png": "[encoded data removed]"
          },
          "metadata": {
            "needs_background": "light"
          }
        },
        {
          "output_type": "display_data",
          "data": {
            "text/plain": [
              "<Figure size 432x288 with 1 Axes>"
            ],
            "image/png": "[encoded data removed]"
          },
          "metadata": {
            "needs_background": "light"
          }
        },
        {
          "output_type": "display_data",
          "data": {
            "text/plain": [
              "<Figure size 1200x500 with 1 Axes>"
            ],
            "image/png": "[encoded data removed]"
          },
          "metadata": {
            "needs_background": "light"
          }
        },
        {
          "output_type": "stream",
          "name": "stdout",
          "text": [
            "2.111196212716626\n"
          ]
        }
      ]
    },
    {
      "cell_type": "code",
      "source": [
        "rmse_purchase_arima = sqrt(mean_squared_error(test_price, fc_series))\n",
        "print(rmse_purchase_arima)\n",
        "\n",
        "mape_purchase_arima = MAPE(test_price, fc_series)\n",
        "print(mape_purchase_arima)\n",
        "\n",
        "mse_purchase_arima = MSE(fc_series,test_price)\n",
        "\n",
        "df_forecast_price[\"ARIMA\"] = fc\n",
        "\n",
        "df_errors_price.loc[\"ARIMA\",\"MAPE\"] = mape_purchase_arima\n",
        "df_errors_price.loc[\"ARIMA\",\"RMSE\"] = rmse_purchase_arima\n",
        "df_errors_price.loc[\"ARIMA\",\"MSE\"] = mse_purchase_arima"
      ],
      "metadata": {
        "colab": {
          "base_uri": "https://localhost:8080/"
        },
        "id": "fUviGzP_FlXG",
        "outputId": "efab1bdd-9421-404f-be43-e9d5fc86fd7e"
      },
      "execution_count": 164,
      "outputs": [
        {
          "output_type": "stream",
          "name": "stdout",
          "text": [
            "2.111196212716626\n",
            "0.07837619671377258\n"
          ]
        }
      ]
    },
    {
      "cell_type": "code",
      "source": [
        "df_errors_price"
      ],
      "metadata": {
        "colab": {
          "base_uri": "https://localhost:8080/",
          "height": 206
        },
        "id": "hi2ajRpFF6ev",
        "outputId": "610d5229-c068-49d6-e7c2-9e5f42c4d790"
      },
      "execution_count": 165,
      "outputs": [
        {
          "output_type": "execute_result",
          "data": {
            "text/plain": [
              "                      Method      RMSE      MAPE       MSE\n",
              "seasonalNaiveForecast    NaN  2.438201  0.051832  2.438201\n",
              "MovingAvging             NaN  1.681295  0.043829  1.681295\n",
              "Exponential_Smoothing    NaN  2.159874  0.055446  2.159874\n",
              "Holt_Winters             NaN  3.290178  0.080623  3.290178\n",
              "ARIMA                    NaN  2.111196  0.078376  4.457149"
            ],
            "text/html": [
              "\n",
              "  <div id=\"df-8df53f01-2c43-46f6-b50b-1c93ceddecc8\">\n",
              "    <div class=\"colab-df-container\">\n",
              "      <div>\n",
              "<style scoped>\n",
              "    .dataframe tbody tr th:only-of-type {\n",
              "        vertical-align: middle;\n",
              "    }\n",
              "\n",
              "    .dataframe tbody tr th {\n",
              "        vertical-align: top;\n",
              "    }\n",
              "\n",
              "    .dataframe thead th {\n",
              "        text-align: right;\n",
              "    }\n",
              "</style>\n",
              "<table border=\"1\" class=\"dataframe\">\n",
              "  <thead>\n",
              "    <tr style=\"text-align: right;\">\n",
              "      <th></th>\n",
              "      <th>Method</th>\n",
              "      <th>RMSE</th>\n",
              "      <th>MAPE</th>\n",
              "      <th>MSE</th>\n",
              "    </tr>\n",
              "  </thead>\n",
              "  <tbody>\n",
              "    <tr>\n",
              "      <th>seasonalNaiveForecast</th>\n",
              "      <td>NaN</td>\n",
              "      <td>2.438201</td>\n",
              "      <td>0.051832</td>\n",
              "      <td>2.438201</td>\n",
              "    </tr>\n",
              "    <tr>\n",
              "      <th>MovingAvging</th>\n",
              "      <td>NaN</td>\n",
              "      <td>1.681295</td>\n",
              "      <td>0.043829</td>\n",
              "      <td>1.681295</td>\n",
              "    </tr>\n",
              "    <tr>\n",
              "      <th>Exponential_Smoothing</th>\n",
              "      <td>NaN</td>\n",
              "      <td>2.159874</td>\n",
              "      <td>0.055446</td>\n",
              "      <td>2.159874</td>\n",
              "    </tr>\n",
              "    <tr>\n",
              "      <th>Holt_Winters</th>\n",
              "      <td>NaN</td>\n",
              "      <td>3.290178</td>\n",
              "      <td>0.080623</td>\n",
              "      <td>3.290178</td>\n",
              "    </tr>\n",
              "    <tr>\n",
              "      <th>ARIMA</th>\n",
              "      <td>NaN</td>\n",
              "      <td>2.111196</td>\n",
              "      <td>0.078376</td>\n",
              "      <td>4.457149</td>\n",
              "    </tr>\n",
              "  </tbody>\n",
              "</table>\n",
              "</div>\n",
              "      <button class=\"colab-df-convert\" onclick=\"convertToInteractive('df-8df53f01-2c43-46f6-b50b-1c93ceddecc8')\"\n",
              "              title=\"Convert this dataframe to an interactive table.\"\n",
              "              style=\"display:none;\">\n",
              "        \n",
              "  <svg xmlns=\"http://www.w3.org/2000/svg\" height=\"24px\"viewBox=\"0 0 24 24\"\n",
              "       width=\"24px\">\n",
              "    <path d=\"M0 0h24v24H0V0z\" fill=\"none\"/>\n",
              "    <path d=\"M18.56 5.44l.94 2.06.94-2.06 2.06-.94-2.06-.94-.94-2.06-.94 2.06-2.06.94zm-11 1L8.5 8.5l.94-2.06 2.06-.94-2.06-.94L8.5 2.5l-.94 2.06-2.06.94zm10 10l.94 2.06.94-2.06 2.06-.94-2.06-.94-.94-2.06-.94 2.06-2.06.94z\"/><path d=\"M17.41 7.96l-1.37-1.37c-.4-.4-.92-.59-1.43-.59-.52 0-1.04.2-1.43.59L10.3 9.45l-7.72 7.72c-.78.78-.78 2.05 0 2.83L4 21.41c.39.39.9.59 1.41.59.51 0 1.02-.2 1.41-.59l7.78-7.78 2.81-2.81c.8-.78.8-2.07 0-2.86zM5.41 20L4 18.59l7.72-7.72 1.47 1.35L5.41 20z\"/>\n",
              "  </svg>\n",
              "      </button>\n",
              "      \n",
              "  <style>\n",
              "    .colab-df-container {\n",
              "      display:flex;\n",
              "      flex-wrap:wrap;\n",
              "      gap: 12px;\n",
              "    }\n",
              "\n",
              "    .colab-df-convert {\n",
              "      background-color: #E8F0FE;\n",
              "      border: none;\n",
              "      border-radius: 50%;\n",
              "      cursor: pointer;\n",
              "      display: none;\n",
              "      fill: #1967D2;\n",
              "      height: 32px;\n",
              "      padding: 0 0 0 0;\n",
              "      width: 32px;\n",
              "    }\n",
              "\n",
              "    .colab-df-convert:hover {\n",
              "      background-color: #E2EBFA;\n",
              "      box-shadow: 0px 1px 2px rgba(60, 64, 67, 0.3), 0px 1px 3px 1px rgba(60, 64, 67, 0.15);\n",
              "      fill: #174EA6;\n",
              "    }\n",
              "\n",
              "    [theme=dark] .colab-df-convert {\n",
              "      background-color: #3B4455;\n",
              "      fill: #D2E3FC;\n",
              "    }\n",
              "\n",
              "    [theme=dark] .colab-df-convert:hover {\n",
              "      background-color: #434B5C;\n",
              "      box-shadow: 0px 1px 3px 1px rgba(0, 0, 0, 0.15);\n",
              "      filter: drop-shadow(0px 1px 2px rgba(0, 0, 0, 0.3));\n",
              "      fill: #FFFFFF;\n",
              "    }\n",
              "  </style>\n",
              "\n",
              "      <script>\n",
              "        const buttonEl =\n",
              "          document.querySelector('#df-8df53f01-2c43-46f6-b50b-1c93ceddecc8 button.colab-df-convert');\n",
              "        buttonEl.style.display =\n",
              "          google.colab.kernel.accessAllowed ? 'block' : 'none';\n",
              "\n",
              "        async function convertToInteractive(key) {\n",
              "          const element = document.querySelector('#df-8df53f01-2c43-46f6-b50b-1c93ceddecc8');\n",
              "          const dataTable =\n",
              "            await google.colab.kernel.invokeFunction('convertToInteractive',\n",
              "                                                     [key], {});\n",
              "          if (!dataTable) return;\n",
              "\n",
              "          const docLinkHtml = 'Like what you see? Visit the ' +\n",
              "            '<a target=\"_blank\" href=https://colab.research.google.com/notebooks/data_table.ipynb>data table notebook</a>'\n",
              "            + ' to learn more about interactive tables.';\n",
              "          element.innerHTML = '';\n",
              "          dataTable['output_type'] = 'display_data';\n",
              "          await google.colab.output.renderOutput(dataTable, element);\n",
              "          const docLink = document.createElement('div');\n",
              "          docLink.innerHTML = docLinkHtml;\n",
              "          element.appendChild(docLink);\n",
              "        }\n",
              "      </script>\n",
              "    </div>\n",
              "  </div>\n",
              "  "
            ]
          },
          "metadata": {},
          "execution_count": 165
        }
      ]
    },
    {
      "cell_type": "code",
      "source": [
        "\n",
        "#%%% SARIMAX\n",
        "\n",
        "model=sm.tsa.statespace.SARIMAX(purchase,order=(1,1, 1),seasonal_order=(1,1,2,10))\n",
        "results=model.fit()\n",
        "\n",
        "print(results.summary())\n",
        "\n",
        "model = sm.tsa.statespace.SARIMAX(train_price, order=(2, 1, 0),seasonal_order=(1,1,0,12))  \n",
        "fitted = model.fit()  \n",
        "\n",
        "# Forecast\n",
        "fc = fitted.forecast(len(test_price))  # 95% conf\n",
        "\n",
        "# Make as pandas series\n",
        "fc_series = pd.Series(data = fc)\n",
        "lower_series = pd.Series(conf[:, 0])\n",
        "upper_series = pd.Series(conf[:, 1])\n",
        "print(fitted.summary())\n",
        "\n",
        "rmse_price_sarimax = sqrt(mean_squared_error(test_price, fc_series))\n",
        "print(rmse_price_sarimax)"
      ],
      "metadata": {
        "colab": {
          "base_uri": "https://localhost:8080/"
        },
        "id": "G03PSlCbDYPq",
        "outputId": "c7e49d89-3061-4bcb-a466-d5e9b79cd1d8"
      },
      "execution_count": 168,
      "outputs": [
        {
          "output_type": "stream",
          "name": "stdout",
          "text": [
            "                                 Statespace Model Results                                 \n",
            "==========================================================================================\n",
            "Dep. Variable:                                  y   No. Observations:                  891\n",
            "Model:             SARIMAX(1, 1, 1)x(1, 1, 2, 10)   Log Likelihood               -2045.529\n",
            "Date:                            Tue, 05 Apr 2022   AIC                           4103.058\n",
            "Time:                                    05:04:58   BIC                           4131.738\n",
            "Sample:                                         0   HQIC                          4114.026\n",
            "                                            - 891                                         \n",
            "Covariance Type:                              opg                                         \n",
            "==============================================================================\n",
            "                 coef    std err          z      P>|z|      [0.025      0.975]\n",
            "------------------------------------------------------------------------------\n",
            "ar.L1          0.3563      0.032     11.171      0.000       0.294       0.419\n",
            "ma.L1         -0.8992      0.016    -56.211      0.000      -0.931      -0.868\n",
            "ar.S.L10      -0.9976      0.032    -31.135      0.000      -1.060      -0.935\n",
            "ma.S.L10      -0.0073     18.097     -0.000      1.000     -35.477      35.462\n",
            "ma.S.L20      -0.9927     17.973     -0.055      0.956     -36.219      34.233\n",
            "sigma2         5.7857    104.728      0.055      0.956    -199.478     211.050\n",
            "===================================================================================\n",
            "Ljung-Box (Q):                       67.02   Jarque-Bera (JB):                97.25\n",
            "Prob(Q):                              0.00   Prob(JB):                         0.00\n",
            "Heteroskedasticity (H):               0.84   Skew:                            -0.03\n",
            "Prob(H) (two-sided):                  0.15   Kurtosis:                         4.63\n",
            "===================================================================================\n",
            "\n",
            "Warnings:\n",
            "[1] Covariance matrix calculated using the outer product of gradients (complex-step).\n",
            "                                 Statespace Model Results                                 \n",
            "==========================================================================================\n",
            "Dep. Variable:                                  y   No. Observations:                  713\n",
            "Model:             SARIMAX(2, 1, 0)x(1, 1, 0, 12)   Log Likelihood               -1835.129\n",
            "Date:                            Tue, 05 Apr 2022   AIC                           3678.258\n",
            "Time:                                    05:04:59   BIC                           3696.463\n",
            "Sample:                                         0   HQIC                          3685.295\n",
            "                                            - 713                                         \n",
            "Covariance Type:                              opg                                         \n",
            "==============================================================================\n",
            "                 coef    std err          z      P>|z|      [0.025      0.975]\n",
            "------------------------------------------------------------------------------\n",
            "ar.L1         -0.4482      0.033    -13.517      0.000      -0.513      -0.383\n",
            "ar.L2         -0.2010      0.031     -6.465      0.000      -0.262      -0.140\n",
            "ar.S.L12      -0.4990      0.029    -17.494      0.000      -0.555      -0.443\n",
            "sigma2        11.0243      0.472     23.343      0.000      10.099      11.950\n",
            "===================================================================================\n",
            "Ljung-Box (Q):                      139.32   Jarque-Bera (JB):                38.06\n",
            "Prob(Q):                              0.00   Prob(JB):                         0.00\n",
            "Heteroskedasticity (H):               1.38   Skew:                            -0.03\n",
            "Prob(H) (two-sided):                  0.02   Kurtosis:                         4.14\n",
            "===================================================================================\n",
            "\n",
            "Warnings:\n",
            "[1] Covariance matrix calculated using the outer product of gradients (complex-step).\n",
            "6.638114671797005\n"
          ]
        }
      ]
    },
    {
      "cell_type": "markdown",
      "source": [
        "GRID SEARCH"
      ],
      "metadata": {
        "id": "w6nwnVfnHMNz"
      }
    },
    {
      "cell_type": "code",
      "source": [
        "import itertools\n",
        "\n",
        "#set parameter range\n",
        "\n",
        "p = range(0,4)\n",
        "q= range(0,4)\n",
        "d = [0, 1, 2]\n",
        "s = [0,10,26]\n",
        "# list of all parameter combos\n",
        "pdq = list(itertools.product(p, d, q))\n",
        "seasonal_pdq = list(itertools.product(p, d, q, s))\n",
        "df6=pd.DataFrame(columns=[\"AIC\",\"Attributes\"])\n",
        "i=0\n",
        "# SARIMA model pipeline\n",
        "for param in pdq:\n",
        "    for param_seasonal in seasonal_pdq:\n",
        "        try:\n",
        "            mod = sm.tsa.statespace.SARIMAX(train_price,order = param, seasonal_order=param_seasonal)\n",
        "            results = mod.fit(max_iter = 50, method = 'powell')\n",
        "            df6.loc[i,\"AIC\"]=results.aic\n",
        "            add_list=list(param + param_seasonal)\n",
        "            df6.loc[i,\"Attributes\"]=add_list\n",
        "        except:\n",
        "            continue\n",
        "    i=i+1"
      ],
      "metadata": {
        "colab": {
          "base_uri": "https://localhost:8080/"
        },
        "id": "wX2CkRzsHLwH",
        "outputId": "aa19d694-4e0b-4846-a2b8-3a2e6db1cee5"
      },
      "execution_count": null,
      "outputs": [
        {
          "output_type": "stream",
          "name": "stdout",
          "text": [
            "Optimization terminated successfully.\n",
            "         Current function value: 4.463670\n",
            "         Iterations: 1\n",
            "         Function evaluations: 28\n",
            "Optimization terminated successfully.\n",
            "         Current function value: 4.463670\n",
            "         Iterations: 1\n",
            "         Function evaluations: 28\n",
            "Optimization terminated successfully.\n",
            "         Current function value: 4.463670\n",
            "         Iterations: 1\n",
            "         Function evaluations: 28\n",
            "Optimization terminated successfully.\n",
            "         Current function value: 3.895531\n",
            "         Iterations: 2\n",
            "         Function evaluations: 48\n",
            "Optimization terminated successfully.\n",
            "         Current function value: 3.948326\n",
            "         Iterations: 3\n",
            "         Function evaluations: 98\n",
            "Optimization terminated successfully.\n",
            "         Current function value: 3.980403\n",
            "         Iterations: 3\n",
            "         Function evaluations: 89\n",
            "Optimization terminated successfully.\n",
            "         Current function value: 3.542682\n",
            "         Iterations: 3\n",
            "         Function evaluations: 112\n",
            "Optimization terminated successfully.\n",
            "         Current function value: 3.621633\n",
            "         Iterations: 4\n",
            "         Function evaluations: 145\n",
            "Optimization terminated successfully.\n",
            "         Current function value: 3.672785\n",
            "         Iterations: 4\n",
            "         Function evaluations: 144\n",
            "Optimization terminated successfully.\n",
            "         Current function value: 3.281895\n",
            "         Iterations: 4\n",
            "         Function evaluations: 215\n",
            "Optimization terminated successfully.\n",
            "         Current function value: 3.436600\n",
            "         Iterations: 4\n",
            "         Function evaluations: 188\n",
            "Optimization terminated successfully.\n",
            "         Current function value: 3.505929\n",
            "         Iterations: 4\n",
            "         Function evaluations: 194\n",
            "Optimization terminated successfully.\n",
            "         Current function value: 2.780635\n",
            "         Iterations: 1\n",
            "         Function evaluations: 12\n",
            "Optimization terminated successfully.\n",
            "         Current function value: 2.780644\n",
            "         Iterations: 2\n",
            "         Function evaluations: 49\n",
            "Optimization terminated successfully.\n",
            "         Current function value: 2.565500\n",
            "         Iterations: 2\n",
            "         Function evaluations: 52\n",
            "Optimization terminated successfully.\n",
            "         Current function value: 2.561372\n",
            "         Iterations: 3\n",
            "         Function evaluations: 85\n",
            "Optimization terminated successfully.\n",
            "         Current function value: 2.562774\n",
            "         Iterations: 3\n",
            "         Function evaluations: 114\n",
            "Optimization terminated successfully.\n",
            "         Current function value: 2.558230\n",
            "         Iterations: 3\n",
            "         Function evaluations: 117\n",
            "Optimization terminated successfully.\n",
            "         Current function value: 2.558465\n",
            "         Iterations: 2\n",
            "         Function evaluations: 90\n",
            "Optimization terminated successfully.\n",
            "         Current function value: 2.558179\n",
            "         Iterations: 3\n",
            "         Function evaluations: 143\n",
            "Optimization terminated successfully.\n",
            "         Current function value: 3.271923\n",
            "         Iterations: 1\n",
            "         Function evaluations: 12\n",
            "Optimization terminated successfully.\n",
            "         Current function value: 3.180149\n",
            "         Iterations: 2\n",
            "         Function evaluations: 42\n"
          ]
        },
        {
          "output_type": "stream",
          "name": "stderr",
          "text": [
            "/usr/local/lib/python3.7/dist-packages/statsmodels/tsa/statespace/sarimax.py:993: UserWarning: Non-invertible starting seasonal moving average Using zeros as starting parameters.\n",
            "  warn('Non-invertible starting seasonal moving average'\n"
          ]
        },
        {
          "output_type": "stream",
          "name": "stdout",
          "text": [
            "Optimization terminated successfully.\n",
            "         Current function value: 2.778684\n",
            "         Iterations: 2\n",
            "         Function evaluations: 57\n",
            "Optimization terminated successfully.\n",
            "         Current function value: 2.754258\n",
            "         Iterations: 3\n",
            "         Function evaluations: 84\n",
            "Optimization terminated successfully.\n",
            "         Current function value: 2.583313\n",
            "         Iterations: 3\n",
            "         Function evaluations: 121\n",
            "Optimization terminated successfully.\n",
            "         Current function value: 2.586976\n",
            "         Iterations: 4\n",
            "         Function evaluations: 156\n",
            "Optimization terminated successfully.\n",
            "         Current function value: 2.582507\n",
            "         Iterations: 3\n",
            "         Function evaluations: 156\n",
            "Optimization terminated successfully.\n",
            "         Current function value: 2.583587\n",
            "         Iterations: 5\n",
            "         Function evaluations: 241\n",
            "Optimization terminated successfully.\n",
            "         Current function value: 2.530753\n",
            "         Iterations: 1\n",
            "         Function evaluations: 24\n",
            "Optimization terminated successfully.\n",
            "         Current function value: 2.840124\n",
            "         Iterations: 2\n",
            "         Function evaluations: 57\n",
            "Optimization terminated successfully.\n",
            "         Current function value: 2.941006\n",
            "         Iterations: 2\n",
            "         Function evaluations: 55\n",
            "Optimization terminated successfully.\n",
            "         Current function value: 2.399605\n",
            "         Iterations: 3\n",
            "         Function evaluations: 124\n",
            "Optimization terminated successfully.\n",
            "         Current function value: 2.628422\n",
            "         Iterations: 2\n",
            "         Function evaluations: 94\n",
            "Optimization terminated successfully.\n",
            "         Current function value: 2.723769\n",
            "         Iterations: 2\n",
            "         Function evaluations: 98\n",
            "Optimization terminated successfully.\n",
            "         Current function value: 2.392059\n",
            "         Iterations: 3\n",
            "         Function evaluations: 152\n",
            "Optimization terminated successfully.\n",
            "         Current function value: 2.625617\n",
            "         Iterations: 2\n",
            "         Function evaluations: 110\n",
            "Optimization terminated successfully.\n",
            "         Current function value: 2.722467\n",
            "         Iterations: 3\n",
            "         Function evaluations: 222\n",
            "Optimization terminated successfully.\n",
            "         Current function value: 2.380121\n",
            "         Iterations: 3\n",
            "         Function evaluations: 183\n",
            "Optimization terminated successfully.\n",
            "         Current function value: 2.620954\n",
            "         Iterations: 2\n",
            "         Function evaluations: 134\n",
            "Optimization terminated successfully.\n",
            "         Current function value: 2.721925\n",
            "         Iterations: 3\n",
            "         Function evaluations: 222\n",
            "Optimization terminated successfully.\n",
            "         Current function value: 2.653542\n",
            "         Iterations: 1\n",
            "         Function evaluations: 25\n",
            "Optimization terminated successfully.\n",
            "         Current function value: 2.665033\n",
            "         Iterations: 1\n",
            "         Function evaluations: 25\n",
            "Optimization terminated successfully.\n",
            "         Current function value: 2.561571\n",
            "         Iterations: 6\n",
            "         Function evaluations: 228\n",
            "Optimization terminated successfully.\n",
            "         Current function value: 2.558851\n",
            "         Iterations: 3\n",
            "         Function evaluations: 113\n",
            "Optimization terminated successfully.\n",
            "         Current function value: 2.565082\n",
            "         Iterations: 3\n",
            "         Function evaluations: 155\n",
            "Optimization terminated successfully.\n",
            "         Current function value: 2.559596\n",
            "         Iterations: 3\n",
            "         Function evaluations: 154\n",
            "Optimization terminated successfully.\n",
            "         Current function value: 2.559981\n",
            "         Iterations: 3\n",
            "         Function evaluations: 184\n",
            "Optimization terminated successfully.\n",
            "         Current function value: 2.558170\n",
            "         Iterations: 2\n",
            "         Function evaluations: 118\n",
            "Optimization terminated successfully.\n",
            "         Current function value: 2.994609\n",
            "         Iterations: 1\n",
            "         Function evaluations: 25\n",
            "Optimization terminated successfully.\n",
            "         Current function value: 2.926465\n",
            "         Iterations: 1\n",
            "         Function evaluations: 24\n",
            "Optimization terminated successfully.\n",
            "         Current function value: 2.657576\n",
            "         Iterations: 3\n",
            "         Function evaluations: 125\n",
            "Optimization terminated successfully.\n",
            "         Current function value: 2.652603\n",
            "         Iterations: 3\n",
            "         Function evaluations: 122\n",
            "Optimization terminated successfully.\n",
            "         Current function value: 2.582331\n",
            "         Iterations: 7\n",
            "         Function evaluations: 365\n",
            "Optimization terminated successfully.\n",
            "         Current function value: 2.583208\n",
            "         Iterations: 8\n",
            "         Function evaluations: 388\n",
            "Optimization terminated successfully.\n",
            "         Current function value: 2.583081\n",
            "         Iterations: 3\n",
            "         Function evaluations: 185\n",
            "Optimization terminated successfully.\n",
            "         Current function value: 2.586759\n",
            "         Iterations: 4\n",
            "         Function evaluations: 247\n",
            "Optimization terminated successfully.\n",
            "         Current function value: 2.439884\n",
            "         Iterations: 1\n",
            "         Function evaluations: 36\n",
            "Optimization terminated successfully.\n",
            "         Current function value: 2.715772\n",
            "         Iterations: 2\n",
            "         Function evaluations: 100\n",
            "Optimization terminated successfully.\n",
            "         Current function value: 2.828177\n",
            "         Iterations: 2\n",
            "         Function evaluations: 91\n",
            "Optimization terminated successfully.\n",
            "         Current function value: 2.383600\n",
            "         Iterations: 5\n",
            "         Function evaluations: 253\n",
            "Optimization terminated successfully.\n",
            "         Current function value: 2.624954\n",
            "         Iterations: 5\n",
            "         Function evaluations: 246\n",
            "Optimization terminated successfully.\n",
            "         Current function value: 2.720549\n",
            "         Iterations: 6\n",
            "         Function evaluations: 307\n",
            "Optimization terminated successfully.\n",
            "         Current function value: 2.396849\n",
            "         Iterations: 3\n",
            "         Function evaluations: 185\n",
            "Optimization terminated successfully.\n",
            "         Current function value: 2.627360\n",
            "         Iterations: 2\n",
            "         Function evaluations: 145\n",
            "Optimization terminated successfully.\n",
            "         Current function value: 2.724261\n",
            "         Iterations: 2\n",
            "         Function evaluations: 182\n",
            "Optimization terminated successfully.\n",
            "         Current function value: 2.390804\n",
            "         Iterations: 3\n",
            "         Function evaluations: 213\n",
            "Optimization terminated successfully.\n",
            "         Current function value: 2.622148\n",
            "         Iterations: 2\n",
            "         Function evaluations: 169\n",
            "Optimization terminated successfully.\n",
            "         Current function value: 2.722177\n",
            "         Iterations: 2\n",
            "         Function evaluations: 263\n",
            "Optimization terminated successfully.\n",
            "         Current function value: 2.610667\n",
            "         Iterations: 1\n",
            "         Function evaluations: 37\n",
            "Optimization terminated successfully.\n",
            "         Current function value: 2.623049\n",
            "         Iterations: 1\n",
            "         Function evaluations: 37\n",
            "Optimization terminated successfully.\n",
            "         Current function value: 2.554803\n",
            "         Iterations: 8\n",
            "         Function evaluations: 406\n",
            "Optimization terminated successfully.\n",
            "         Current function value: 2.558194\n",
            "         Iterations: 4\n",
            "         Function evaluations: 207\n",
            "Optimization terminated successfully.\n",
            "         Current function value: 2.559175\n",
            "         Iterations: 4\n",
            "         Function evaluations: 244\n",
            "Optimization terminated successfully.\n",
            "         Current function value: 2.558069\n",
            "         Iterations: 3\n",
            "         Function evaluations: 185\n",
            "Optimization terminated successfully.\n",
            "         Current function value: 2.560457\n",
            "         Iterations: 3\n",
            "         Function evaluations: 232\n",
            "Optimization terminated successfully.\n",
            "         Current function value: 2.558812\n",
            "         Iterations: 3\n",
            "         Function evaluations: 227\n",
            "Optimization terminated successfully.\n",
            "         Current function value: 2.876005\n",
            "         Iterations: 1\n",
            "         Function evaluations: 38\n",
            "Optimization terminated successfully.\n",
            "         Current function value: 2.798425\n",
            "         Iterations: 1\n",
            "         Function evaluations: 37\n",
            "Optimization terminated successfully.\n",
            "         Current function value: 2.618459\n",
            "         Iterations: 3\n",
            "         Function evaluations: 169\n",
            "Optimization terminated successfully.\n",
            "         Current function value: 2.619471\n",
            "         Iterations: 3\n",
            "         Function evaluations: 153\n",
            "Optimization terminated successfully.\n",
            "         Current function value: 2.577860\n",
            "         Iterations: 9\n",
            "         Function evaluations: 598\n",
            "Optimization terminated successfully.\n",
            "         Current function value: 2.583575\n",
            "         Iterations: 11\n",
            "         Function evaluations: 667\n",
            "Optimization terminated successfully.\n",
            "         Current function value: 2.581865\n",
            "         Iterations: 5\n",
            "         Function evaluations: 377\n",
            "Optimization terminated successfully.\n",
            "         Current function value: 2.420994\n",
            "         Iterations: 1\n",
            "         Function evaluations: 48\n",
            "Optimization terminated successfully.\n",
            "         Current function value: 2.673506\n",
            "         Iterations: 2\n",
            "         Function evaluations: 138\n",
            "Optimization terminated successfully.\n",
            "         Current function value: 2.786414\n",
            "         Iterations: 2\n",
            "         Function evaluations: 113\n",
            "Optimization terminated successfully.\n",
            "         Current function value: 2.371582\n",
            "         Iterations: 9\n",
            "         Function evaluations: 552\n",
            "Optimization terminated successfully.\n",
            "         Current function value: 2.618546\n",
            "         Iterations: 8\n",
            "         Function evaluations: 519\n",
            "Optimization terminated successfully.\n",
            "         Current function value: 2.621312\n",
            "         Iterations: 5\n",
            "         Function evaluations: 373\n",
            "Optimization terminated successfully.\n",
            "         Current function value: 2.720508\n",
            "         Iterations: 5\n",
            "         Function evaluations: 379\n",
            "Optimization terminated successfully.\n",
            "         Current function value: 2.371679\n",
            "         Iterations: 8\n",
            "         Function evaluations: 686\n",
            "Optimization terminated successfully.\n",
            "         Current function value: 2.623125\n",
            "         Iterations: 2\n",
            "         Function evaluations: 189\n",
            "Optimization terminated successfully.\n",
            "         Current function value: 2.723440\n",
            "         Iterations: 2\n",
            "         Function evaluations: 252\n",
            "Optimization terminated successfully.\n",
            "         Current function value: 2.581326\n",
            "         Iterations: 1\n",
            "         Function evaluations: 49\n",
            "Optimization terminated successfully.\n",
            "         Current function value: 2.604290\n",
            "         Iterations: 2\n",
            "         Function evaluations: 97\n",
            "Optimization terminated successfully.\n",
            "         Current function value: 2.561119\n",
            "         Iterations: 11\n",
            "         Function evaluations: 666\n",
            "Optimization terminated successfully.\n",
            "         Current function value: 2.558141\n",
            "         Iterations: 7\n",
            "         Function evaluations: 426\n",
            "Optimization terminated successfully.\n",
            "         Current function value: 2.554314\n",
            "         Iterations: 6\n",
            "         Function evaluations: 437\n",
            "Optimization terminated successfully.\n",
            "         Current function value: 2.557758\n",
            "         Iterations: 4\n",
            "         Function evaluations: 295\n",
            "Optimization terminated successfully.\n",
            "         Current function value: 2.557933\n",
            "         Iterations: 5\n",
            "         Function evaluations: 437\n",
            "Optimization terminated successfully.\n",
            "         Current function value: 2.558081\n",
            "         Iterations: 4\n",
            "         Function evaluations: 344\n",
            "Optimization terminated successfully.\n",
            "         Current function value: 2.771305\n",
            "         Iterations: 1\n",
            "         Function evaluations: 50\n",
            "Optimization terminated successfully.\n",
            "         Current function value: 2.728010\n",
            "         Iterations: 1\n",
            "         Function evaluations: 49\n",
            "Optimization terminated successfully.\n",
            "         Current function value: 2.592545\n",
            "         Iterations: 4\n",
            "         Function evaluations: 260\n",
            "Optimization terminated successfully.\n",
            "         Current function value: 2.607192\n",
            "         Iterations: 5\n",
            "         Function evaluations: 325\n",
            "Optimization terminated successfully.\n",
            "         Current function value: 2.574998\n",
            "         Iterations: 12\n",
            "         Function evaluations: 995\n",
            "Optimization terminated successfully.\n",
            "         Current function value: 2.611426\n",
            "         Iterations: 3\n",
            "         Function evaluations: 227\n",
            "Optimization terminated successfully.\n",
            "         Current function value: 2.577284\n",
            "         Iterations: 8\n",
            "         Function evaluations: 728\n"
          ]
        }
      ]
    },
    {
      "cell_type": "markdown",
      "source": [
        "## Random Forest"
      ],
      "metadata": {
        "id": "Xwi1_hGLSUxC"
      }
    },
    {
      "cell_type": "code",
      "source": [
        "df_2 = df_price.groupby(['Year','Date']).agg(sum_q=('Quantity',sum),price = ('Rate','mean')).reset_index()\n",
        "\n",
        "df_2.sort_values(['Year','Date'],inplace =True)\n",
        "\n",
        "df_3 = df_sales.groupby(['Year','Date']).agg(sum_weight=('Weight',sum),Discount=('Adj_Dis','median'),Unit_Rate = ('Unit_Price_Dis','mean')).reset_index()\n",
        "\n",
        "df_3[['sum_weight','Unit_Rate']] = df_3[['sum_weight','Unit_Rate']].shift(1,axis=0)\n",
        "df_randprice = pd.merge(df_3, df_2,on=['Year','Date'] ,how = 'left')\n",
        "\n",
        "df_randprice.dropna(inplace=True)\n",
        "\n",
        "del df_randprice['Date']\n",
        "del df_randprice['Year']\n",
        "#del df_rand['Product']\n",
        "#del df_rand['Bag']\n",
        "labels = np.array(df_randprice['price'])\n",
        "feature_list = list(df_randprice.columns.values)\n",
        "                          \n",
        "del df_randprice['price']\n",
        "df_randprice = np.array(df_randprice)\n",
        "\n",
        "# Using Skicit-learn to split data into training and testing sets\n",
        "from sklearn.model_selection import train_test_split\n",
        "# Split the data into training and testing sets\n",
        "train_features, test_features, train_labels, test_labels = train_test_split(df_randprice, labels, test_size = 0.2, random_state = 1000)\n",
        "\n",
        "\n",
        "\n",
        "print('Training Features Shape:', train_features.shape)\n",
        "print('Training Labels Shape:', train_labels.shape)\n",
        "print('Testing Features Shape:', test_features.shape)\n",
        "print('Testing Labels Shape:', test_labels.shape)\n",
        "\n",
        "\n",
        "\n",
        "# The baseline predictions are the historical averages\n",
        "baseline_preds = test_features[:, feature_list.index('Unit_Rate')]\n",
        "# Baseline errors, and display average baseline error\n",
        "baseline_errors = abs(baseline_preds - test_labels)\n",
        "print('Average baseline error: ', round(np.mean(baseline_errors)))\n",
        "\n",
        "\n",
        "# Import the model we are using\n",
        "from sklearn.ensemble import RandomForestRegressor\n",
        "# Instantiate model with 1000 decision trees\n",
        "rf_price = RandomForestRegressor(n_estimators = 1000, random_state = 42)\n",
        "# Train the model on training data\n",
        "rf_price.fit(train_features, train_labels)\n",
        "\n",
        "# Use the forest's predict method on the test data\n",
        "predictions_price = rf_price.predict(test_features)\n",
        "# Calculate the absolute errors\n",
        "errors_price = abs(predictions_price - test_labels)\n",
        "# Print out the mean absolute error (mae)\n",
        "print('Mean Absolute Error:', round(np.mean(errors), 2), 'degrees.')\n",
        "\n",
        "# Calculate mean absolute percentage error (MAPE)\n",
        "mape_price_rf = 100 * (errors_price / test_labels)\n",
        "# Calculate and display accuracy\n",
        "accuracy_price_rf = 100 - np.mean(mape_price_rf)\n",
        "print('Accuracy:', round(accuracy_price_rf, 2), '%.')\n",
        "\n",
        "\n",
        "\n",
        "from sklearn.metrics import mean_squared_error\n",
        "rmse_price_rf = math.sqrt(mean_squared_error(test_labels, predictions_price))\n",
        "print('RMSE of Random Forest =',round(rmse_price_rf))\n",
        "\n",
        "#mape_rf = mape(test_labels,predictions)\n",
        "#print(mape_rf)\n",
        "\n",
        "def evaluate(model, test_features, test_labels):\n",
        "    predictions = model.predict(test_features)\n",
        "    errors = abs(predictions - test_labels)\n",
        "    mape = 100 * np.mean(errors / test_labels)\n",
        "    accuracy = 100 - mape\n",
        "    print('Model Performance')\n",
        "    print('Average Error: {:0.4f} degrees.'.format(np.mean(errors)))\n",
        "    print('Accuracy = {:0.2f}%.'.format(accuracy))\n",
        "    \n",
        "    return accuracy\n",
        "base_model = RandomForestRegressor(n_estimators = 10, random_state = 42)\n",
        "base_model.fit(train_features, train_labels)\n",
        "base_accuracy = evaluate(base_model, test_features, test_labels)\n",
        "\n",
        "from sklearn.model_selection import GridSearchCV\n",
        "# Create the parameter grid based on the results of random search \n",
        "param_grid = {\n",
        "    'bootstrap': [True],\n",
        "    'max_depth': [80, 90, 100, 110],\n",
        "    'max_features': [2, 4],\n",
        "    'min_samples_leaf': [3, 4, 5],\n",
        "    'min_samples_split': [8, 10, 12],\n",
        "    'n_estimators': [100, 200, 300, 1000]}\n",
        "# Create a based model\n",
        "rf = RandomForestRegressor()\n",
        "#Instantiate the grid search model\n",
        "\n",
        "grid_search = GridSearchCV(estimator = rf, param_grid = param_grid, cv = 3, n_jobs = -1, verbose = 2)\n",
        "\n",
        "\n",
        "# Fit the grid search to the data\n",
        "grid_search.fit(train_features, train_labels)\n",
        "#grid_search.best_params_\n",
        "\n",
        "\n",
        "best_grid = grid_search.best_estimator_\n",
        "grid_accuracy = evaluate(best_grid, test_features, test_labels)\n",
        "\n",
        "print('Improvement of {:0.2f}%.'.format( 100 * (grid_accuracy - base_accuracy) / base_accuracy))"
      ],
      "metadata": {
        "colab": {
          "base_uri": "https://localhost:8080/"
        },
        "id": "RIRK6lE6HiGE",
        "outputId": "aa4239ca-9b07-4e18-d7d0-a3652affacc3"
      },
      "execution_count": null,
      "outputs": [
        {
          "output_type": "stream",
          "name": "stdout",
          "text": [
            "Training Features Shape: (688, 4)\n",
            "Training Labels Shape: (688,)\n",
            "Testing Features Shape: (173, 4)\n",
            "Testing Labels Shape: (173,)\n",
            "Average baseline error:  176\n",
            "Mean Absolute Error: 89.0 degrees.\n",
            "Accuracy: 87.27 %.\n",
            "RMSE of Random Forest = 3\n",
            "Model Performance\n",
            "Average Error: 2.5718 degrees.\n",
            "Accuracy = 87.23%.\n"
          ]
        }
      ]
    },
    {
      "cell_type": "code",
      "source": [
        "predictions_price_rf = best_grid.predict(test_features)\n",
        "mape_purchase_rf = MAPE(predictions_demand_rf,test_labels)\n",
        "rmse_purchase_rf = math.sqrt(mean_squared_error(test_labels, predictions_demand_rf))\n",
        "mse_purchase_rf = MSE(predictions_demand_rf,test_labels)"
      ],
      "metadata": {
        "id": "KCaLEVl1LBep"
      },
      "execution_count": null,
      "outputs": []
    },
    {
      "cell_type": "code",
      "source": [
        "df_forecast_price[\"Random_Forest\"] = predictions_price_rf\n",
        "\n",
        "df_errors_price.loc[\"Random_Forest\",\"MAPE\"] = mape_purchase_rf\n",
        "df_errors_price.loc[\"Random_Forest\",\"RMSE\"] = rmse_purchase_rf\n",
        "df_errors_price.loc[\"Random_Forest\",\"MSE\"] = mse_purchase_rf"
      ],
      "metadata": {
        "id": "7J-QUYPOSagq"
      },
      "execution_count": null,
      "outputs": []
    },
    {
      "cell_type": "markdown",
      "source": [
        "# Optimisation Problem"
      ],
      "metadata": {
        "id": "uppDuvKQHUOX"
      }
    },
    {
      "cell_type": "code",
      "source": [
        "#Demand and Price Predictions"
      ],
      "metadata": {
        "id": "6NBqRgRwHaYH"
      },
      "execution_count": 97,
      "outputs": []
    },
    {
      "cell_type": "code",
      "source": [
        "Price_Predictions = list(fc[-120:])"
      ],
      "metadata": {
        "id": "tp1OPVJIF5FM"
      },
      "execution_count": 98,
      "outputs": []
    },
    {
      "cell_type": "code",
      "source": [
        "print(Price_Predictions.count())"
      ],
      "metadata": {
        "colab": {
          "base_uri": "https://localhost:8080/",
          "height": 168
        },
        "id": "3_zoDr8KIHeo",
        "outputId": "7a42f563-e731-45ca-a3ec-ee23843cc616"
      },
      "execution_count": 99,
      "outputs": [
        {
          "output_type": "error",
          "ename": "TypeError",
          "evalue": "ignored",
          "traceback": [
            "\u001b[0;31m---------------------------------------------------------------------------\u001b[0m",
            "\u001b[0;31mTypeError\u001b[0m                                 Traceback (most recent call last)",
            "\u001b[0;32m<ipython-input-99-89c4b606f1bf>\u001b[0m in \u001b[0;36m<module>\u001b[0;34m()\u001b[0m\n\u001b[0;32m----> 1\u001b[0;31m \u001b[0mprint\u001b[0m\u001b[0;34m(\u001b[0m\u001b[0mPrice_Predictions\u001b[0m\u001b[0;34m.\u001b[0m\u001b[0mcount\u001b[0m\u001b[0;34m(\u001b[0m\u001b[0;34m)\u001b[0m\u001b[0;34m)\u001b[0m\u001b[0;34m\u001b[0m\u001b[0;34m\u001b[0m\u001b[0m\n\u001b[0m",
            "\u001b[0;31mTypeError\u001b[0m: count() takes exactly one argument (0 given)"
          ]
        }
      ]
    },
    {
      "cell_type": "code",
      "source": [
        "Demand_Predictions = [round(x)*2 for x in (predictions_demand)]\n",
        "print(Demand_Predictions)"
      ],
      "metadata": {
        "id": "9bWTa4JnIKK7"
      },
      "execution_count": null,
      "outputs": []
    },
    {
      "cell_type": "code",
      "source": [
        "# Install Pyomo and GLPK\n",
        "!pip install -q pyomo\n",
        "!apt-get install -y -qq glpk-utils #if GLPK is used"
      ],
      "metadata": {
        "id": "bylV54u9Il0s"
      },
      "execution_count": null,
      "outputs": []
    },
    {
      "cell_type": "code",
      "source": [
        "from pyomo.environ import *\n",
        "\n",
        "model = ConcreteModel()\n",
        "\n",
        "iIndexList = list(range(len(Price_Predictions)))\n",
        "jIndexList = list(range(4))\n",
        "\n",
        "\n",
        "# Variables\n",
        "model.x = Var(iIndexList, within = NonNegativeReals)\n",
        "model.y = Var(jIndexList, within = NonNegativeReals)\n",
        "\n",
        "model.pprint()"
      ],
      "metadata": {
        "id": "a4FmaAwKLgx2"
      },
      "execution_count": null,
      "outputs": []
    },
    {
      "cell_type": "code",
      "source": [
        "# Objective function\n",
        "\n",
        "obj_expr = sum(Price_Predictions[i] * model.x[(i)] for i in iIndexList)\n",
        "print(obj_expr)\n",
        "model.OBJ = Objective(expr = obj_expr, sense = minimize)\n"
      ],
      "metadata": {
        "id": "yPjxJjtgMVCt"
      },
      "execution_count": null,
      "outputs": []
    },
    {
      "cell_type": "code",
      "source": [
        "model.constraint1 = ConstraintList()"
      ],
      "metadata": {
        "id": "RUar0i5gmF02"
      },
      "execution_count": null,
      "outputs": []
    },
    {
      "cell_type": "code",
      "source": [
        "model.constraint2 = ConstraintList()"
      ],
      "metadata": {
        "id": "AxstgGLTZ9fC"
      },
      "execution_count": null,
      "outputs": []
    },
    {
      "cell_type": "code",
      "source": [
        "model.constraint3 = ConstraintList()"
      ],
      "metadata": {
        "id": "cI-RmAnnTDxC"
      },
      "execution_count": null,
      "outputs": []
    },
    {
      "cell_type": "code",
      "source": [
        "for i in range(0,120,30):\n",
        "  const_expr = - model.y[(i/30)] + sum(model.x[(k)] for k in range(i,i+30)) >= Demand_Predictions[round(i/30)]\n",
        "  print(const_expr)\n",
        "  model.constraint2.add(expr = const_expr)"
      ],
      "metadata": {
        "id": "ce3CmabUOG6R"
      },
      "execution_count": null,
      "outputs": []
    },
    {
      "cell_type": "code",
      "source": [
        "for j in range(4):\n",
        "  const_expr = model.y[j] == 100\n",
        "  print(const_expr)\n",
        "  model.constraint1.add(expr = const_expr)"
      ],
      "metadata": {
        "id": "QlivCnLZPDCX"
      },
      "execution_count": null,
      "outputs": []
    },
    {
      "cell_type": "code",
      "source": [
        "for i in iIndexList:\n",
        "  const_expr = model.x[i] <= 160\n",
        "  print(const_expr)\n",
        "  model.constraint1.add(expr = const_expr)"
      ],
      "metadata": {
        "id": "1ED1sZM7QQ05"
      },
      "execution_count": null,
      "outputs": []
    },
    {
      "cell_type": "code",
      "source": [
        "model.pprint()"
      ],
      "metadata": {
        "id": "aHE_7tGxjqHu"
      },
      "execution_count": null,
      "outputs": []
    },
    {
      "cell_type": "code",
      "source": [
        "# Solve the model\n",
        "opt = SolverFactory('glpk')\n",
        "opt.solve(model) \n",
        "\n",
        "model.display()"
      ],
      "metadata": {
        "id": "Tv9BrjldgybD"
      },
      "execution_count": null,
      "outputs": []
    },
    {
      "cell_type": "code",
      "source": [
        ""
      ],
      "metadata": {
        "id": "h60lAisdg9In"
      },
      "execution_count": null,
      "outputs": []
    }
  ]
}